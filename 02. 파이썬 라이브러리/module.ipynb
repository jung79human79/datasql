{
 "cells": [
  {
   "cell_type": "code",
   "execution_count": null,
   "id": "d560047d",
   "metadata": {},
   "outputs": [],
   "source": [
    "# 계산기 불러오기\n",
    "import calcal as cal"
   ]
  },
  {
   "cell_type": "code",
   "execution_count": null,
   "id": "f5ac4862",
   "metadata": {},
   "outputs": [],
   "source": [
    "cal.add(1,2)"
   ]
  },
  {
   "cell_type": "code",
   "execution_count": null,
   "id": "c3d56805",
   "metadata": {},
   "outputs": [],
   "source": [
    "cal.minus(5,2)"
   ]
  },
  {
   "cell_type": "code",
   "execution_count": 1,
   "id": "14b34144",
   "metadata": {},
   "outputs": [],
   "source": [
    "# 특정함수만 불러오기\n",
    "from calcal import add"
   ]
  },
  {
   "cell_type": "code",
   "execution_count": 2,
   "id": "6cc148fa",
   "metadata": {},
   "outputs": [
    {
     "data": {
      "text/plain": [
       "3"
      ]
     },
     "execution_count": 2,
     "metadata": {},
     "output_type": "execute_result"
    }
   ],
   "source": [
    "add(1,2)"
   ]
  },
  {
   "cell_type": "code",
   "execution_count": 3,
   "id": "e3f385c6",
   "metadata": {},
   "outputs": [
    {
     "ename": "NameError",
     "evalue": "name 'minus' is not defined",
     "output_type": "error",
     "traceback": [
      "\u001b[1;31m---------------------------------------------------------------------------\u001b[0m",
      "\u001b[1;31mNameError\u001b[0m                                 Traceback (most recent call last)",
      "Cell \u001b[1;32mIn[3], line 1\u001b[0m\n\u001b[1;32m----> 1\u001b[0m minus(\u001b[38;5;241m5\u001b[39m,\u001b[38;5;241m2\u001b[39m)\n",
      "\u001b[1;31mNameError\u001b[0m: name 'minus' is not defined"
     ]
    }
   ],
   "source": [
    "minus(5,2)"
   ]
  },
  {
   "cell_type": "code",
   "execution_count": null,
   "id": "4b3056a1",
   "metadata": {},
   "outputs": [],
   "source": [
    "# 라이브러리= 모듈 \n",
    "# 파이썬파일 = 확장자=.py =모듈\n",
    "# calcal를 다운로드 한 것임 =.py\n"
   ]
  },
  {
   "cell_type": "code",
   "execution_count": null,
   "id": "6accc4a7",
   "metadata": {},
   "outputs": [],
   "source": []
  }
 ],
 "metadata": {
  "kernelspec": {
   "display_name": "Python 3 (ipykernel)",
   "language": "python",
   "name": "python3"
  },
  "language_info": {
   "codemirror_mode": {
    "name": "ipython",
    "version": 3
   },
   "file_extension": ".py",
   "mimetype": "text/x-python",
   "name": "python",
   "nbconvert_exporter": "python",
   "pygments_lexer": "ipython3",
   "version": "3.11.5"
  }
 },
 "nbformat": 4,
 "nbformat_minor": 5
}
