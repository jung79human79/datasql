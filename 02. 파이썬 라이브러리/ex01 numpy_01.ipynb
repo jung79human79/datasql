{
 "cells": [
  {
   "cell_type": "code",
   "execution_count": 1,
   "id": "4ad4da5c",
   "metadata": {},
   "outputs": [],
   "source": [
    "# 라이브러리 = 모듈 \n",
    "# 파이썬파일 확장자 =.py ==> 모듈\n",
    "# calcal.ipynb --> 파일 --> 다운로드as --> python.py  ==> .py확장자를 가진 파이썬 파일이 됨\n",
    "# 자바는 2차원 배열까지만 가능\n",
    "# numpy배열 다차원가능"
   ]
  },
  {
   "cell_type": "code",
   "execution_count": 2,
   "id": "da4232b7",
   "metadata": {},
   "outputs": [
    {
     "data": {
      "text/plain": [
       "[1, 2, 3, 4, 5, 1, 2, 3, 4, 5]"
      ]
     },
     "execution_count": 2,
     "metadata": {},
     "output_type": "execute_result"
    }
   ],
   "source": [
    "# 리스트와 다차원 배열의 차이점\n",
    "# 리스트는 자료형 구분없이 삽입가능 하지만 numpy배열은 타입이 같아야함\n",
    "# 왜 numpy를 쓴느가?\n",
    "list_ = [1,2,3,4,5]\n",
    "list_+list_"
   ]
  },
  {
   "cell_type": "code",
   "execution_count": 2,
   "id": "2307ba1e",
   "metadata": {},
   "outputs": [],
   "source": [
    "# numpy을 불러오고 np라고 부르겠다\n",
    "import numpy as np         # 이미지(숫자)구현 가능"
   ]
  },
  {
   "cell_type": "code",
   "execution_count": 3,
   "id": "b630f8d9",
   "metadata": {},
   "outputs": [
    {
     "data": {
      "text/plain": [
       "array([1, 2, 3, 4, 5])"
      ]
     },
     "execution_count": 3,
     "metadata": {},
     "output_type": "execute_result"
    }
   ],
   "source": [
    "# np.array() : numpy의 다차원 배열을 만드는 기능\n",
    "# 1. 리스트를 직접 넣는 법\n",
    "arr_= np.array([1,2,3,4,5])\n",
    "arr_"
   ]
  },
  {
   "cell_type": "code",
   "execution_count": 4,
   "id": "d7895131",
   "metadata": {},
   "outputs": [
    {
     "data": {
      "text/plain": [
       "array([ 2,  4,  6,  8, 10])"
      ]
     },
     "execution_count": 4,
     "metadata": {},
     "output_type": "execute_result"
    }
   ],
   "source": [
    "arr_+arr_"
   ]
  },
  {
   "cell_type": "code",
   "execution_count": 5,
   "id": "37c90a7b",
   "metadata": {},
   "outputs": [
    {
     "data": {
      "text/plain": [
       "array([1, 2, 3, 4, 5])"
      ]
     },
     "execution_count": 5,
     "metadata": {},
     "output_type": "execute_result"
    }
   ],
   "source": [
    "# 2.리스트가 담긴 변수를 넣는 법\n",
    "arr_ = np.array(list_)\n",
    "arr_                        # ([]) --> numpy의 다차원 배열\n",
    "#print(arr_)"
   ]
  },
  {
   "cell_type": "code",
   "execution_count": 6,
   "id": "99616357",
   "metadata": {},
   "outputs": [
    {
     "data": {
      "text/plain": [
       "(5,)"
      ]
     },
     "execution_count": 6,
     "metadata": {},
     "output_type": "execute_result"
    }
   ],
   "source": [
    "# 배열의 크기 확인 : shape\n",
    "arr_.shape   # (5,) 5행 1열 1이 생략됨 #실은 세로로 출력된 것임"
   ]
  },
  {
   "cell_type": "code",
   "execution_count": 59,
   "id": "1fd5738e",
   "metadata": {},
   "outputs": [
    {
     "name": "stdout",
     "output_type": "stream",
     "text": [
      "2\n",
      "[1, 2, 3]\n",
      "[4, 5, 6]\n",
      "3\n",
      "3\n",
      "1\n",
      "2\n",
      "3\n",
      "4\n",
      "5\n",
      "6\n"
     ]
    },
    {
     "data": {
      "text/plain": [
       "(2, 3)"
      ]
     },
     "execution_count": 59,
     "metadata": {},
     "output_type": "execute_result"
    }
   ],
   "source": [
    "# shape (행,열)\n",
    "list10 = [[1,2,3],\n",
    "          [4,5,6]]\n",
    "#arr2 = np.array([[1,2,3],\n",
    "#                [4,5,6]])\n",
    "arr2 = np.array(list10)\n",
    "\n",
    "print(len(list10))\n",
    "print(list10[0])\n",
    "print(list10[1])\n",
    "print(len(list10[0]))\n",
    "print(len(list10[1]))\n",
    "for i in range (len(list10[0])-1):\n",
    "    for j in range (len(list10[1])):\n",
    "        print(arr2[i][j])\n",
    "\n",
    "arr2.shape[0]\n",
    "arr2.shape[1]\n",
    "arr2.shape  # 2행3열"
   ]
  },
  {
   "cell_type": "code",
   "execution_count": 31,
   "id": "df36ece4",
   "metadata": {},
   "outputs": [
    {
     "name": "stdout",
     "output_type": "stream",
     "text": [
      "1\n",
      "2\n",
      "3\n",
      "4\n",
      "5\n",
      "6\n"
     ]
    }
   ],
   "source": [
    "for i in range (arr2.shape[0]):      #(0,2) --> (0,1)\n",
    "    for j in range (arr2.shape[1]):  #(0,3) --> (0,2)\n",
    "        print(arr2[i][j])"
   ]
  },
  {
   "cell_type": "code",
   "execution_count": 54,
   "id": "344dfd51",
   "metadata": {},
   "outputs": [
    {
     "name": "stdout",
     "output_type": "stream",
     "text": [
      "[[0, 0, 0, 1, 1, 1], [0, 1, 2, 0, 1, 2]]\n"
     ]
    }
   ],
   "source": [
    "list200=[[],[]]\n",
    "for i in range (0,2):      \n",
    "    for j in range (0,3):  \n",
    "        list200[0].append(i)\n",
    "        list200[1].append(j)\n",
    "print(list200)"
   ]
  },
  {
   "cell_type": "code",
   "execution_count": 58,
   "id": "49ca5f3b",
   "metadata": {},
   "outputs": [
    {
     "data": {
      "text/plain": [
       "[[1, 2, 3], [4, 5, 6]]"
      ]
     },
     "execution_count": 58,
     "metadata": {},
     "output_type": "execute_result"
    }
   ],
   "source": [
    "list300=[[],[]]\n",
    "for i in range (1,4):\n",
    "    list300[0].append(i)\n",
    "for j in range (4,7):\n",
    "    list300[1].append(j)\n",
    "list300"
   ]
  },
  {
   "cell_type": "code",
   "execution_count": 60,
   "id": "7b9be8ea",
   "metadata": {},
   "outputs": [
    {
     "data": {
      "text/plain": [
       "6"
      ]
     },
     "execution_count": 60,
     "metadata": {},
     "output_type": "execute_result"
    }
   ],
   "source": [
    "# 배열의 전체 요소 갯수 확인하기 : size\n",
    "arr2.size\n",
    "# shape에서 나온 모든값을 곱해주면 size와 같다 #2*3=6"
   ]
  },
  {
   "cell_type": "code",
   "execution_count": 61,
   "id": "3c692828",
   "metadata": {},
   "outputs": [
    {
     "data": {
      "text/plain": [
       "dtype('int32')"
      ]
     },
     "execution_count": 61,
     "metadata": {},
     "output_type": "execute_result"
    }
   ],
   "source": [
    "# 배열의 타입 확인하기 :dtype\n",
    "arr2.dtype # dtype('int32') -->  32숫자??"
   ]
  },
  {
   "cell_type": "code",
   "execution_count": 10,
   "id": "1097b47e",
   "metadata": {},
   "outputs": [
    {
     "data": {
      "text/plain": [
       "2"
      ]
     },
     "execution_count": 10,
     "metadata": {},
     "output_type": "execute_result"
    }
   ],
   "source": [
    "# 배열의 차원확인하기--> ndim\n",
    "arr2.ndim"
   ]
  },
  {
   "cell_type": "code",
   "execution_count": 73,
   "id": "52fbda3d",
   "metadata": {},
   "outputs": [
    {
     "data": {
      "text/plain": [
       "array([[[1, 2],\n",
       "        [3, 4]],\n",
       "\n",
       "       [[5, 6],\n",
       "        [7, 8]]])"
      ]
     },
     "execution_count": 73,
     "metadata": {},
     "output_type": "execute_result"
    }
   ],
   "source": [
    "arr3=[[[1,2],\n",
    "        [3,4]],\n",
    "       [[5,6],\n",
    "        [7,8]]]\n",
    "arr4 = np.array(arr3)\n",
    "arr4"
   ]
  },
  {
   "cell_type": "code",
   "execution_count": 70,
   "id": "94b9a286",
   "metadata": {},
   "outputs": [
    {
     "name": "stdout",
     "output_type": "stream",
     "text": [
      "크기 (2, 2, 2)\n",
      "차원 3\n",
      "개수 8\n",
      "[[1 2]\n",
      " [3 4]]\n",
      "[[5 6]\n",
      " [7 8]]\n",
      "[1 2]\n",
      "[3 4]\n",
      "[5 6]\n",
      "[7 8]\n",
      "1\n",
      "2\n",
      "8\n"
     ]
    }
   ],
   "source": [
    "print('크기',arr4.shape)  # 2행 2열 2깊이 (육면체로 가정하면~)\n",
    "print('차원',arr4.ndim)\n",
    "print('개수',arr4.size)\n",
    "print(arr4[0])\n",
    "print(arr4[1])\n",
    "print(arr4[0][0])\n",
    "print(arr4[0][1])\n",
    "print(arr4[1][0])\n",
    "print(arr4[1][1])\n",
    "print(arr4[0][0][0])\n",
    "print(arr4[0][0][1])\n",
    "print(arr4[1][1][1])      # for문 3번 돌려야 볼수있음"
   ]
  },
  {
   "cell_type": "code",
   "execution_count": 77,
   "id": "8b26c69f",
   "metadata": {},
   "outputs": [
    {
     "data": {
      "text/plain": [
       "array([2, 3])"
      ]
     },
     "execution_count": 77,
     "metadata": {},
     "output_type": "execute_result"
    }
   ],
   "source": [
    "arr_11 = np.array((2,3))\n",
    "arr_11\n",
    "#print(arr_11)"
   ]
  },
  {
   "cell_type": "code",
   "execution_count": 80,
   "id": "58baaa72",
   "metadata": {},
   "outputs": [
    {
     "data": {
      "text/plain": [
       "array([2, 3])"
      ]
     },
     "execution_count": 80,
     "metadata": {},
     "output_type": "execute_result"
    }
   ],
   "source": [
    "arr_13 = np.array([2,3])\n",
    "arr_13"
   ]
  },
  {
   "cell_type": "code",
   "execution_count": 82,
   "id": "70ecfa14",
   "metadata": {},
   "outputs": [
    {
     "ename": "TypeError",
     "evalue": "Cannot interpret '3' as a data type",
     "output_type": "error",
     "traceback": [
      "\u001b[1;31m---------------------------------------------------------------------------\u001b[0m",
      "\u001b[1;31mTypeError\u001b[0m                                 Traceback (most recent call last)",
      "Cell \u001b[1;32mIn[82], line 1\u001b[0m\n\u001b[1;32m----> 1\u001b[0m arr_14 \u001b[38;5;241m=\u001b[39m np\u001b[38;5;241m.\u001b[39marray(\u001b[38;5;241m2\u001b[39m,\u001b[38;5;241m3\u001b[39m)  \u001b[38;5;66;03m#에러\u001b[39;00m\n\u001b[0;32m      2\u001b[0m arr_14\n",
      "\u001b[1;31mTypeError\u001b[0m: Cannot interpret '3' as a data type"
     ]
    }
   ],
   "source": [
    "arr_14 = np.array(2,3)  #에러\n",
    "arr_14"
   ]
  },
  {
   "cell_type": "code",
   "execution_count": 79,
   "id": "57e4bacc",
   "metadata": {},
   "outputs": [
    {
     "data": {
      "text/plain": [
       "array([[15, 15, 15],\n",
       "       [15, 15, 15]])"
      ]
     },
     "execution_count": 79,
     "metadata": {},
     "output_type": "execute_result"
    }
   ],
   "source": [
    "arr_12 = np.full((2,3),15)\n",
    "arr_12"
   ]
  },
  {
   "cell_type": "code",
   "execution_count": 13,
   "id": "53bbf989",
   "metadata": {},
   "outputs": [
    {
     "data": {
      "text/plain": [
       "array([[0., 0., 0., 0.],\n",
       "       [0., 0., 0., 0.],\n",
       "       [0., 0., 0., 0.]])"
      ]
     },
     "execution_count": 13,
     "metadata": {},
     "output_type": "execute_result"
    }
   ],
   "source": [
    "# 특정한 값으로 배열을 생성해보자\n",
    "#1.모든 값을 0으로 초기화 -np.zeros() --> ((행 갯수 ,열 갯수))\n",
    "arr_zeros = np.zeros((3,4))\n",
    "arr_zeros"
   ]
  },
  {
   "cell_type": "code",
   "execution_count": 83,
   "id": "4b02b05c",
   "metadata": {},
   "outputs": [
    {
     "data": {
      "text/plain": [
       "array([[1., 1., 1., 1.],\n",
       "       [1., 1., 1., 1.],\n",
       "       [1., 1., 1., 1.]])"
      ]
     },
     "execution_count": 83,
     "metadata": {},
     "output_type": "execute_result"
    }
   ],
   "source": [
    "#2. 모든 값을 1으로 초기화  -np.ones() --> ((행 갯수 ,열 갯수))\n",
    "arr_ones = np.ones((3,4))\n",
    "arr_ones"
   ]
  },
  {
   "cell_type": "code",
   "execution_count": 86,
   "id": "e2d6a0d2",
   "metadata": {},
   "outputs": [
    {
     "data": {
      "text/plain": [
       "array([['피자', '피자', '피자', '피자', '피자'],\n",
       "       ['피자', '피자', '피자', '피자', '피자'],\n",
       "       ['피자', '피자', '피자', '피자', '피자'],\n",
       "       ['피자', '피자', '피자', '피자', '피자'],\n",
       "       ['피자', '피자', '피자', '피자', '피자']], dtype='<U2')"
      ]
     },
     "execution_count": 86,
     "metadata": {},
     "output_type": "execute_result"
    }
   ],
   "source": [
    "#3. 우리가 설정한 값으로\n",
    "# np.fuii ((행갯수,열개수)).넣어주고 싶은 값)\n",
    "arr_full = np.full((5,5),'피자')\n",
    "arr_full"
   ]
  },
  {
   "cell_type": "code",
   "execution_count": 87,
   "id": "1748c874",
   "metadata": {},
   "outputs": [
    {
     "name": "stdout",
     "output_type": "stream",
     "text": [
      "[1, 2, 3, 4, 5, 6, 7, 8, 9, 10, 11, 12, 13, 14, 15, 16, 17, 18, 19, 20, 21, 22, 23, 24, 25, 26, 27, 28, 29, 30, 31, 32, 33, 34, 35, 36, 37, 38, 39, 40, 41, 42, 43, 44, 45, 46, 47, 48, 49, 50]\n"
     ]
    },
    {
     "data": {
      "text/plain": [
       "array([ 1,  2,  3,  4,  5,  6,  7,  8,  9, 10, 11, 12, 13, 14, 15, 16, 17,\n",
       "       18, 19, 20, 21, 22, 23, 24, 25, 26, 27, 28, 29, 30, 31, 32, 33, 34,\n",
       "       35, 36, 37, 38, 39, 40, 41, 42, 43, 44, 45, 46, 47, 48, 49, 50])"
      ]
     },
     "execution_count": 87,
     "metadata": {},
     "output_type": "execute_result"
    }
   ],
   "source": [
    "# 1부터 50까지 담긴 리스트를 만들어서 numpy 배열로 만들어 주세요\n",
    "# 반복문 사용가능 / range / append 사용가능\n",
    "list11= []\n",
    "for i in range(1,51) :\n",
    "    list11.append(i)\n",
    "print(list11)\n",
    "#list11\n",
    "arr123 = np.array(list11)\n",
    "arr123 "
   ]
  },
  {
   "cell_type": "code",
   "execution_count": 6,
   "id": "eabd4472",
   "metadata": {},
   "outputs": [
    {
     "data": {
      "text/plain": [
       "array([ 1,  2,  3,  4,  5,  6,  7,  8,  9, 10, 11, 12, 13, 14, 15, 16, 17,\n",
       "       18, 19, 20, 21, 22, 23, 24, 25, 26, 27, 28, 29, 30, 31, 32, 33, 34,\n",
       "       35, 36, 37, 38, 39, 40, 41, 42, 43, 44, 45, 46, 47, 48, 49, 50])"
      ]
     },
     "execution_count": 6,
     "metadata": {},
     "output_type": "execute_result"
    }
   ],
   "source": [
    "# 위의 로직을 하나의 함수로 하자(반복문 없이 만들어보자)\n",
    "# 1~50 까지 숫자가 담긴 배열을 만들자  --> arange() 함수\n",
    "arr551 = np.arange(1,51)  # range()와 같음\n",
    "arr551\n"
   ]
  },
  {
   "cell_type": "code",
   "execution_count": 7,
   "id": "54b70ed5",
   "metadata": {},
   "outputs": [
    {
     "data": {
      "text/plain": [
       "array([[ 1,  2,  3,  4,  5,  6,  7,  8,  9, 10],\n",
       "       [11, 12, 13, 14, 15, 16, 17, 18, 19, 20],\n",
       "       [21, 22, 23, 24, 25, 26, 27, 28, 29, 30],\n",
       "       [31, 32, 33, 34, 35, 36, 37, 38, 39, 40],\n",
       "       [41, 42, 43, 44, 45, 46, 47, 48, 49, 50]])"
      ]
     },
     "execution_count": 7,
     "metadata": {},
     "output_type": "execute_result"
    }
   ],
   "source": [
    "# 배열의 형태 바꾸기 --> reshape(행의갯수,열의갯수)\n",
    "# 형태를 변경시 전체 요소 갯수의 약수로 만들어 줄 것\n",
    "arr551.reshape(5,10)  # -->(4.12)로 하면 에러 -->모든 행열에 값이 들어가야함 널값은 허용 안됨"
   ]
  },
  {
   "cell_type": "code",
   "execution_count": 8,
   "id": "1f4d29cd",
   "metadata": {},
   "outputs": [
    {
     "data": {
      "text/plain": [
       "array([[ 1,  2,  3,  4,  5,  6,  7,  8,  9, 10],\n",
       "       [11, 12, 13, 14, 15, 16, 17, 18, 19, 20],\n",
       "       [21, 22, 23, 24, 25, 26, 27, 28, 29, 30],\n",
       "       [31, 32, 33, 34, 35, 36, 37, 38, 39, 40],\n",
       "       [41, 42, 43, 44, 45, 46, 47, 48, 49, 50]])"
      ]
     },
     "execution_count": 8,
     "metadata": {},
     "output_type": "execute_result"
    }
   ],
   "source": [
    "arr551.reshape(-1,10)  #--> '-' 삽입시 뒤의 열의 갯수를 보고 자동으로 행갯수를 조절"
   ]
  },
  {
   "cell_type": "code",
   "execution_count": 9,
   "id": "af12af6a",
   "metadata": {},
   "outputs": [
    {
     "data": {
      "text/plain": [
       "array([ 1,  2,  3,  4,  5,  6,  7,  8,  9, 10, 11, 12, 13, 14, 15, 16, 17,\n",
       "       18, 19, 20, 21, 22, 23, 24, 25, 26, 27, 28, 29, 30, 31, 32, 33, 34,\n",
       "       35, 36, 37, 38, 39, 40, 41, 42, 43, 44, 45, 46, 47, 48, 49, 50])"
      ]
     },
     "execution_count": 9,
     "metadata": {},
     "output_type": "execute_result"
    }
   ],
   "source": [
    "arr551  #--> 다시 실행시 형태는 원래대로 됨 --> 변경된 형태는 일시적--> reshape함수는 단순히 보여주는 것"
   ]
  },
  {
   "cell_type": "code",
   "execution_count": 10,
   "id": "c70fd4bc",
   "metadata": {},
   "outputs": [
    {
     "data": {
      "text/plain": [
       "array([[ 1,  2,  3,  4,  5,  6,  7,  8,  9, 10],\n",
       "       [11, 12, 13, 14, 15, 16, 17, 18, 19, 20],\n",
       "       [21, 22, 23, 24, 25, 26, 27, 28, 29, 30],\n",
       "       [31, 32, 33, 34, 35, 36, 37, 38, 39, 40],\n",
       "       [41, 42, 43, 44, 45, 46, 47, 48, 49, 50]])"
      ]
     },
     "execution_count": 10,
     "metadata": {},
     "output_type": "execute_result"
    }
   ],
   "source": [
    "arr551 = arr551.reshape(-1,10)  # 리프레쉬를 저장해주면 비로서 형태고정\n",
    "arr551"
   ]
  },
  {
   "cell_type": "code",
   "execution_count": 11,
   "id": "da0cd8bb",
   "metadata": {},
   "outputs": [
    {
     "name": "stdout",
     "output_type": "stream",
     "text": [
      "모양은 :  (4, 3, 2, 5)\n",
      "차원은 :  4\n",
      "-------------------------\n"
     ]
    },
    {
     "data": {
      "text/plain": [
       "array([[[[  1,   2,   3,   4,   5],\n",
       "         [  6,   7,   8,   9,  10]],\n",
       "\n",
       "        [[ 11,  12,  13,  14,  15],\n",
       "         [ 16,  17,  18,  19,  20]],\n",
       "\n",
       "        [[ 21,  22,  23,  24,  25],\n",
       "         [ 26,  27,  28,  29,  30]]],\n",
       "\n",
       "\n",
       "       [[[ 31,  32,  33,  34,  35],\n",
       "         [ 36,  37,  38,  39,  40]],\n",
       "\n",
       "        [[ 41,  42,  43,  44,  45],\n",
       "         [ 46,  47,  48,  49,  50]],\n",
       "\n",
       "        [[ 51,  52,  53,  54,  55],\n",
       "         [ 56,  57,  58,  59,  60]]],\n",
       "\n",
       "\n",
       "       [[[ 61,  62,  63,  64,  65],\n",
       "         [ 66,  67,  68,  69,  70]],\n",
       "\n",
       "        [[ 71,  72,  73,  74,  75],\n",
       "         [ 76,  77,  78,  79,  80]],\n",
       "\n",
       "        [[ 81,  82,  83,  84,  85],\n",
       "         [ 86,  87,  88,  89,  90]]],\n",
       "\n",
       "\n",
       "       [[[ 91,  92,  93,  94,  95],\n",
       "         [ 96,  97,  98,  99, 100]],\n",
       "\n",
       "        [[101, 102, 103, 104, 105],\n",
       "         [106, 107, 108, 109, 110]],\n",
       "\n",
       "        [[111, 112, 113, 114, 115],\n",
       "         [116, 117, 118, 119, 120]]]])"
      ]
     },
     "execution_count": 11,
     "metadata": {},
     "output_type": "execute_result"
    }
   ],
   "source": [
    "ar_11 = np.arange(1,121).reshape(4,3,2,5)  #3행 2열 5깊이-->4개있다 -->3차원이 4개있다\n",
    "print('모양은 : ',ar_11.shape)\n",
    "print('차원은 : ',ar_11.ndim)\n",
    "print('-'* 25)\n",
    "\n",
    "ar_11"
   ]
  },
  {
   "cell_type": "code",
   "execution_count": 12,
   "id": "0f4741fd",
   "metadata": {},
   "outputs": [
    {
     "data": {
      "text/plain": [
       "1"
      ]
     },
     "execution_count": 12,
     "metadata": {},
     "output_type": "execute_result"
    }
   ],
   "source": [
    "ar_11[0][0][0][0]"
   ]
  },
  {
   "cell_type": "code",
   "execution_count": 13,
   "id": "0c6173f6",
   "metadata": {},
   "outputs": [
    {
     "name": "stdout",
     "output_type": "stream",
     "text": [
      "모양은 :  (4, 2)\n",
      "차원은 :  2\n",
      "-------------------------\n",
      "[[ 13.  18.]\n",
      " [ 43.  48.]\n",
      " [ 73.  78.]\n",
      " [103. 108.]]\n"
     ]
    },
    {
     "data": {
      "text/plain": [
       "array([[ 13.,  18.],\n",
       "       [ 43.,  48.],\n",
       "       [ 73.,  78.],\n",
       "       [103., 108.]])"
      ]
     },
     "execution_count": 13,
     "metadata": {},
     "output_type": "execute_result"
    }
   ],
   "source": [
    "ar_11_mean = np.mean(ar_11,axis=(1,3))\n",
    "print('모양은 : ',ar_11_mean.shape)\n",
    "print('차원은 : ',ar_11_mean.ndim)\n",
    "print('-'* 25)\n",
    "\n",
    "print(ar_11_mean)\n",
    "ar_11_mean"
   ]
  },
  {
   "cell_type": "code",
   "execution_count": 14,
   "id": "442903dc",
   "metadata": {},
   "outputs": [
    {
     "data": {
      "text/plain": [
       "array([[ 1,  2,  3,  4,  5,  6,  7,  8,  9, 10],\n",
       "       [11, 12, 13, 14, 15, 16, 17, 18, 19, 20],\n",
       "       [21, 22, 23, 24, 25, 26, 27, 28, 29, 30],\n",
       "       [31, 32, 33, 34, 35, 36, 37, 38, 39, 40],\n",
       "       [41, 42, 43, 44, 45, 46, 47, 48, 49, 50]])"
      ]
     },
     "execution_count": 14,
     "metadata": {},
     "output_type": "execute_result"
    }
   ],
   "source": [
    "arr551  # numpy array"
   ]
  },
  {
   "cell_type": "code",
   "execution_count": 154,
   "id": "6efa8fb2",
   "metadata": {},
   "outputs": [
    {
     "data": {
      "text/plain": [
       "array([ 3,  6,  9, 12, 15, 18, 21, 24, 27, 30, 33, 36, 39, 42, 45, 48])"
      ]
     },
     "execution_count": 154,
     "metadata": {},
     "output_type": "execute_result"
    }
   ],
   "source": [
    "# 배열[배열조건식]\n",
    "arr551[arr551%3==0].size  #16개\n",
    "arr551[arr551%3==0]"
   ]
  },
  {
   "cell_type": "code",
   "execution_count": 17,
   "id": "f40f37b6",
   "metadata": {},
   "outputs": [
    {
     "data": {
      "text/plain": [
       "array([[ 3,  6,  9, 12],\n",
       "       [15, 18, 21, 24],\n",
       "       [27, 30, 33, 36],\n",
       "       [39, 42, 45, 48]])"
      ]
     },
     "execution_count": 17,
     "metadata": {},
     "output_type": "execute_result"
    }
   ],
   "source": [
    "# 배열[배열조건식].재모양()\n",
    "arr551[arr551%3==0].reshape(-1,4)"
   ]
  },
  {
   "cell_type": "code",
   "execution_count": 19,
   "id": "089fd186",
   "metadata": {},
   "outputs": [
    {
     "data": {
      "text/plain": [
       "120"
      ]
     },
     "execution_count": 19,
     "metadata": {},
     "output_type": "execute_result"
    }
   ],
   "source": [
    "ar_12 = np.arange(1,121)\n",
    "len(ar_12)\n",
    "ar_12\n",
    "len(ar_12)"
   ]
  },
  {
   "cell_type": "code",
   "execution_count": 20,
   "id": "e1cb4678",
   "metadata": {},
   "outputs": [
    {
     "data": {
      "text/plain": [
       "array([[0.14632382, 0.70270717, 0.47769872, 0.64295182],\n",
       "       [0.95780389, 0.35531264, 0.08238955, 0.31943172],\n",
       "       [0.35925387, 0.22401211, 0.51340311, 0.37663847],\n",
       "       [0.45373184, 0.52588454, 0.40847058, 0.71461511]])"
      ]
     },
     "execution_count": 20,
     "metadata": {},
     "output_type": "execute_result"
    }
   ],
   "source": [
    "# 랜덤값 numpy배열 생성하기\n",
    "# np.random.rand(행,열) --> 실수형태로 배열 만들기\n",
    "# 실수의 범위는 0~1 사이임\n",
    "arr6= np.random.rand(4,4)  \n",
    "arr6"
   ]
  },
  {
   "cell_type": "code",
   "execution_count": 49,
   "id": "c6732a78",
   "metadata": {},
   "outputs": [
    {
     "data": {
      "text/plain": [
       "0.32277351369747187"
      ]
     },
     "execution_count": 49,
     "metadata": {},
     "output_type": "execute_result"
    }
   ],
   "source": [
    "import random \n",
    "a=random.random()  #0~1 사이 범위 실수\n",
    "a"
   ]
  },
  {
   "cell_type": "code",
   "execution_count": 117,
   "id": "37d31be7",
   "metadata": {},
   "outputs": [
    {
     "data": {
      "text/plain": [
       "3"
      ]
     },
     "execution_count": 117,
     "metadata": {},
     "output_type": "execute_result"
    }
   ],
   "source": [
    "import random \n",
    "b=random.randint(1,10)  #1~9범위 정수\n",
    "b"
   ]
  },
  {
   "cell_type": "code",
   "execution_count": 98,
   "id": "9b30bd86",
   "metadata": {},
   "outputs": [
    {
     "name": "stdout",
     "output_type": "stream",
     "text": [
      "2\n"
     ]
    },
    {
     "data": {
      "text/plain": [
       "2"
      ]
     },
     "execution_count": 98,
     "metadata": {},
     "output_type": "execute_result"
    }
   ],
   "source": [
    "# np.random.randint() -->(램덤의 시작값,끝값+1)\n",
    "arr7= np.random.randint(1,10) # 1~9사이 정수\n",
    "print(arr7)\n",
    "arr7"
   ]
  },
  {
   "cell_type": "code",
   "execution_count": 120,
   "id": "5966d9b1",
   "metadata": {},
   "outputs": [
    {
     "data": {
      "text/plain": [
       "array([[1, 2, 9],\n",
       "       [5, 5, 1],\n",
       "       [1, 2, 6],\n",
       "       [7, 7, 2]])"
      ]
     },
     "execution_count": 120,
     "metadata": {},
     "output_type": "execute_result"
    }
   ],
   "source": [
    "#size=() --> 랜덤정수 numpy배열생성\n",
    "arr8= np.random.randint(1,10,size=(4,3))  # shape는 에러\n",
    "arr8\n"
   ]
  },
  {
   "cell_type": "code",
   "execution_count": 136,
   "id": "cbc1838e",
   "metadata": {},
   "outputs": [
    {
     "data": {
      "text/plain": [
       "array([1, 2, 3, 4, 5], dtype=int64)"
      ]
     },
     "execution_count": 136,
     "metadata": {},
     "output_type": "execute_result"
    }
   ],
   "source": [
    "# 타입을 지정하여 배열생성하기\n",
    "arr_type = np.array([1.2 , 2.3 , 3.5 , 4.5 , 5.5] , dtype =np.int32)\n",
    "arr_type11 = np.array([1.2 , 2.3 , 3.5 , 4.5 , 5.5] , dtype =np.int64)\n",
    "#arr_type\n",
    "arr_type11\n",
    "#arr_type.dtype\n",
    "#arr_type11.dtype"
   ]
  },
  {
   "cell_type": "code",
   "execution_count": 137,
   "id": "5117a838",
   "metadata": {},
   "outputs": [
    {
     "data": {
      "text/plain": [
       "dtype('float64')"
      ]
     },
     "execution_count": 137,
     "metadata": {},
     "output_type": "execute_result"
    }
   ],
   "source": [
    "# astype() --> 기존 배열의 타입을 바꿔주는 함수\n",
    "arr_type1 = np.array([1.2,3.4,5.6])\n",
    "arr_type1.dtype"
   ]
  },
  {
   "cell_type": "code",
   "execution_count": 141,
   "id": "cf17a61a",
   "metadata": {},
   "outputs": [
    {
     "name": "stdout",
     "output_type": "stream",
     "text": [
      "타입 변경전 : int32\n",
      "타입 변경후 : int64\n"
     ]
    }
   ],
   "source": [
    "print( '타입 변경전 :',arr_type1.dtype)\n",
    "arr_type1 = arr_type1.astype('int64')  #()안에 따옴표\n",
    "print( '타입 변경후 :',arr_type1.dtype)"
   ]
  },
  {
   "cell_type": "markdown",
   "id": "70aa8da0",
   "metadata": {},
   "source": [
    "### 배열연산"
   ]
  },
  {
   "cell_type": "code",
   "execution_count": 142,
   "id": "63295899",
   "metadata": {},
   "outputs": [
    {
     "data": {
      "text/plain": [
       "array([2, 4, 6])"
      ]
     },
     "execution_count": 142,
     "metadata": {},
     "output_type": "execute_result"
    }
   ],
   "source": [
    "# 배열간의 연산은 가능하다\n",
    "arr = np.array([1,2,3])\n",
    "arr+arr"
   ]
  },
  {
   "cell_type": "code",
   "execution_count": 143,
   "id": "c5a6dd5b",
   "metadata": {},
   "outputs": [
    {
     "data": {
      "text/plain": [
       "array([5, 7, 9])"
      ]
     },
     "execution_count": 143,
     "metadata": {},
     "output_type": "execute_result"
    }
   ],
   "source": [
    "# 다른 배열끼리 연산\n",
    "arr1 =np.array([1,2,3])\n",
    "arr2 =np.array([4,5,6])\n",
    "arr1+arr2"
   ]
  },
  {
   "cell_type": "code",
   "execution_count": 144,
   "id": "7935e156",
   "metadata": {},
   "outputs": [
    {
     "data": {
      "text/plain": [
       "array([4, 5, 6])"
      ]
     },
     "execution_count": 144,
     "metadata": {},
     "output_type": "execute_result"
    }
   ],
   "source": [
    "# 배열과 정수간의 연산도 가능\n",
    "arr1+3"
   ]
  },
  {
   "cell_type": "code",
   "execution_count": 145,
   "id": "073562f4",
   "metadata": {},
   "outputs": [],
   "source": [
    "# 2차원 배열간 연산\n",
    "# arr2_a 에 1,2,3 / 4,5,6이 들어있는 2차원 배열\n",
    "arr2_a= np.array([[1,2,3],[4,5,6]])\n",
    "# arr2_b 에 7,8,9 / 10,11,12 들어있는 2차원 배열\n",
    "arr2_b= np.array([[7,8,9],[10,11,12]])\n"
   ]
  },
  {
   "cell_type": "code",
   "execution_count": 146,
   "id": "43aba236",
   "metadata": {},
   "outputs": [
    {
     "data": {
      "text/plain": [
       "array([[ 8, 10, 12],\n",
       "       [14, 16, 18]])"
      ]
     },
     "execution_count": 146,
     "metadata": {},
     "output_type": "execute_result"
    }
   ],
   "source": [
    "# 배열간 덧셈 결과\n",
    "arr2_a+arr2_b"
   ]
  },
  {
   "cell_type": "code",
   "execution_count": 147,
   "id": "6122f516",
   "metadata": {},
   "outputs": [
    {
     "data": {
      "text/plain": [
       "array([[-6, -6, -6],\n",
       "       [-6, -6, -6]])"
      ]
     },
     "execution_count": 147,
     "metadata": {},
     "output_type": "execute_result"
    }
   ],
   "source": [
    "# 배열간 뺄셈 결과\n",
    "arr2_a-arr2_b"
   ]
  },
  {
   "cell_type": "code",
   "execution_count": 148,
   "id": "46ba2586",
   "metadata": {},
   "outputs": [
    {
     "data": {
      "text/plain": [
       "array([[ 7,  8,  9],\n",
       "       [10, 11, 12]])"
      ]
     },
     "execution_count": 148,
     "metadata": {},
     "output_type": "execute_result"
    }
   ],
   "source": [
    "# 1.배열를 쉽게 생성하는 방법\n",
    "arr2_c= np.arange(7,13).reshape(2,3)  # 7~12까지 요소\n",
    "arr2_c"
   ]
  },
  {
   "cell_type": "code",
   "execution_count": 3,
   "id": "d61496d0",
   "metadata": {},
   "outputs": [
    {
     "data": {
      "text/plain": [
       "array([[7, 5, 2],\n",
       "       [1, 6, 8],\n",
       "       [3, 4, 3],\n",
       "       [9, 9, 4]])"
      ]
     },
     "execution_count": 3,
     "metadata": {},
     "output_type": "execute_result"
    }
   ],
   "source": [
    "# 2.배열를 쉽게 생성하는 방법\n",
    "arr88= np.random.randint(1,10,size=(4,3))  # shape는 에러\n",
    "arr88"
   ]
  },
  {
   "cell_type": "code",
   "execution_count": 149,
   "id": "57742a51",
   "metadata": {},
   "outputs": [
    {
     "data": {
      "text/plain": [
       "array([ 7,  8,  9, 10, 11, 12])"
      ]
     },
     "execution_count": 149,
     "metadata": {},
     "output_type": "execute_result"
    }
   ],
   "source": [
    "arr2_cb= np.arange(7,13)  \n",
    "arr2_cb"
   ]
  }
 ],
 "metadata": {
  "kernelspec": {
   "display_name": "Python 3 (ipykernel)",
   "language": "python",
   "name": "python3"
  },
  "language_info": {
   "codemirror_mode": {
    "name": "ipython",
    "version": 3
   },
   "file_extension": ".py",
   "mimetype": "text/x-python",
   "name": "python",
   "nbconvert_exporter": "python",
   "pygments_lexer": "ipython3",
   "version": "3.11.5"
  }
 },
 "nbformat": 4,
 "nbformat_minor": 5
}
