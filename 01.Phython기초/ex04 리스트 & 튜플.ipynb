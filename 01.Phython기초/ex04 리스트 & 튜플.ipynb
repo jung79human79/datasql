{
 "cells": [
  {
   "cell_type": "code",
   "execution_count": 9,
   "id": "6514234d",
   "metadata": {},
   "outputs": [
    {
     "name": "stdout",
     "output_type": "stream",
     "text": [
      "[]\n",
      "[1, 2, 3]\n",
      "['라', '마', '바']\n",
      "[1, 2, '가', '사']\n",
      "[1, 2, ['나', '다']]\n"
     ]
    }
   ],
   "source": [
    "a=[]\n",
    "print (a)\n",
    "b=[1,2,3]\n",
    "print (b)\n",
    "c=['라','마','바']\n",
    "print (c)\n",
    "d=[1,2,'가','사']\n",
    "print (d)\n",
    "e=[1,2,['나','다']]\n",
    "print (e)"
   ]
  },
  {
   "cell_type": "code",
   "execution_count": 10,
   "id": "1b869375",
   "metadata": {},
   "outputs": [
    {
     "name": "stdout",
     "output_type": "stream",
     "text": [
      "우석:우건:준범\n"
     ]
    }
   ],
   "source": [
    "s= '우석:우건:준범'\n",
    "print (s)"
   ]
  },
  {
   "cell_type": "code",
   "execution_count": 55,
   "id": "b3905a6f",
   "metadata": {},
   "outputs": [
    {
     "data": {
      "text/plain": [
       "'우석,우건,준범'"
      ]
     },
     "execution_count": 55,
     "metadata": {},
     "output_type": "execute_result"
    }
   ],
   "source": [
    "s= ('우석,우건,준범')\n",
    "s"
   ]
  },
  {
   "cell_type": "code",
   "execution_count": null,
   "id": "e4fc2e05",
   "metadata": {},
   "outputs": [],
   "source": []
  },
  {
   "cell_type": "code",
   "execution_count": 23,
   "id": "b920269b",
   "metadata": {},
   "outputs": [
    {
     "name": "stdout",
     "output_type": "stream",
     "text": [
      "[0, 1, 2, 3, 4, 5, 6, 7, 8, 9]\n"
     ]
    },
    {
     "data": {
      "text/plain": [
       "(4, 9, 7)"
      ]
     },
     "execution_count": 23,
     "metadata": {},
     "output_type": "execute_result"
    }
   ],
   "source": [
    "# 인데싱 /슬라이싱 실습         # 스플릿 안된다\n",
    "list1=[0,1,2,3,4,5,6,7,8,9]\n",
    "print(list1)\n",
    "# 인덱싱 문제 \n",
    "# 숫자4\n",
    "# 숫자 4,9,7\n",
    "# print(list1[4])\n",
    "# print(list1[4],list1[9],list1[7])\n",
    "list1[4],list1[9],list1[7]\n",
    "# print(list1[4]);print(list1[7]);print(list1[9])\n"
   ]
  },
  {
   "cell_type": "code",
   "execution_count": 31,
   "id": "953cfc07",
   "metadata": {},
   "outputs": [
    {
     "name": "stdout",
     "output_type": "stream",
     "text": [
      "[1, 2, 3, ['a', 'b', 'c']]\n"
     ]
    }
   ],
   "source": [
    "# 2. 숫자 1,2,3과 ['a','b','c'] 를 이용해서 2차원 리스트를 만들자\n",
    "# list1 = [1,2,3,['a','b','c',['수박','복숭아']]]  # 3차원\n",
    "list1 = [1,2,3,['a','b','c']]  # 3차원\n",
    "print(list1)\n"
   ]
  },
  {
   "cell_type": "code",
   "execution_count": 32,
   "id": "402456f7",
   "metadata": {},
   "outputs": [
    {
     "name": "stdout",
     "output_type": "stream",
     "text": [
      "['a', 'b', 'c']\n",
      "b\n"
     ]
    }
   ],
   "source": [
    "# temp 변수 지정 ['a','b','c']가 들어있는 리스트를 인덱싱\n",
    "temp = list1[3]\n",
    "print(temp)\n",
    "# temp에 저징된 리스트에서 b라는 문자만 인덱싱\n",
    "print(temp[1])"
   ]
  },
  {
   "cell_type": "code",
   "execution_count": 33,
   "id": "5a282c31",
   "metadata": {},
   "outputs": [
    {
     "data": {
      "text/plain": [
       "'b'"
      ]
     },
     "execution_count": 33,
     "metadata": {},
     "output_type": "execute_result"
    }
   ],
   "source": [
    "# 다른 형태로 b를 출력\n",
    "list1[3][1]"
   ]
  },
  {
   "cell_type": "code",
   "execution_count": 34,
   "id": "7a6c6b4f",
   "metadata": {},
   "outputs": [
    {
     "data": {
      "text/plain": [
       "[[0, 1, 2, 3], [4, 5, 6, 7], [8, 9, 10, 11], [12, 13, 14, 15]]"
      ]
     },
     "execution_count": 34,
     "metadata": {},
     "output_type": "execute_result"
    }
   ],
   "source": [
    "# 우석 출장 \n",
    "list3=[[0,1,2,3],\n",
    "       [4,5,6,7],\n",
    "       [8,9,10,11],\n",
    "       [12,13,14,15]]\n",
    "list3"
   ]
  },
  {
   "cell_type": "code",
   "execution_count": 37,
   "id": "32a1bc1b",
   "metadata": {},
   "outputs": [
    {
     "data": {
      "text/plain": [
       "5"
      ]
     },
     "execution_count": 37,
     "metadata": {},
     "output_type": "execute_result"
    }
   ],
   "source": [
    "list3[1][1]"
   ]
  },
  {
   "cell_type": "code",
   "execution_count": 52,
   "id": "e2784631",
   "metadata": {},
   "outputs": [
    {
     "name": "stdout",
     "output_type": "stream",
     "text": [
      "[3, 4, 5, 6, 7]\n",
      "[0, 1, 2, 3, 4]\n",
      "[6, 7, 8, 9]\n",
      "[0, 1, 2, 3, 4, 5, 6, 7, 8, 9]\n"
     ]
    }
   ],
   "source": [
    "# 리스트 슬라이싱\n",
    "# 슬라이싱 규칙 인덱스는 0부터 시작\n",
    "# 슬라이싱 끝 값은 항상+1을 해준다\n",
    "list1=[0,1,2,3,4,5,6,7,8,9]\n",
    "# 3부터7까지 슬라이싱\n",
    "print (list1 [3:8])\n",
    "# 0부터 4까지\n",
    "print (list1 [:5])\n",
    "# 6부터 9까지\n",
    "print (list1 [6:])\n",
    "# 전체숫자\n",
    "print (list1 [:])"
   ]
  },
  {
   "cell_type": "code",
   "execution_count": 56,
   "id": "38b2b011",
   "metadata": {},
   "outputs": [
    {
     "data": {
      "text/plain": [
       "[0, 1, 2, 3, 4, 5, 6, 7, 8, 9, 0, 1, 2, 3, 4, 5, 6, 7, 8, 9]"
      ]
     },
     "execution_count": 56,
     "metadata": {},
     "output_type": "execute_result"
    }
   ],
   "source": [
    "list1+list1     # 앞뒤로 붙는다 "
   ]
  },
  {
   "cell_type": "code",
   "execution_count": 57,
   "id": "ff80ab3b",
   "metadata": {},
   "outputs": [
    {
     "data": {
      "text/plain": [
       "[1, 2, 3, 4, 5]"
      ]
     },
     "execution_count": 57,
     "metadata": {},
     "output_type": "execute_result"
    }
   ],
   "source": [
    "# 리스트 맨 뒤에 값을 추가 해보자\n",
    "# append(추가값)\n",
    "list4=[1,2,3,4,5]\n",
    "list4"
   ]
  },
  {
   "cell_type": "code",
   "execution_count": 59,
   "id": "c7c5ffb3",
   "metadata": {},
   "outputs": [
    {
     "data": {
      "text/plain": [
       "[1, 2, 3, 4, 5, 6, 6]"
      ]
     },
     "execution_count": 59,
     "metadata": {},
     "output_type": "execute_result"
    }
   ],
   "source": [
    "# append(추가값) --> 리스트 맨뒤에 값을 추가해주는 함수\n",
    "list4.append(6)\n",
    "list4                    # 재실행하면 계속 추가됨 \n"
   ]
  },
  {
   "cell_type": "code",
   "execution_count": 94,
   "id": "1b0f5ca2",
   "metadata": {},
   "outputs": [
    {
     "data": {
      "text/plain": [
       "['사과', '수박', '오렌지']"
      ]
     },
     "execution_count": 94,
     "metadata": {},
     "output_type": "execute_result"
    }
   ],
   "source": [
    "# 인덱싱+ append 실습  다시 해보자!!\n",
    "\n",
    "list =['사과','포도',['수박','멜론'],'복숭아','딸기','오렌지']\n",
    "# 뽑아온 과일을 저장할 리스트\n",
    "cho_=[]\n",
    "a=list_[0]\n",
    "b=list_[2][0]\n",
    "c=list_[-1]\n",
    "# a.append(b)\n",
    "# b.append(c)\n",
    "\n",
    "# choice_list =[b]\n",
    "# choice_list =[ list_[0]+ list_[2][0] +list_[5]]\n",
    "# print (choice_list)\n",
    "\n",
    "\n",
    "# choice_list 에 담아줄 과일 인덱싱\n",
    "# choice_list 쌓아주기\n",
    "cho_.append(a)\n",
    "cho_.append(b)\n",
    "cho_.append(c)\n",
    "cho_"
   ]
  },
  {
   "cell_type": "code",
   "execution_count": 66,
   "id": "0e369a87",
   "metadata": {},
   "outputs": [
    {
     "data": {
      "text/plain": [
       "[0, 1, 2, 3, 4]"
      ]
     },
     "execution_count": 66,
     "metadata": {},
     "output_type": "execute_result"
    }
   ],
   "source": [
    "list10 = [0,1,2,3,4]\n",
    "list10"
   ]
  },
  {
   "cell_type": "code",
   "execution_count": 67,
   "id": "c365f804",
   "metadata": {},
   "outputs": [
    {
     "data": {
      "text/plain": [
       "[0, 5, 1, 2, 3, 4]"
      ]
     },
     "execution_count": 67,
     "metadata": {},
     "output_type": "execute_result"
    }
   ],
   "source": [
    "# insert함수 사용법\n",
    "# insert(인덱스번호,넣어줄 값)\n",
    "list10.insert(1,5)\n",
    "list10"
   ]
  },
  {
   "cell_type": "code",
   "execution_count": 77,
   "id": "a20320e5",
   "metadata": {},
   "outputs": [
    {
     "data": {
      "text/plain": [
       "[['디셈버', '심'], ['bmk', '물들어'], ['sg워너비', '해바라기']]"
      ]
     },
     "execution_count": 77,
     "metadata": {},
     "output_type": "execute_result"
    }
   ],
   "source": [
    "# insert 실습\n",
    "music_list = [['디셈버','심'],\n",
    "             ['bmk','물들어'],\n",
    "             ['sg워너비','해바라기']]\n",
    "music_list\n",
    "# music_list 인덱스 1인곳에 ['창모','메테오']\n",
    "# music_list 인덱스 3인곳에 ['창모','메테오']\n",
    "# music_list 마지막에 ['창모','메테오']"
   ]
  },
  {
   "cell_type": "code",
   "execution_count": 87,
   "id": "4651907f",
   "metadata": {},
   "outputs": [
    {
     "data": {
      "text/plain": [
       "[['가', '나'],\n",
       " ['창모', '메테오'],\n",
       " ['정대주', '정재은'],\n",
       " ['eh', 'cv'],\n",
       " ['정대주', '정재은'],\n",
       " ['rt', 'opp']]"
      ]
     },
     "execution_count": 87,
     "metadata": {},
     "output_type": "execute_result"
    }
   ],
   "source": [
    "music_list.insert(1,['창모','메테오'])\n",
    "music_list.insert(3,['eh','cv'])\n",
    "# music_list.insert(5,['rt','opp'])\n",
    "music_list.append(['rt','opp'])\n",
    "music_list\n"
   ]
  },
  {
   "cell_type": "code",
   "execution_count": 89,
   "id": "b8fa532c",
   "metadata": {},
   "outputs": [
    {
     "name": "stdout",
     "output_type": "stream",
     "text": [
      "인덱스>> 10\n",
      "가수명>> 스마트\n",
      "제목>> 인벤터\n"
     ]
    },
    {
     "data": {
      "text/plain": [
       "[['가', '나'],\n",
       " ['창모', '메테오'],\n",
       " ['정대주', '정재은'],\n",
       " ['eh', 'cv'],\n",
       " ['정대주', '정재은'],\n",
       " ['도도', '고고'],\n",
       " ['rt', 'opp'],\n",
       " ['스마트', '인벤터']]"
      ]
     },
     "execution_count": 89,
     "metadata": {},
     "output_type": "execute_result"
    }
   ],
   "source": [
    "# 실습다시해보자\n",
    "# 1. 인덱스 번호 /가수명/노래제목 입력받는 입력문 --> 변수에 저장\n",
    "#  insert문을 이용해서 music_list에 새로운 값을 추가해주세요\n",
    "a =int(input(\"인덱스>> \" ))\n",
    "si = input(\"가수명>> \" )\n",
    "ti = input(\"제목>> \" )\n",
    "\n",
    "music_list.insert(a,[si,ti])\n",
    "music_list\n",
    "\n"
   ]
  },
  {
   "cell_type": "code",
   "execution_count": 96,
   "id": "b2c27064",
   "metadata": {},
   "outputs": [
    {
     "name": "stdout",
     "output_type": "stream",
     "text": [
      "수정전 : 5\n",
      "수정후 : 10\n"
     ]
    }
   ],
   "source": [
    "# 리스트 수정\n",
    "print(f'수정전 : {list1[5]}')\n",
    "list1[5]= 10\n",
    "print(f'수정후 : {list1[5]}')"
   ]
  },
  {
   "cell_type": "code",
   "execution_count": 97,
   "id": "c857207d",
   "metadata": {},
   "outputs": [
    {
     "data": {
      "text/plain": [
       "[0, 1, 2, 3, 4, 10, 6, 7, 8, 9]"
      ]
     },
     "execution_count": 97,
     "metadata": {},
     "output_type": "execute_result"
    }
   ],
   "source": [
    "list1"
   ]
  },
  {
   "cell_type": "code",
   "execution_count": 98,
   "id": "e0563494",
   "metadata": {},
   "outputs": [
    {
     "data": {
      "text/plain": [
       "[0, 1, 2, 10, 7, 8, 9]"
      ]
     },
     "execution_count": 98,
     "metadata": {},
     "output_type": "execute_result"
    }
   ],
   "source": [
    "# 여러개의 값을 변경 - 슬라이싱 이용\n",
    "\n",
    "list20 = [0, 1, 2, 3, 4, 10, 6, 7, 8, 9]\n",
    "\n",
    "list20[3:7]=[10]\n",
    "list20"
   ]
  },
  {
   "cell_type": "code",
   "execution_count": 146,
   "id": "f68f4bc0",
   "metadata": {},
   "outputs": [
    {
     "data": {
      "text/plain": [
       "[1, 2, 3, 4, 7]"
      ]
     },
     "execution_count": 146,
     "metadata": {},
     "output_type": "execute_result"
    }
   ],
   "source": [
    "array = [1,2,3,4,5]\n",
    "array[4]=7\n",
    "array"
   ]
  },
  {
   "cell_type": "code",
   "execution_count": 147,
   "id": "5b9d14e8",
   "metadata": {},
   "outputs": [
    {
     "data": {
      "text/plain": [
       "[1, ['a', 'b', 'c'], 3, 4, 7]"
      ]
     },
     "execution_count": 147,
     "metadata": {},
     "output_type": "execute_result"
    }
   ],
   "source": [
    "array[1]=['a','b','c']\n",
    "array"
   ]
  },
  {
   "cell_type": "code",
   "execution_count": 148,
   "id": "b926e7af",
   "metadata": {},
   "outputs": [
    {
     "data": {
      "text/plain": [
       "[1, ['a', 'b', 'c'], 3, 'd', 'e', 'f', 'g']"
      ]
     },
     "execution_count": 148,
     "metadata": {},
     "output_type": "execute_result"
    }
   ],
   "source": [
    "array[3:5]='d','e','f','g'\n",
    "array"
   ]
  },
  {
   "cell_type": "code",
   "execution_count": 149,
   "id": "2f5254d0",
   "metadata": {},
   "outputs": [
    {
     "data": {
      "text/plain": [
       "[1]"
      ]
     },
     "execution_count": 149,
     "metadata": {},
     "output_type": "execute_result"
    }
   ],
   "source": [
    "array[0:1]  # 슬라이싱은 범위 즉 리스트로 잘라온다 []안에 값이 들어온다\n"
   ]
  },
  {
   "cell_type": "code",
   "execution_count": 150,
   "id": "4e54b1db",
   "metadata": {},
   "outputs": [
    {
     "data": {
      "text/plain": [
       "1"
      ]
     },
     "execution_count": 150,
     "metadata": {},
     "output_type": "execute_result"
    }
   ],
   "source": [
    "array[0]    # 인덱싱은 []범위 없이 값만 가져온다"
   ]
  },
  {
   "cell_type": "code",
   "execution_count": 151,
   "id": "99a7a1cb",
   "metadata": {},
   "outputs": [
    {
     "data": {
      "text/plain": [
       "['h', 'i', 'j', ['a', 'b', 'c'], 3, 'd', 'e', 'f', 'g']"
      ]
     },
     "execution_count": 151,
     "metadata": {},
     "output_type": "execute_result"
    }
   ],
   "source": [
    "array[0:1]='h','i','j'\n",
    "array"
   ]
  },
  {
   "cell_type": "code",
   "execution_count": 135,
   "id": "ee3f4623",
   "metadata": {},
   "outputs": [
    {
     "data": {
      "text/plain": [
       "[0, 1, 2, 3, 4]"
      ]
     },
     "execution_count": 135,
     "metadata": {},
     "output_type": "execute_result"
    }
   ],
   "source": [
    "# 리스트 값 삭제\n",
    "a= [0,1,2,3,4,5]\n",
    "del a[5]   # 인덱스번호 넣기\n",
    "a"
   ]
  },
  {
   "cell_type": "code",
   "execution_count": 130,
   "id": "85319bd1",
   "metadata": {},
   "outputs": [
    {
     "data": {
      "text/plain": [
       "[0, 5]"
      ]
     },
     "execution_count": 130,
     "metadata": {},
     "output_type": "execute_result"
    }
   ],
   "source": [
    "# 여러개 값 삭제\n",
    "ab= [0,1,2,3,4,5]\n",
    "del ab[1:5]\n",
    "ab"
   ]
  },
  {
   "cell_type": "code",
   "execution_count": 133,
   "id": "0f260c33",
   "metadata": {},
   "outputs": [
    {
     "data": {
      "text/plain": [
       "['a', 'b', 'd', 'e']"
      ]
     },
     "execution_count": 133,
     "metadata": {},
     "output_type": "execute_result"
    }
   ],
   "source": [
    "# 다른 삭제법 \n",
    "abc= ['a','b','c','d','e']\n",
    "abc.remove('c')\n",
    "abc\n",
    "\n"
   ]
  },
  {
   "cell_type": "code",
   "execution_count": 136,
   "id": "8709ce5d",
   "metadata": {},
   "outputs": [
    {
     "data": {
      "text/plain": [
       "['a', 'b', 'd', 'e', 'c']"
      ]
     },
     "execution_count": 136,
     "metadata": {},
     "output_type": "execute_result"
    }
   ],
   "source": [
    "abcd= ['a','b','c','d','e','c']\n",
    "abcd.remove('c')    # 처음 만나는 해당값을 지우고 되돌려준다\n",
    "abcd"
   ]
  },
  {
   "cell_type": "code",
   "execution_count": 137,
   "id": "d17affc1",
   "metadata": {},
   "outputs": [
    {
     "data": {
      "text/plain": [
       "['a', 'b', 'd', 'e']"
      ]
     },
     "execution_count": 137,
     "metadata": {},
     "output_type": "execute_result"
    }
   ],
   "source": [
    "abcd.remove('c')   # 다시 한 번 실행하면 또 c가 지워진다 \n",
    "abcd"
   ]
  },
  {
   "cell_type": "code",
   "execution_count": 139,
   "id": "c4eb2578",
   "metadata": {},
   "outputs": [
    {
     "data": {
      "text/plain": [
       "[1, 7, 13, 27, 32, 45]"
      ]
     },
     "execution_count": 139,
     "metadata": {},
     "output_type": "execute_result"
    }
   ],
   "source": [
    "# 정렬 --> sort --> 오름차순 정렬\n",
    "abcde= [13,27,1,32,45,7]\n",
    "abcde.sort()\n",
    "abcde"
   ]
  },
  {
   "cell_type": "code",
   "execution_count": 152,
   "id": "78559bbf",
   "metadata": {},
   "outputs": [
    {
     "data": {
      "text/plain": [
       "[7, 45, 32, 1, 27, 13]"
      ]
     },
     "execution_count": 152,
     "metadata": {},
     "output_type": "execute_result"
    }
   ],
   "source": [
    "# 리스트를 반대로 뒤집는 함수 --> reverse()\n",
    "abcdef= [13,27,1,32,45,7]\n",
    "abcdef.reverse()\n",
    "abcdef"
   ]
  },
  {
   "cell_type": "code",
   "execution_count": 154,
   "id": "3fd80cea",
   "metadata": {},
   "outputs": [
    {
     "data": {
      "text/plain": [
       "[45, 32, 27, 13, 7, 1]"
      ]
     },
     "execution_count": 154,
     "metadata": {},
     "output_type": "execute_result"
    }
   ],
   "source": [
    "# 내림 차순 정렬\n",
    "abcdefg= [13,27,1,32,45,7]\n",
    "abcdefg.sort(reverse=True)  # sort내에 reverse 기본값이 존재하는데 false이다\n",
    "abcdefg"
   ]
  },
  {
   "cell_type": "code",
   "execution_count": 161,
   "id": "4a4c879e",
   "metadata": {},
   "outputs": [
    {
     "data": {
      "text/plain": [
       "['a', 'b', 'c', 'd', 'e']"
      ]
     },
     "execution_count": 161,
     "metadata": {},
     "output_type": "execute_result"
    }
   ],
   "source": [
    "# 리스트 값 위치 출력 / 제거\n",
    "# 리스트 내부에 위치한 자료의 인덱스를 확인한 방법\n",
    "list15 = ['a', 'b', 'c','d', 'e']\n",
    "list15.index('c')\n",
    "list15\n"
   ]
  },
  {
   "cell_type": "code",
   "execution_count": 162,
   "id": "56e70213",
   "metadata": {},
   "outputs": [
    {
     "data": {
      "text/plain": [
       "'e'"
      ]
     },
     "execution_count": 162,
     "metadata": {},
     "output_type": "execute_result"
    }
   ],
   "source": [
    "# pop  --> 마지막 값을 출력 후 리스트에서 제거\n",
    "list15.pop()"
   ]
  },
  {
   "cell_type": "code",
   "execution_count": 163,
   "id": "4d1b8446",
   "metadata": {},
   "outputs": [
    {
     "data": {
      "text/plain": [
       "['a', 'b', 'c', 'd']"
      ]
     },
     "execution_count": 163,
     "metadata": {},
     "output_type": "execute_result"
    }
   ],
   "source": [
    "list15"
   ]
  },
  {
   "cell_type": "code",
   "execution_count": 164,
   "id": "1788b03c",
   "metadata": {},
   "outputs": [
    {
     "data": {
      "text/plain": [
       "4"
      ]
     },
     "execution_count": 164,
     "metadata": {},
     "output_type": "execute_result"
    }
   ],
   "source": [
    "# len(리스트) --> 리스트 내부의 값 갯수를 출력\n",
    "# 반복문 범위를 정하거니 리스트 내부의 데이터 갯수를 체크할때 사용 \n",
    "len(list15)"
   ]
  },
  {
   "cell_type": "code",
   "execution_count": 165,
   "id": "f6b8dd81",
   "metadata": {},
   "outputs": [
    {
     "name": "stdout",
     "output_type": "stream",
     "text": [
      "a\n",
      "b\n",
      "c\n",
      "d\n"
     ]
    }
   ],
   "source": [
    "for i in range (len(list15)) :\n",
    "    print(list15[i])"
   ]
  },
  {
   "cell_type": "code",
   "execution_count": null,
   "id": "8d0a8c84",
   "metadata": {},
   "outputs": [],
   "source": []
  },
  {
   "cell_type": "code",
   "execution_count": null,
   "id": "735e1b6e",
   "metadata": {},
   "outputs": [],
   "source": [
    "# 튜플 tuple -->()로 작성 # 상수와 같은 개념 변경 안되는 값을 저장한다 예)주민번호\n",
    "# 추가 수정 삭제 모두 안됨\n",
    "# 리스트는 자바의 arraylist 튜플은 자바의 array"
   ]
  },
  {
   "cell_type": "code",
   "execution_count": 167,
   "id": "32f32088",
   "metadata": {},
   "outputs": [
    {
     "name": "stdout",
     "output_type": "stream",
     "text": [
      "(),(1, 2, 3),('가', '나', '다'),(1, 2, '라', '마'),(1, 2, ('바', '사'))\n"
     ]
    }
   ],
   "source": [
    "a_= () \n",
    "b_=(1,2,3)\n",
    "c_=('가','나','다')\n",
    "d_= (1,2,'라','마')\n",
    "e_= (1,2,('바','사'))\n",
    "print(f'{a_},{b_},{c_},{d_},{e_}')"
   ]
  },
  {
   "cell_type": "code",
   "execution_count": 170,
   "id": "84e1b95e",
   "metadata": {},
   "outputs": [
    {
     "ename": "TypeError",
     "evalue": "'tuple' object does not support item assignment",
     "output_type": "error",
     "traceback": [
      "\u001b[1;31m---------------------------------------------------------------------------\u001b[0m",
      "\u001b[1;31mTypeError\u001b[0m                                 Traceback (most recent call last)",
      "Cell \u001b[1;32mIn[170], line 2\u001b[0m\n\u001b[0;32m      1\u001b[0m c_\u001b[38;5;241m=\u001b[39m(\u001b[38;5;124m'\u001b[39m\u001b[38;5;124m가\u001b[39m\u001b[38;5;124m'\u001b[39m,\u001b[38;5;124m'\u001b[39m\u001b[38;5;124m나\u001b[39m\u001b[38;5;124m'\u001b[39m,\u001b[38;5;124m'\u001b[39m\u001b[38;5;124m다\u001b[39m\u001b[38;5;124m'\u001b[39m)\n\u001b[1;32m----> 2\u001b[0m c_[\u001b[38;5;241m4\u001b[39m] \u001b[38;5;241m=\u001b[39m \u001b[38;5;124m\"\u001b[39m\u001b[38;5;124masd\u001b[39m\u001b[38;5;124m\"\u001b[39m\n\u001b[0;32m      3\u001b[0m c_\n",
      "\u001b[1;31mTypeError\u001b[0m: 'tuple' object does not support item assignment"
     ]
    }
   ],
   "source": [
    "c_=('가','나','다')   # 수정안됨\n",
    "c_[4] = \"asd\"\n",
    "c_"
   ]
  },
  {
   "cell_type": "code",
   "execution_count": 171,
   "id": "5894df27",
   "metadata": {},
   "outputs": [
    {
     "data": {
      "text/plain": [
       "2"
      ]
     },
     "execution_count": 171,
     "metadata": {},
     "output_type": "execute_result"
    }
   ],
   "source": [
    "b_=(1,2,3)\n",
    "b_[1]"
   ]
  },
  {
   "cell_type": "code",
   "execution_count": 172,
   "id": "64d12ab0",
   "metadata": {},
   "outputs": [
    {
     "data": {
      "text/plain": [
       "(2, 3)"
      ]
     },
     "execution_count": 172,
     "metadata": {},
     "output_type": "execute_result"
    }
   ],
   "source": [
    "b_[1:]"
   ]
  },
  {
   "cell_type": "code",
   "execution_count": 173,
   "id": "49543c77",
   "metadata": {},
   "outputs": [
    {
     "data": {
      "text/plain": [
       "3"
      ]
     },
     "execution_count": 173,
     "metadata": {},
     "output_type": "execute_result"
    }
   ],
   "source": [
    "len(b_)  # 내부의 값 세어준다"
   ]
  },
  {
   "cell_type": "code",
   "execution_count": null,
   "id": "8a07eb66",
   "metadata": {},
   "outputs": [],
   "source": [
    "# in()--> 찾고자 하는 값(x)가 포함되면 참      # 찾고자 하는 문자열이나 숫자 있는지 여부파악\n",
    "# 아니면 거짓\n",
    "# not in() --> 찾고자 하는 값(x)가 포함되면 거짓\n",
    "# 아니면 참"
   ]
  },
  {
   "cell_type": "code",
   "execution_count": 176,
   "id": "6be9caa5",
   "metadata": {},
   "outputs": [],
   "source": [
    "str1 = '마지막 시간입니다'"
   ]
  },
  {
   "cell_type": "code",
   "execution_count": 177,
   "id": "33db44e3",
   "metadata": {},
   "outputs": [
    {
     "data": {
      "text/plain": [
       "True"
      ]
     },
     "execution_count": 177,
     "metadata": {},
     "output_type": "execute_result"
    }
   ],
   "source": [
    "'마지막' in str1"
   ]
  },
  {
   "cell_type": "code",
   "execution_count": 179,
   "id": "7c6c25fd",
   "metadata": {},
   "outputs": [
    {
     "data": {
      "text/plain": [
       "True"
      ]
     },
     "execution_count": 179,
     "metadata": {},
     "output_type": "execute_result"
    }
   ],
   "source": [
    "azz= [13,27,1,32,45,7]\n",
    "37 not in azz"
   ]
  },
  {
   "cell_type": "code",
   "execution_count": 2,
   "id": "81d06e27",
   "metadata": {},
   "outputs": [
    {
     "name": "stdout",
     "output_type": "stream",
     "text": [
      "문자입력>> \n",
      "는 18번 들어 있네요!\n"
     ]
    }
   ],
   "source": [
    "# 문자열 사용자가 입력한 글자가 몇개 포함되었는지 출력\n",
    "text ='와~ 드디어 드디어 드디어 끝!'\n",
    "input1= input(\"문자입력>> \" )\n",
    "pp=text.count(input1)\n",
    "if (input1 in text) :\n",
    "    print (f'{input1}는 {pp}번 들어 있네요!')\n",
    "else :\n",
    "    print (f'{input1}는 없어요!')\n"
   ]
  },
  {
   "cell_type": "code",
   "execution_count": 3,
   "id": "6067c97e",
   "metadata": {},
   "outputs": [
    {
     "data": {
      "text/plain": [
       "2"
      ]
     },
     "execution_count": 3,
     "metadata": {},
     "output_type": "execute_result"
    }
   ],
   "source": [
    "# count함수\n",
    "text1 ='와~ 드디어 드디어 끝!'\n",
    "text1.count('드')\n",
    "\n",
    "\n"
   ]
  },
  {
   "cell_type": "code",
   "execution_count": null,
   "id": "1703db8b",
   "metadata": {},
   "outputs": [],
   "source": []
  }
 ],
 "metadata": {
  "kernelspec": {
   "display_name": "Python 3 (ipykernel)",
   "language": "python",
   "name": "python3"
  },
  "language_info": {
   "codemirror_mode": {
    "name": "ipython",
    "version": 3
   },
   "file_extension": ".py",
   "mimetype": "text/x-python",
   "name": "python",
   "nbconvert_exporter": "python",
   "pygments_lexer": "ipython3",
   "version": "3.11.5"
  }
 },
 "nbformat": 4,
 "nbformat_minor": 5
}
