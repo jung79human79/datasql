{
 "cells": [
  {
   "cell_type": "code",
   "execution_count": null,
   "id": "791f2b64",
   "metadata": {},
   "outputs": [],
   "source": [
    "# for 변수 in 문자열(or리스트 or튜플) :"
   ]
  },
  {
   "cell_type": "code",
   "execution_count": 1,
   "id": "a6edd23b",
   "metadata": {},
   "outputs": [
    {
     "name": "stdout",
     "output_type": "stream",
     "text": [
      "안\n",
      "녕\n",
      "하\n",
      "세\n",
      "요\n"
     ]
    }
   ],
   "source": [
    "hi = '안녕하세요'\n",
    "for s in hi :\n",
    "    print(s)"
   ]
  },
  {
   "cell_type": "code",
   "execution_count": 11,
   "id": "fce691ef",
   "metadata": {},
   "outputs": [
    {
     "name": "stdout",
     "output_type": "stream",
     "text": [
      "1번 학생은 합격입니다\n",
      "2번 학생은 불합격입니다\n",
      "3번 학생은 합격입니다\n",
      "4번 학생은 합격입니다\n",
      "5번 학생은 불합격입니다\n"
     ]
    }
   ],
   "source": [
    "score=[90,45,70,60,55]\n",
    "num =1\n",
    "for i in score :\n",
    "    if i >= 60 : \n",
    "        print(f'{num}번 학생은 합격입니다')\n",
    "        num +=1\n",
    "        \n",
    "    else :\n",
    "\n",
    "        print(f'{num}번 학생은 불합격입니다')\n",
    "        num +=1\n",
    "        "
   ]
  },
  {
   "cell_type": "code",
   "execution_count": 10,
   "id": "920c1a5d",
   "metadata": {},
   "outputs": [
    {
     "name": "stdout",
     "output_type": "stream",
     "text": [
      "1번 학생은 합격입니다\n",
      "2번 학생은 불합격입니다\n",
      "3번 학생은 합격입니다\n",
      "4번 학생은 합격입니다\n",
      "5번 학생은 불합격입니다\n"
     ]
    }
   ],
   "source": [
    "# 교수님 방법\n",
    "score1=[90,45,70,60,55]\n",
    "cnt =0\n",
    "for i in score :\n",
    "    cnt += 1\n",
    "    if i >= 60 : \n",
    "        print(f'{cnt}번 학생은 합격입니다')       \n",
    "    else :\n",
    "        print(f'{cnt}번 학생은 불합격입니다')\n",
    "        "
   ]
  },
  {
   "cell_type": "code",
   "execution_count": 9,
   "id": "3dc2f19d",
   "metadata": {},
   "outputs": [
    {
     "name": "stdout",
     "output_type": "stream",
     "text": [
      "a\n",
      "b\n",
      "c\n",
      "d\n"
     ]
    }
   ],
   "source": [
    "list15 = ['a', 'b', 'c', 'd']\n",
    "for i in range (len(list15)) :\n",
    "    print(list15[i])"
   ]
  },
  {
   "cell_type": "code",
   "execution_count": null,
   "id": "16b1d442",
   "metadata": {},
   "outputs": [],
   "source": [
    "score2=[57,86,63,92,35,79]\n",
    "num =0\n",
    "gr =''\n",
    "for i in score2 :\n",
    "    num += 1\n",
    "    if i>= 80 :\n",
    "        gr='a'\n",
    "        print(f'{num}번은 {i}점 이며 {gr} 등급입니다')\n",
    "    elif i>=60 & i<80:\n",
    "        gr='b'\n",
    "        print(f'{num}번은 {i}점 이며 {gr} 등급입니다')\n",
    "    else :\n",
    "        gr='c'\n",
    "        print(f'{num}번은 {i}점 이며 {gr} 등급입니다')\n",
    "        "
   ]
  },
  {
   "cell_type": "code",
   "execution_count": null,
   "id": "58a71cae",
   "metadata": {},
   "outputs": [],
   "source": [
    "# 고수님 방법\n",
    "score3=[57,86,63,92,35,79]\n",
    "num =0 \n",
    "for i in score3 :\n",
    "    if i>= 80 :\n",
    "        gr='a'\n",
    "    elif i>=60 & i<80:\n",
    "         gr='b'\n",
    "    else :\n",
    "        gr='c'\n",
    "    num += 1\n",
    "    print(f'{num}번은 {i}점 이며 {grade} 등급입니다')\n",
    "    "
   ]
  },
  {
   "cell_type": "code",
   "execution_count": null,
   "id": "86297176",
   "metadata": {},
   "outputs": [],
   "source": [
    "# range() 함수사용\n",
    "# 슬라이싱 규칙 적용\n",
    "# range(시작숫자,종료숫자+1,증가량)\n"
   ]
  },
  {
   "cell_type": "code",
   "execution_count": 23,
   "id": "9566120f",
   "metadata": {},
   "outputs": [
    {
     "name": "stdout",
     "output_type": "stream",
     "text": [
      "1 2 3 4 5 6 7 8 9 "
     ]
    }
   ],
   "source": [
    "#  print(end=출력후에 어떤 작업할 것인가? 옵션지정 --> 개행 ,띄어쓰기)\n",
    "for i in range (1,10,1) :\n",
    "    print(i,end=\" \")"
   ]
  },
  {
   "cell_type": "code",
   "execution_count": 37,
   "id": "dea0ca23",
   "metadata": {},
   "outputs": [
    {
     "name": "stdout",
     "output_type": "stream",
     "text": [
      "10\n",
      "9\n",
      "8\n",
      "7\n",
      "6\n",
      "5\n",
      "4\n",
      "3\n",
      "2\n",
      "1\n"
     ]
    }
   ],
   "source": [
    "# ??\n",
    "for i in range (10,0,-1) :\n",
    "    print(i)"
   ]
  },
  {
   "cell_type": "code",
   "execution_count": 25,
   "id": "b22f2d0e",
   "metadata": {},
   "outputs": [
    {
     "name": "stdout",
     "output_type": "stream",
     "text": [
      "1\n",
      "2\n",
      "3\n",
      "4\n",
      "5\n",
      "6\n",
      "7\n",
      "8\n",
      "9\n"
     ]
    }
   ],
   "source": [
    "# range() 함수속성 \n",
    "# range(시작숫자,종료숫자+1,증가량)\n",
    "# 1.하나의 값을 생략하는 경우 (증감량 생략(기본값은 +1))\n",
    "\n",
    "for i in range (1,10) : \n",
    "    print(i)"
   ]
  },
  {
   "cell_type": "code",
   "execution_count": null,
   "id": "88b31ca1",
   "metadata": {},
   "outputs": [],
   "source": [
    "# 2. 두개의 값을 생략하는 경우(시작값 생랙 (기본값 0) 증감량 생략(기본값은 +1))\n",
    "\n",
    "for i in range (10) : \n",
    "    print(i)\n",
    "    "
   ]
  },
  {
   "cell_type": "code",
   "execution_count": 40,
   "id": "0f56d89c",
   "metadata": {},
   "outputs": [
    {
     "name": "stdout",
     "output_type": "stream",
     "text": [
      "97 96 95 94 93 92 91 90 89 88 87 86 85 84 83 82 81 80 79 78 77 "
     ]
    }
   ],
   "source": [
    "# 97~77\n",
    "for i in range (97,76,-1) :\n",
    "    print(i,end=\" \")"
   ]
  },
  {
   "cell_type": "code",
   "execution_count": 30,
   "id": "788e4046",
   "metadata": {},
   "outputs": [
    {
     "name": "stdout",
     "output_type": "stream",
     "text": [
      "23 24 25 26 27 28 29 30 31 32 33 34 35 36 37 38 39 "
     ]
    }
   ],
   "source": [
    "# 23~39\n",
    "for i in range (23,40) :\n",
    "    print(i,end=\" \")"
   ]
  },
  {
   "cell_type": "code",
   "execution_count": 31,
   "id": "a2cbca8c",
   "metadata": {},
   "outputs": [
    {
     "name": "stdout",
     "output_type": "stream",
     "text": [
      "1 2\n",
      "3 4\n",
      "5 6\n"
     ]
    }
   ],
   "source": [
    "# 2차원 리스트 출력하기   # 리스트내 변수내에 다중 입력 한 것과 같다\n",
    "list1 = [\n",
    "    [1,2],\n",
    "    [3,4],\n",
    "    [5,6]]\n",
    "for i,j in list1 :\n",
    "    print(i,j)"
   ]
  },
  {
   "cell_type": "code",
   "execution_count": 35,
   "id": "4883fde5",
   "metadata": {},
   "outputs": [
    {
     "name": "stdout",
     "output_type": "stream",
     "text": [
      "99\n"
     ]
    }
   ],
   "source": [
    "# 최대값 최소값 구하기\n",
    "list5=[4,5,2,1,99,15,2,7,27]\n",
    "a= list5[0]\n",
    "for i in list5 :    \n",
    "    if a<i:\n",
    "        a=i   \n",
    "print(a)"
   ]
  },
  {
   "cell_type": "code",
   "execution_count": null,
   "id": "0ac93d69",
   "metadata": {},
   "outputs": [],
   "source": [
    "# 1부터~100 3배의 배수인 값들의 합\n",
    "num=0\n",
    "for i in range (1,101)\n",
    "    if i%3==0 :\n",
    "        num = i\n",
    "        num2 += num\n",
    "print(num2)"
   ]
  },
  {
   "cell_type": "code",
   "execution_count": null,
   "id": "e2ab5b1f",
   "metadata": {},
   "outputs": [],
   "source": [
    "# 구구단 2단\n",
    "int = 2\n",
    "for i in (1,10)\n",
    "    print(f'{dan} * {i}  = {dan*i})"
   ]
  },
  {
   "cell_type": "code",
   "execution_count": null,
   "id": "41617fab",
   "metadata": {},
   "outputs": [],
   "source": [
    "sum1 =0\n",
    "for i in range (0,101,3)\n",
    "    sum1+=i\n",
    "print(sim1)   "
   ]
  },
  {
   "cell_type": "code",
   "execution_count": null,
   "id": "5e65ffba",
   "metadata": {},
   "outputs": [],
   "source": [
    "for i in (1,10)\n",
    "    # print(f'{dan} * {i}  = {dan*i})\n",
    "    print(f'2*{i} = {2*i})     "
   ]
  },
  {
   "cell_type": "code",
   "execution_count": 49,
   "id": "cbef7915",
   "metadata": {},
   "outputs": [
    {
     "name": "stdout",
     "output_type": "stream",
     "text": [
      "정수입력>> 32\n",
      "1 2 4 8 16 32 "
     ]
    }
   ],
   "source": [
    "asc = int(input (\"정수입력>> \"))\n",
    "\n",
    "for i in range(1,asc+1) :\n",
    "    if asc % i == 0 :\n",
    "        print (i,end=\" \" )"
   ]
  },
  {
   "cell_type": "code",
   "execution_count": 50,
   "id": "a187c25f",
   "metadata": {},
   "outputs": [
    {
     "name": "stdout",
     "output_type": "stream",
     "text": [
      "정수입력>> 32\n",
      "32의 약수:  1 2 4 8 16 32 "
     ]
    }
   ],
   "source": [
    "# 약수 교수님\n",
    "num = int(input (\"정수입력>> \"))\n",
    "print (f'{num}의 약수: ' ,end=\" \" )\n",
    "for i in range(1,num+1) :\n",
    "    if num % i == 0 :\n",
    "        print (i,end=\" \" )\n",
    "        "
   ]
  },
  {
   "cell_type": "code",
   "execution_count": null,
   "id": "9dc98b29",
   "metadata": {},
   "outputs": [],
   "source": []
  },
  {
   "cell_type": "code",
   "execution_count": null,
   "id": "1fa2fe10",
   "metadata": {},
   "outputs": [],
   "source": []
  },
  {
   "cell_type": "code",
   "execution_count": null,
   "id": "b68b7e88",
   "metadata": {},
   "outputs": [],
   "source": []
  },
  {
   "cell_type": "code",
   "execution_count": null,
   "id": "f223769f",
   "metadata": {},
   "outputs": [],
   "source": []
  },
  {
   "cell_type": "code",
   "execution_count": null,
   "id": "6888e7ed",
   "metadata": {},
   "outputs": [],
   "source": []
  },
  {
   "cell_type": "code",
   "execution_count": null,
   "id": "6258ddcb",
   "metadata": {},
   "outputs": [],
   "source": []
  },
  {
   "cell_type": "code",
   "execution_count": null,
   "id": "f0a9ccfe",
   "metadata": {},
   "outputs": [],
   "source": []
  }
 ],
 "metadata": {
  "kernelspec": {
   "display_name": "Python 3 (ipykernel)",
   "language": "python",
   "name": "python3"
  },
  "language_info": {
   "codemirror_mode": {
    "name": "ipython",
    "version": 3
   },
   "file_extension": ".py",
   "mimetype": "text/x-python",
   "name": "python",
   "nbconvert_exporter": "python",
   "pygments_lexer": "ipython3",
   "version": "3.11.5"
  }
 },
 "nbformat": 4,
 "nbformat_minor": 5
}
