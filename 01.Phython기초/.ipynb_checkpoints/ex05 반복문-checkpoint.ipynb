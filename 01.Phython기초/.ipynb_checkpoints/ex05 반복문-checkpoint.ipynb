{
 "cells": [
  {
   "cell_type": "code",
   "execution_count": null,
   "id": "8ff0a834",
   "metadata": {},
   "outputs": [],
   "source": [
    "# while 반복문 실습\n",
    "num = 1\n",
    "while num<=10 :\n",
    "    print(f'파이썬 최고! {num}번째')\n",
    "    num += 1\n",
    "    "
   ]
  },
  {
   "cell_type": "code",
   "execution_count": null,
   "id": "a70d823c",
   "metadata": {},
   "outputs": [],
   "source": [
    "while True :\n",
    "    print('무한루프')\n",
    "    break"
   ]
  },
  {
   "cell_type": "code",
   "execution_count": 7,
   "id": "4ca5046c",
   "metadata": {},
   "outputs": [
    {
     "name": "stdout",
     "output_type": "stream",
     "text": [
      "1\n",
      "2\n",
      "3\n"
     ]
    }
   ],
   "source": [
    "# 3까지 출력된 후 break.\n",
    "num = 1\n",
    "\n",
    "while True :\n",
    "    print(num)\n",
    "    num += 1\n",
    "    if num >3 :\n",
    "        break "
   ]
  },
  {
   "cell_type": "code",
   "execution_count": 4,
   "id": "3851ade4",
   "metadata": {},
   "outputs": [
    {
     "name": "stdout",
     "output_type": "stream",
     "text": [
      "이름입력>> 정재은\n",
      "정재은 최고!\n",
      "이름입력>> 강아람\n",
      "아파서 속상해요\n"
     ]
    }
   ],
   "source": [
    "# while문 활용 문제\n",
    "# while문 활용해서 이름 입력받고 \n",
    "# 입력받은 이름 최고! 라고 출력\n",
    "# 단 ,입력받은 이름이 강아람이면  아파서 속상해요 라고 출력 반복문 종료 \n",
    "while True :\n",
    "    input1= input(\"이름입력>> \" )\n",
    "    if input1 == '강아람' :\n",
    "        print('아파서 속상해요')\n",
    "        break\n",
    "    print(f'{input1} 최고!')\n",
    "    "
   ]
  },
  {
   "cell_type": "code",
   "execution_count": 3,
   "id": "556213b2",
   "metadata": {},
   "outputs": [
    {
     "name": "stdout",
     "output_type": "stream",
     "text": [
      "첫번째 정수입력>>1\n",
      "두번째 정수입력>>2\n",
      "두 정수의 합 : 3\n",
      "첫번째 정수입력>>7\n",
      "두번째 정수입력>>3\n",
      "두 정수의 합 : 10\n",
      "첫번째 정수입력>>13\n",
      "두번째 정수입력>>77\n",
      "두 정수의 합 : 90\n",
      "첫번째 정수입력>>0\n",
      "두번째 정수입력>>0\n",
      "프로그램종료\n"
     ]
    }
   ],
   "source": [
    "# 두수의 합 구하기\n",
    "# 두수가 0 이면 종료\n",
    "while True :\n",
    "    num1= int(input (\"첫번째 정수입력>>\"))\n",
    "    num2= int(input (\"두번째 정수입력>>\"))\n",
    "    if (num1 == 0) & (num2 ==0) :\n",
    "        print('프로그램종료')\n",
    "        break\n",
    "    print(f'두 정수의 합 : {num1+num2}')\n",
    "    "
   ]
  },
  {
   "cell_type": "code",
   "execution_count": 9,
   "id": "237bccfd",
   "metadata": {},
   "outputs": [
    {
     "name": "stdout",
     "output_type": "stream",
     "text": [
      "첫번째 정수입력>>80\n",
      "두번째 정수입력>>70\n",
      "1주차 감량 몸무게>> 2\n",
      "1주차 감량 몸무게>> 3\n",
      "1주차 감량 몸무게>> 4\n",
      "1주차 감량 몸무게>> 5\n",
      "66kg 달성 축하합니다!!\n"
     ]
    }
   ],
   "source": [
    "num1= int(input (\"현재 몸무게>>\"))\n",
    "num2= int(input (\"두번째 몸무게>>\"))\n",
    "num3 = 1\n",
    "num5 = 0\n",
    "while True :\n",
    "    num4 = int(input (f'{num3}주차 감량 몸무게>> '))\n",
    "    num3 +=1 \n",
    "    num5 += num4\n",
    "    if  num1-num5 <= num2 :\n",
    "        print(f'{num1-num5}kg 달성 축하합니다!!')\n",
    "        break\n"
   ]
  },
  {
   "cell_type": "code",
   "execution_count": null,
   "id": "517adb08",
   "metadata": {},
   "outputs": [],
   "source": [
    "w= int(input (\"현재 몸무게>>\"))\n",
    "g= int(input (\"두번째 몸무게>>\"))\n",
    "week = 1\n",
    "\n",
    "while  w>=g :\n",
    "    num4 = int(input (f'{week}주차 감량 몸무게>> '))\n",
    "    week =+ 1\n",
    "    w -= num4\n",
    "    \n",
    "print(f'{w}kg 달성 축하합니다!!')\n",
    "\n"
   ]
  },
  {
   "cell_type": "code",
   "execution_count": null,
   "id": "d5e6fac4",
   "metadata": {},
   "outputs": [],
   "source": [
    "# 업다운 게임만들기\n",
    "import random \n",
    "\n",
    "num = random.randint(1,100)  # 슬라이싱과는 달리 숫자 범위 그대로 생성\n",
    "\n",
    "while True :\n",
    "    a=int(input ('수자 입력>> '))\n",
    "    \n",
    "    if num > a :\n",
    "        print(f'{a}보다 크다!!')\n",
    "    elif num < a :\n",
    "        print(f'{a}보다 작다!!')\n",
    "    else :\n",
    "        print('정답!!')\n",
    "        break\n"
   ]
  },
  {
   "cell_type": "code",
   "execution_count": null,
   "id": "4f19d7ff",
   "metadata": {},
   "outputs": [],
   "source": []
  },
  {
   "cell_type": "code",
   "execution_count": null,
   "id": "5d39bed8",
   "metadata": {},
   "outputs": [],
   "source": []
  },
  {
   "cell_type": "code",
   "execution_count": null,
   "id": "f5da7797",
   "metadata": {},
   "outputs": [],
   "source": []
  },
  {
   "cell_type": "code",
   "execution_count": null,
   "id": "3af6c891",
   "metadata": {},
   "outputs": [],
   "source": []
  },
  {
   "cell_type": "code",
   "execution_count": null,
   "id": "bcb020cd",
   "metadata": {},
   "outputs": [],
   "source": []
  },
  {
   "cell_type": "code",
   "execution_count": null,
   "id": "5d89fc5f",
   "metadata": {},
   "outputs": [],
   "source": []
  },
  {
   "cell_type": "code",
   "execution_count": null,
   "id": "e833f6d0",
   "metadata": {},
   "outputs": [],
   "source": []
  },
  {
   "cell_type": "code",
   "execution_count": null,
   "id": "ed71d78e",
   "metadata": {},
   "outputs": [],
   "source": []
  },
  {
   "cell_type": "code",
   "execution_count": null,
   "id": "26fd54a3",
   "metadata": {},
   "outputs": [],
   "source": []
  }
 ],
 "metadata": {
  "kernelspec": {
   "display_name": "Python 3 (ipykernel)",
   "language": "python",
   "name": "python3"
  },
  "language_info": {
   "codemirror_mode": {
    "name": "ipython",
    "version": 3
   },
   "file_extension": ".py",
   "mimetype": "text/x-python",
   "name": "python",
   "nbconvert_exporter": "python",
   "pygments_lexer": "ipython3",
   "version": "3.11.5"
  }
 },
 "nbformat": 4,
 "nbformat_minor": 5
}
