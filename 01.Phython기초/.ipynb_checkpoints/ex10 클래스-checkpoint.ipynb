{
 "cells": [
  {
   "cell_type": "code",
   "execution_count": 2,
   "id": "bff22edf",
   "metadata": {},
   "outputs": [
    {
     "name": "stdout",
     "output_type": "stream",
     "text": [
      "Python\n"
     ]
    }
   ],
   "source": [
    "class SampleClass:\n",
    "    var = \"Python\"\n",
    "a = SampleClass()\n",
    "print(a.var)"
   ]
  },
  {
   "cell_type": "code",
   "execution_count": 6,
   "id": "6dda44cc",
   "metadata": {},
   "outputs": [
    {
     "name": "stdout",
     "output_type": "stream",
     "text": [
      "Python\n",
      "30\n"
     ]
    }
   ],
   "source": [
    "class SampleClass:\n",
    "    var = \"Python\"\n",
    "    def hap(self, a, b): #hap은 self가 현재 클래스의 인스턴스인지 검사\n",
    "        return a+b\n",
    "a = SampleClass()\n",
    "print(a.var)\n",
    "print(a.hap(10, 20)) #첫 번째 인자는 생략 (self가 알아서 처리)"
   ]
  },
  {
   "cell_type": "code",
   "execution_count": 8,
   "id": "d7ba0812",
   "metadata": {},
   "outputs": [
    {
     "name": "stdout",
     "output_type": "stream",
     "text": [
      "홍길동 님 10 + 20 = 30 입니다\n"
     ]
    }
   ],
   "source": [
    "class SampleClass:\n",
    "    def setname(self, name):\n",
    "        self.name = name\n",
    "    def sum(self, a, b):\n",
    "        result = a + b\n",
    "        print(\"%s 님 %d + %d = %d 입니다\" %(self.name, a, b, result))\n",
    "a = SampleClass()\n",
    "a.setname(\"홍길동\")\n",
    "a.sum(10, 20)"
   ]
  }
 ],
 "metadata": {
  "kernelspec": {
   "display_name": "Python 3 (ipykernel)",
   "language": "python",
   "name": "python3"
  },
  "language_info": {
   "codemirror_mode": {
    "name": "ipython",
    "version": 3
   },
   "file_extension": ".py",
   "mimetype": "text/x-python",
   "name": "python",
   "nbconvert_exporter": "python",
   "pygments_lexer": "ipython3",
   "version": "3.11.5"
  }
 },
 "nbformat": 4,
 "nbformat_minor": 5
}
