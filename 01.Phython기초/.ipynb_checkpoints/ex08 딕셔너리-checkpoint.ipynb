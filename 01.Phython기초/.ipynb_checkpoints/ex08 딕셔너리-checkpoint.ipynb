{
 "cells": [
  {
   "cell_type": "code",
   "execution_count": null,
   "id": "14a45460",
   "metadata": {},
   "outputs": [],
   "source": [
    "# {}사용 사전에서 불변한 단어와 변할 수 있는 뜻 처럼 '키':'밸류' 로 구성 순서가 없는 집합 즉 인덱스가 없음 불러오려면 키를 이용\n",
    "# 값이 비어 있는 빈 딕셔너리 만들기\n",
    "a={}\n",
    "a"
   ]
  },
  {
   "cell_type": "code",
   "execution_count": null,
   "id": "bde873f7",
   "metadata": {},
   "outputs": [],
   "source": [
    "b={'name':'재은'}\n",
    "b"
   ]
  },
  {
   "cell_type": "code",
   "execution_count": null,
   "id": "5a71c9e0",
   "metadata": {},
   "outputs": [],
   "source": [
    "c={1:5,2:3}\n",
    "c"
   ]
  },
  {
   "cell_type": "code",
   "execution_count": 2,
   "id": "1aebe2bf",
   "metadata": {},
   "outputs": [
    {
     "data": {
      "text/plain": [
       "{'name': 'sw', 'age': '20', 'ph': '010-1245-1412'}"
      ]
     },
     "execution_count": 2,
     "metadata": {},
     "output_type": "execute_result"
    }
   ],
   "source": [
    "d={'name':'sw','age':'20','ph':'010-1245-1412'}\n",
    "d"
   ]
  },
  {
   "cell_type": "code",
   "execution_count": null,
   "id": "58899273",
   "metadata": {},
   "outputs": [],
   "source": [
    "print(type(d))"
   ]
  },
  {
   "cell_type": "code",
   "execution_count": null,
   "id": "e9fba934",
   "metadata": {},
   "outputs": [],
   "source": [
    "# 딕셔 값 추가해보기\n",
    "# 키가 동일한게 없다면  추가해라 # 기존 딕에 없는 키값을 추가해야한다\n",
    "d['gender']='12/11'\n",
    "d"
   ]
  },
  {
   "cell_type": "code",
   "execution_count": null,
   "id": "e1e99bd9",
   "metadata": {},
   "outputs": [],
   "source": [
    "# 딕셔 값 추가 실습\n",
    "dic1={'노래제목':'라일락'}\n",
    "print('데이터 추가 전 :',dic1)"
   ]
  },
  {
   "cell_type": "code",
   "execution_count": null,
   "id": "0d7bb6c4",
   "metadata": {},
   "outputs": [],
   "source": [
    "# 딕셔 값 추가 실습\n",
    "dic1['가수']='아이유'\n",
    "dic1['날짜']='2021.03.26'\n",
    "print('데이터 추가 후 :',dic1)"
   ]
  },
  {
   "cell_type": "code",
   "execution_count": 3,
   "id": "f51a3cef",
   "metadata": {},
   "outputs": [
    {
     "name": "stdout",
     "output_type": "stream",
     "text": [
      "딕 수정전 : {'name': 'sw', 'age': '20', 'ph': '010-1245-1412'}\n",
      "딕 수정후 : {'name': 'sw', 'age': '20', 'ph': '010-1245-1412', 'gender': '남자'}\n"
     ]
    }
   ],
   "source": [
    "# 딕셔 값 수정\n",
    "print('딕 수정전 :',d)\n",
    "# 수정해야하는 밸류의 키를 가져오자\n",
    "d['gender']='남자'   # 기존의 키값의 유무로 추가 수정 구현 '유'라면 수정이다\n",
    "print('딕 수정후 :',d)"
   ]
  },
  {
   "cell_type": "code",
   "execution_count": 4,
   "id": "afe96cef",
   "metadata": {},
   "outputs": [
    {
     "data": {
      "text/plain": [
       "{'name': 'sw', 'ph': '010-1245-1412', 'gender': '남자'}"
      ]
     },
     "execution_count": 4,
     "metadata": {},
     "output_type": "execute_result"
    }
   ],
   "source": [
    "#딕셔 값 삭제\n",
    "del d['age']\n",
    "d             "
   ]
  },
  {
   "cell_type": "code",
   "execution_count": 5,
   "id": "4da727bf",
   "metadata": {},
   "outputs": [
    {
     "data": {
      "text/plain": [
       "'sw'"
      ]
     },
     "execution_count": 5,
     "metadata": {},
     "output_type": "execute_result"
    }
   ],
   "source": [
    "# 딕은 순서가 없는  집합  --> 인덱스 번호 없음 --> 데이터를 호출하는 기준이 필요한데 기준은 변하면 안되기에 불변의 값 키를 사용한다\n",
    "# \n",
    "d['name']"
   ]
  },
  {
   "cell_type": "code",
   "execution_count": 6,
   "id": "49128380",
   "metadata": {},
   "outputs": [
    {
     "data": {
      "text/plain": [
       "'남자'"
      ]
     },
     "execution_count": 6,
     "metadata": {},
     "output_type": "execute_result"
    }
   ],
   "source": [
    "d['gender']"
   ]
  },
  {
   "cell_type": "code",
   "execution_count": 7,
   "id": "e1b85a80",
   "metadata": {},
   "outputs": [
    {
     "data": {
      "text/plain": [
       "'남자'"
      ]
     },
     "execution_count": 7,
     "metadata": {},
     "output_type": "execute_result"
    }
   ],
   "source": [
    "# get함수이용\n",
    "d.get('gender')"
   ]
  },
  {
   "cell_type": "code",
   "execution_count": null,
   "id": "79b09d96",
   "metadata": {},
   "outputs": [],
   "source": [
    "# 딕명[키] vs 딕명.get(키)  \n",
    "# 결과는 같은데 값을 처리하는 방식이 다르다\n",
    "# 에러 혹은 none --> 에러는 프로그램을 멈추게 한다\n",
    "# 방금전에 삭제한 age를 키값으로 가져오자\n",
    "d['age']   # 키에러발생"
   ]
  },
  {
   "cell_type": "code",
   "execution_count": null,
   "id": "a5c2785d",
   "metadata": {},
   "outputs": [],
   "source": [
    "# 방금전에 삭제한 get으로 age를 get키값으로 가져오자\n",
    "print(d.get('age'))    # 비어있다"
   ]
  },
  {
   "cell_type": "code",
   "execution_count": 8,
   "id": "af73c64b",
   "metadata": {},
   "outputs": [
    {
     "data": {
      "text/plain": [
       "{'name': 'sw', 'age': '20', 'ph': '010-1245-1412'}"
      ]
     },
     "execution_count": 8,
     "metadata": {},
     "output_type": "execute_result"
    }
   ],
   "source": [
    "d={'name':'sw','age':'20','ph':'010-1245-1412'}\n",
    "d"
   ]
  },
  {
   "cell_type": "code",
   "execution_count": 9,
   "id": "d4c7dca1",
   "metadata": {},
   "outputs": [
    {
     "data": {
      "text/plain": [
       "dict_keys(['name', 'age', 'ph'])"
      ]
     },
     "execution_count": 9,
     "metadata": {},
     "output_type": "execute_result"
    }
   ],
   "source": [
    "# 딕 구조상 전체 키값만 필요할 때\n",
    "d.keys()"
   ]
  },
  {
   "cell_type": "code",
   "execution_count": 10,
   "id": "17506e38",
   "metadata": {},
   "outputs": [
    {
     "data": {
      "text/plain": [
       "dict_values(['sw', '20', '010-1245-1412'])"
      ]
     },
     "execution_count": 10,
     "metadata": {},
     "output_type": "execute_result"
    }
   ],
   "source": [
    "# 딕 구조상 전체 밸류값만 필요할 때\n",
    "d.values()"
   ]
  },
  {
   "cell_type": "code",
   "execution_count": 1,
   "id": "3f1667b1",
   "metadata": {},
   "outputs": [
    {
     "data": {
      "text/plain": [
       "{'규남': [30, '010-3124-1245', '남자', 178, 75],\n",
       " '상원': [25, '010-7895-1234', '남자', 174, 60]}"
      ]
     },
     "execution_count": 1,
     "metadata": {},
     "output_type": "execute_result"
    }
   ],
   "source": [
    "# 딕 밸류값에는 리스트 또는 튜플도 들어간다\n",
    "dic2={'규남':[30,'010-3124-1245','남자',178,75],\n",
    "      '상원':[25,'010-7895-1234','남자',174,60]}\n",
    "dic2"
   ]
  },
  {
   "cell_type": "code",
   "execution_count": 2,
   "id": "752e28fd",
   "metadata": {},
   "outputs": [
    {
     "data": {
      "text/plain": [
       "75"
      ]
     },
     "execution_count": 2,
     "metadata": {},
     "output_type": "execute_result"
    }
   ],
   "source": [
    "# 밸류값에 리스트나 튜플이 있다면 전체 혹은 인덱스 번호로 원하는 개별 정보도 가져온다\n",
    "dic2['규남'][4]"
   ]
  },
  {
   "cell_type": "code",
   "execution_count": null,
   "id": "79701e9d",
   "metadata": {},
   "outputs": [],
   "source": [
    "# 반복문을 활용해서 딕 사용해보기\n",
    "# 키값을 이용해서 for문 써보기\n",
    "for key in d.keys() :\n",
    "    print(key)"
   ]
  },
  {
   "cell_type": "code",
   "execution_count": null,
   "id": "25e1690d",
   "metadata": {},
   "outputs": [],
   "source": [
    "# 밸류값을 이용해서 for문 써보기\n",
    "for value in d.values() :\n",
    "    print(value)"
   ]
  },
  {
   "cell_type": "code",
   "execution_count": null,
   "id": "900c5b10",
   "metadata": {},
   "outputs": [],
   "source": [
    "# item 함수 : 딕의 키외 밸류 모두 가져오는 함수\n",
    "d.items()"
   ]
  },
  {
   "cell_type": "code",
   "execution_count": null,
   "id": "012537f4",
   "metadata": {},
   "outputs": [],
   "source": [
    "for key,value in d.items() :\n",
    "    print(key,'\\t' , value)"
   ]
  },
  {
   "cell_type": "code",
   "execution_count": null,
   "id": "0a7b7bdb",
   "metadata": {},
   "outputs": [],
   "source": [
    "for key in d.items() :\n",
    "    print(key)"
   ]
  },
  {
   "cell_type": "code",
   "execution_count": 12,
   "id": "99777735",
   "metadata": {},
   "outputs": [
    {
     "data": {
      "text/plain": [
       "{'규남': [30, '010-3124-1245', '남자', 178, 75],\n",
       " '상원': [25, '010-7895-1234', '남자', 174, 60],\n",
       " '동희': [26, '010-1245-7896', '남자', 180, 68],\n",
       " '은해': [23, '010-4521-7885', '여자', 168, 55]}"
      ]
     },
     "execution_count": 12,
     "metadata": {},
     "output_type": "execute_result"
    }
   ],
   "source": [
    "dic2={'규남':[30,'010-3124-1245','남자',178,75],\n",
    "      '상원':[25,'010-7895-1234','남자',174,60],\n",
    "      '동희':[26,'010-1245-7896','남자',180,68],\n",
    "      '은해':[23,'010-4521-7885','여자',168,55]}\n",
    "dic2"
   ]
  },
  {
   "cell_type": "code",
   "execution_count": null,
   "id": "6c0af19c",
   "metadata": {},
   "outputs": [],
   "source": [
    "# 반복문 활용\n",
    "for key in dic2.keys() :\n",
    "    print(dic2[key][0])"
   ]
  },
  {
   "cell_type": "code",
   "execution_count": null,
   "id": "8754a761",
   "metadata": {},
   "outputs": [],
   "source": [
    "# 딕에서 in 함수 사용법\n",
    "# 딕에서 in 함수는 키에 한해서 동작한다\n",
    "'name' in d"
   ]
  },
  {
   "cell_type": "code",
   "execution_count": null,
   "id": "40e5df9c",
   "metadata": {},
   "outputs": [],
   "source": [
    "# clear()함수 -  딕 내부의값 초기화\n",
    "d.clear()\n",
    "print('안녕',d)\n"
   ]
  },
  {
   "cell_type": "code",
   "execution_count": null,
   "id": "b9a6d9fd",
   "metadata": {},
   "outputs": [],
   "source": []
  },
  {
   "cell_type": "code",
   "execution_count": null,
   "id": "30cc9d4f",
   "metadata": {},
   "outputs": [],
   "source": []
  },
  {
   "cell_type": "code",
   "execution_count": null,
   "id": "7d6e786d",
   "metadata": {},
   "outputs": [],
   "source": []
  },
  {
   "cell_type": "code",
   "execution_count": null,
   "id": "3c3025f0",
   "metadata": {},
   "outputs": [],
   "source": []
  },
  {
   "cell_type": "code",
   "execution_count": null,
   "id": "6e3f2f9f",
   "metadata": {},
   "outputs": [],
   "source": []
  },
  {
   "cell_type": "code",
   "execution_count": null,
   "id": "6f0fca6d",
   "metadata": {},
   "outputs": [],
   "source": []
  },
  {
   "cell_type": "code",
   "execution_count": null,
   "id": "22327cc6",
   "metadata": {},
   "outputs": [],
   "source": []
  }
 ],
 "metadata": {
  "kernelspec": {
   "display_name": "Python 3 (ipykernel)",
   "language": "python",
   "name": "python3"
  },
  "language_info": {
   "codemirror_mode": {
    "name": "ipython",
    "version": 3
   },
   "file_extension": ".py",
   "mimetype": "text/x-python",
   "name": "python",
   "nbconvert_exporter": "python",
   "pygments_lexer": "ipython3",
   "version": "3.11.5"
  }
 },
 "nbformat": 4,
 "nbformat_minor": 5
}
