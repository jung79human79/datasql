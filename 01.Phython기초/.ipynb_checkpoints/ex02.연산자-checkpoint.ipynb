{
 "cells": [
  {
   "cell_type": "code",
   "execution_count": 1,
   "id": "9617d2ce",
   "metadata": {},
   "outputs": [
    {
     "name": "stdout",
     "output_type": "stream",
     "text": [
      "1.4285714285714286\n",
      "3\n",
      "1\n"
     ]
    }
   ],
   "source": [
    "num1=10\n",
    "num2=7\n",
    "print(num1/num2)\n",
    "print(num1%num2)\n",
    "print(num1//num2)"
   ]
  },
  {
   "cell_type": "code",
   "execution_count": 2,
   "id": "46f600c9",
   "metadata": {},
   "outputs": [
    {
     "data": {
      "text/plain": [
       "'안녕하세요'"
      ]
     },
     "execution_count": 2,
     "metadata": {},
     "output_type": "execute_result"
    }
   ],
   "source": [
    "# 문자열을 더 할수있다\n",
    "str1='안녕'\n",
    "str2=\"하세요\"\n",
    "str1+str2"
   ]
  },
  {
   "cell_type": "code",
   "execution_count": 3,
   "id": "3b369d96",
   "metadata": {},
   "outputs": [
    {
     "data": {
      "text/plain": [
       "'107'"
      ]
     },
     "execution_count": 3,
     "metadata": {},
     "output_type": "execute_result"
    }
   ],
   "source": [
    "str1='10'\n",
    "str2='7'\n",
    "str1+str2"
   ]
  },
  {
   "cell_type": "code",
   "execution_count": 4,
   "id": "46444c98",
   "metadata": {},
   "outputs": [
    {
     "ename": "TypeError",
     "evalue": "unsupported operand type(s) for +: 'int' and 'str'",
     "output_type": "error",
     "traceback": [
      "\u001b[1;31m---------------------------------------------------------------------------\u001b[0m",
      "\u001b[1;31mTypeError\u001b[0m                                 Traceback (most recent call last)",
      "Cell \u001b[1;32mIn[4], line 3\u001b[0m\n\u001b[0;32m      1\u001b[0m num\u001b[38;5;241m=\u001b[39m\u001b[38;5;241m10\u001b[39m\n\u001b[0;32m      2\u001b[0m str2\u001b[38;5;241m=\u001b[39m\u001b[38;5;124m'\u001b[39m\u001b[38;5;124m7\u001b[39m\u001b[38;5;124m'\u001b[39m\n\u001b[1;32m----> 3\u001b[0m num \u001b[38;5;241m+\u001b[39m str2\n",
      "\u001b[1;31mTypeError\u001b[0m: unsupported operand type(s) for +: 'int' and 'str'"
     ]
    }
   ],
   "source": [
    "num=10\n",
    "str2='7'\n",
    "num + str2\n",
    "# 타입이 다르면 연산 안됨\n"
   ]
  },
  {
   "cell_type": "code",
   "execution_count": 5,
   "id": "627922ae",
   "metadata": {},
   "outputs": [
    {
     "name": "stdout",
     "output_type": "stream",
     "text": [
      "1510\n",
      "25\n"
     ]
    }
   ],
   "source": [
    "# 타입이 달라서 연산 안되면 형변환시도\n",
    "# 숫자를 문자로 변환\n",
    "num1=15\n",
    "str2='10'\n",
    "print(str(num1)+str2)\n",
    "# 문자를 숫자로 변환\n",
    "print(num1+int(str2))"
   ]
  },
  {
   "cell_type": "code",
   "execution_count": 6,
   "id": "622fce6c",
   "metadata": {},
   "outputs": [
    {
     "name": "stdout",
     "output_type": "stream",
     "text": [
      "더하기 결과 : 26\n",
      "빼기 결과 : 20\n",
      "곱하기 결과 : 69\n",
      "나누기 결과 : 7.666666666666667\n"
     ]
    }
   ],
   "source": [
    "num1=23\n",
    "num2=3\n",
    "\n",
    "print(f'더하기 결과 : {num1+num2}')\n",
    "print(f'빼기 결과 : {num1-num2}')\n",
    "print(f'곱하기 결과 : {num1*num2}')\n",
    "print(f'나누기 결과 : {num1/num2}')"
   ]
  },
  {
   "cell_type": "code",
   "execution_count": 7,
   "id": "e8928257",
   "metadata": {},
   "outputs": [
    {
     "name": "stdout",
     "output_type": "stream",
     "text": [
      "1510\n",
      "25\n"
     ]
    }
   ],
   "source": [
    "num1=15\n",
    "str2='10'\n",
    "print(str(num1)+str2)\n",
    "print(num1+int(str2))"
   ]
  },
  {
   "cell_type": "code",
   "execution_count": 8,
   "id": "67f5f7c5",
   "metadata": {},
   "outputs": [
    {
     "name": "stdout",
     "output_type": "stream",
     "text": [
      "더하기 결과 : 20\n",
      "곱하기 결과 :  69\n",
      "나누기 결과 :  7.666666666666667\n"
     ]
    }
   ],
   "source": [
    "num1=23\n",
    "num2=3\n",
    "print('더하기 결과 : ' + str(num1-num2))\n",
    "print('곱하기 결과 : ' , (num1*num2))\n",
    "print('나누기 결과 : ' , (num1/num2))"
   ]
  },
  {
   "cell_type": "code",
   "execution_count": 21,
   "id": "cbb12178",
   "metadata": {},
   "outputs": [
    {
     "name": "stdout",
     "output_type": "stream",
     "text": [
      "정수룰 입력>>10\n",
      "정수룰 입력>>7\n",
      "더하기 결과 : 17\n",
      "빼기 결과 : 3\n",
      "곱하기 결과 :  70\n",
      "나누기 결과 :  1.4285714285714286\n"
     ]
    }
   ],
   "source": [
    "# 입력문을 통해서 num1과num2를 입력받고 연산 결과를 출력\n",
    "# input('표시할문장')\n",
    "\n",
    "num1= int(input (\"정수룰 입력>>\"))\n",
    "num1= int(input (\"정수룰 입력>>\"))\n",
    "print(f'더하기 결과 : {num1+num2}')\n",
    "print('빼기 결과 : ' + str(num1-num2))\n",
    "print('곱하기 결과 : ' , (num1*num2))\n",
    "print('나누기 결과 : ' , (num1/num2))\n",
    "\n",
    "# 빼기부터는 에러가 발생 이유를 살펴보자\n",
    "# 입력문은 문자열 값으로 나온다\n",
    "# 숫자 연산을 위해서는 형 변환이 필요하다"
   ]
  },
  {
   "cell_type": "code",
   "execution_count": 20,
   "id": "3fec7b29",
   "metadata": {},
   "outputs": [
    {
     "name": "stdout",
     "output_type": "stream",
     "text": [
      "<class 'str'>\n",
      "<class 'str'>\n"
     ]
    }
   ],
   "source": [
    "print(type(num2))\n",
    "print(type(num1))"
   ]
  },
  {
   "cell_type": "code",
   "execution_count": 29,
   "id": "6a9029f1",
   "metadata": {},
   "outputs": [
    {
     "name": "stdout",
     "output_type": "stream",
     "text": [
      "python 점수 입력>>100\n",
      "머신러닝 점수 입력>>80\n",
      "딥러닝 점수 입력>>60\n",
      "합계: 240\n",
      "평균: 80.0\n"
     ]
    }
   ],
   "source": [
    "python= int(input (\"python 점수 입력>>\"))\n",
    "머신러닝= int(input (\"머신러닝 점수 입력>>\"))\n",
    "딥러닝= int(input (\"딥러닝 점수 입력>>\"))\n",
    "\n",
    "\n",
    "print(f'합계: {python+머신러닝+딥러닝}')\n",
    "print(f'평균: {(python+머신러닝+딥러닝)/3}')"
   ]
  },
  {
   "cell_type": "code",
   "execution_count": 38,
   "id": "c84db0c4",
   "metadata": {},
   "outputs": [
    {
     "name": "stdout",
     "output_type": "stream",
     "text": [
      "시간 입력(초)>>7533\n",
      "2시간 5분 33초\n"
     ]
    }
   ],
   "source": [
    "time=int(input (\"시간 입력(초)>>\"))\n",
    "hour = time//3600  \n",
    "minute = time%3600//60 \n",
    "second = time%60\n",
    "print(\"{}시간 {}분 {}초\".format(hour,minute,second))"
   ]
  },
  {
   "cell_type": "code",
   "execution_count": null,
   "id": "10905ddb",
   "metadata": {},
   "outputs": [],
   "source": [
    "# 문자열 곱하기\n",
    "s= '*'\n",
    "print(s*10)"
   ]
  },
  {
   "cell_type": "code",
   "execution_count": null,
   "id": "9ea72c80",
   "metadata": {},
   "outputs": [],
   "source": [
    "s='안녕하세요'\n",
    "print(s*2)\n",
    "print(s+s)"
   ]
  },
  {
   "cell_type": "code",
   "execution_count": null,
   "id": "dcdb4ba5",
   "metadata": {},
   "outputs": [],
   "source": [
    "# 지수연산자 문제\n",
    "num=int(input (\"정수입력>>\"))\n",
    "po = int(input (\"지수입력>>\"))\n",
    "print(f'{num}의 {po}승은 {num**po}입니다')\n"
   ]
  },
  {
   "cell_type": "code",
   "execution_count": 50,
   "id": "594c5dfb",
   "metadata": {},
   "outputs": [
    {
     "name": "stdout",
     "output_type": "stream",
     "text": [
      "********** 연산하기 **********\n",
      "정수입력>>10\n",
      "정수입력>>20\n",
      "+연산자 입력 >>+\n",
      "10+20=30\n"
     ]
    }
   ],
   "source": [
    "# s= '*'\n",
    "print('*'*10,\"연산하기\",\"*\"*10)\n",
    "num1=int(input (\"정수입력>>\"))\n",
    "num2=int(input (\"정수입력>>\"))\n",
    "cal = input(\"+연산자 입력 >>\")\n",
    "\n",
    "print(\"{}{}{}={}\".format(num1,cal,num2,num1+num2))\n",
    "\n"
   ]
  },
  {
   "cell_type": "code",
   "execution_count": 54,
   "id": "ed614efe",
   "metadata": {},
   "outputs": [
    {
     "data": {
      "text/plain": [
       "str"
      ]
     },
     "execution_count": 54,
     "metadata": {},
     "output_type": "execute_result"
    }
   ],
   "source": [
    "type(cal)"
   ]
  },
  {
   "cell_type": "code",
   "execution_count": 52,
   "id": "29b74b0f",
   "metadata": {},
   "outputs": [
    {
     "data": {
      "text/plain": [
       "30"
      ]
     },
     "execution_count": 52,
     "metadata": {},
     "output_type": "execute_result"
    }
   ],
   "source": [
    "num=27\n",
    "num+=3\n",
    "num"
   ]
  },
  {
   "cell_type": "code",
   "execution_count": 53,
   "id": "a80577ab",
   "metadata": {},
   "outputs": [
    {
     "data": {
      "text/plain": [
       "45"
      ]
     },
     "execution_count": 53,
     "metadata": {},
     "output_type": "execute_result"
    }
   ],
   "source": [
    "num=100\n",
    "num-=55\n",
    "num"
   ]
  },
  {
   "cell_type": "code",
   "execution_count": 55,
   "id": "46031048",
   "metadata": {},
   "outputs": [
    {
     "data": {
      "text/plain": [
       "-10"
      ]
     },
     "execution_count": 55,
     "metadata": {},
     "output_type": "execute_result"
    }
   ],
   "source": [
    "num2=100\n",
    "num = num -55\n",
    "num"
   ]
  },
  {
   "cell_type": "code",
   "execution_count": 62,
   "id": "bcf43bab",
   "metadata": {},
   "outputs": [
    {
     "data": {
      "text/plain": [
       "36"
      ]
     },
     "execution_count": 62,
     "metadata": {},
     "output_type": "execute_result"
    }
   ],
   "source": [
    "num=27\n",
    "num+=3\n",
    "num+=3\n",
    "num+=3\n",
    "num"
   ]
  },
  {
   "cell_type": "code",
   "execution_count": 63,
   "id": "2989bf2f",
   "metadata": {},
   "outputs": [
    {
     "name": "stdout",
     "output_type": "stream",
     "text": [
      "a: 3\n",
      "b: 7\n"
     ]
    }
   ],
   "source": [
    "# 나누기는 실수형으로 나온다\n",
    "# 변수치환\n",
    "a=7\n",
    "b=3\n",
    "temp=a\n",
    "a=b\n",
    "b=temp\n",
    "print(\"a:\",a)\n",
    "print(\"b:\",b)\n",
    "\n"
   ]
  },
  {
   "cell_type": "code",
   "execution_count": 65,
   "id": "acfa969e",
   "metadata": {},
   "outputs": [
    {
     "name": "stdout",
     "output_type": "stream",
     "text": [
      "a: 3\n",
      "b: 7\n"
     ]
    }
   ],
   "source": [
    "a=7\n",
    "b=3\n",
    "a,b=b,a\n",
    "print(\"a:\",a)\n",
    "print(\"b:\",b)"
   ]
  },
  {
   "cell_type": "code",
   "execution_count": 66,
   "id": "0aaaf1d7",
   "metadata": {},
   "outputs": [
    {
     "name": "stdout",
     "output_type": "stream",
     "text": [
      "False\n",
      "True\n",
      "False\n",
      "True\n"
     ]
    }
   ],
   "source": [
    "a=3\n",
    "b=7\n",
    "print(a>b)\n",
    "print(a<=b)\n",
    "print(a==b)\n",
    "print(a!=b)"
   ]
  },
  {
   "cell_type": "code",
   "execution_count": 71,
   "id": "f966d38a",
   "metadata": {},
   "outputs": [
    {
     "name": "stdout",
     "output_type": "stream",
     "text": [
      "a:4, b:3\n",
      "True\n",
      "False\n",
      "False\n",
      "True\n"
     ]
    }
   ],
   "source": [
    "# random.randint : 범위내의 값을 랜덤으로 뽑아주는 함수(정수)\n",
    "import random\n",
    "a= random.randint(1,10)\n",
    "b= random.randint(1,10)\n",
    "print(f\"a:{a}, b:{b}\")\n",
    "\n",
    "print(a>b)\n",
    "print(a<=b)\n",
    "print(a==b)\n",
    "print(a!=b)"
   ]
  },
  {
   "cell_type": "code",
   "execution_count": 75,
   "id": "bd6549b9",
   "metadata": {},
   "outputs": [
    {
     "name": "stdout",
     "output_type": "stream",
     "text": [
      "False\n"
     ]
    },
    {
     "data": {
      "text/plain": [
       "True"
      ]
     },
     "execution_count": 75,
     "metadata": {},
     "output_type": "execute_result"
    }
   ],
   "source": [
    "a=3\n",
    "b=7\n",
    "print(not a<b)\n",
    "not a==b"
   ]
  },
  {
   "cell_type": "code",
   "execution_count": 76,
   "id": "0fa4cf6d",
   "metadata": {},
   "outputs": [
    {
     "data": {
      "text/plain": [
       "'합격'"
      ]
     },
     "execution_count": 76,
     "metadata": {},
     "output_type": "execute_result"
    }
   ],
   "source": [
    "# 삼항연산자 참이면 앞의 로직이 실행됨\n",
    "score=80\n",
    "\"합격\"if score >=60 else \"불합격\""
   ]
  },
  {
   "cell_type": "code",
   "execution_count": 77,
   "id": "1f32853b",
   "metadata": {},
   "outputs": [
    {
     "data": {
      "text/plain": [
       "'불합격'"
      ]
     },
     "execution_count": 77,
     "metadata": {},
     "output_type": "execute_result"
    }
   ],
   "source": [
    "score=50\n",
    "\"합격\"if score >=60 else \"불합격\""
   ]
  },
  {
   "cell_type": "code",
   "execution_count": 83,
   "id": "70846d06",
   "metadata": {},
   "outputs": [
    {
     "name": "stdout",
     "output_type": "stream",
     "text": [
      "정수입력>>2\n",
      "정수입력>>3\n",
      "b : 3\n"
     ]
    }
   ],
   "source": [
    "a=int(input (\"정수입력>>\"))\n",
    "b=int(input (\"정수입력>>\"))\n",
    "# print (a if a>b else b) \n",
    "# 삼항연산자\n",
    "print ('a: ',a)  if a>b else  print (\"b :\",b)\n"
   ]
  },
  {
   "cell_type": "code",
   "execution_count": null,
   "id": "15b04289",
   "metadata": {},
   "outputs": [],
   "source": [
    "a=int(input (\"정수입력>>\"))\n",
    "print (a+'는 짝수') if a%=2 else print('홀수') "
   ]
  },
  {
   "cell_type": "code",
   "execution_count": null,
   "id": "fb4bc943",
   "metadata": {},
   "outputs": [],
   "source": []
  }
 ],
 "metadata": {
  "kernelspec": {
   "display_name": "Python 3 (ipykernel)",
   "language": "python",
   "name": "python3"
  },
  "language_info": {
   "codemirror_mode": {
    "name": "ipython",
    "version": 3
   },
   "file_extension": ".py",
   "mimetype": "text/x-python",
   "name": "python",
   "nbconvert_exporter": "python",
   "pygments_lexer": "ipython3",
   "version": "3.11.5"
  }
 },
 "nbformat": 4,
 "nbformat_minor": 5
}
