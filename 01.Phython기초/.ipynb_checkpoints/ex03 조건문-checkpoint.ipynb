{
 "cells": [
  {
   "cell_type": "code",
   "execution_count": 2,
   "id": "3a98519a",
   "metadata": {},
   "outputs": [
    {
     "name": "stdout",
     "output_type": "stream",
     "text": [
      "실행문장 실행\n",
      "if문 밖에 있는 실행문장\n"
     ]
    }
   ],
   "source": [
    "if True :\n",
    "    print ('실행문장 실행')\n",
    "print ('if문 밖에 있는 실행문장')    "
   ]
  },
  {
   "cell_type": "code",
   "execution_count": 8,
   "id": "d866171b",
   "metadata": {},
   "outputs": [
    {
     "name": "stdout",
     "output_type": "stream",
     "text": [
      "if문 밖에 있는 실행문장\n"
     ]
    }
   ],
   "source": [
    "if False :\n",
    "    print ('실행문장 실행')\n",
    "print ('if문 밖에 있는 실행문장')  \n",
    "    "
   ]
  },
  {
   "cell_type": "code",
   "execution_count": 9,
   "id": "3158ee51",
   "metadata": {},
   "outputs": [],
   "source": [
    "if False :\n",
    "    print ('실행문장 실행')\n",
    "    print ('if문 밖에 있는 실행문장')"
   ]
  },
  {
   "cell_type": "code",
   "execution_count": 20,
   "id": "146e37f1",
   "metadata": {},
   "outputs": [
    {
     "name": "stdout",
     "output_type": "stream",
     "text": [
      "정수입력>>5000\n"
     ]
    }
   ],
   "source": [
    "# 조건문 실습 momey라는 변수에 10000원 이상이라면 택시를 탄다\n",
    "money= int(input (\"정수입력>>\"))\n",
    "if money>=10000 :\n",
    "    print ('택시를 탄다')"
   ]
  },
  {
   "cell_type": "code",
   "execution_count": 77,
   "id": "ad8d9685",
   "metadata": {},
   "outputs": [
    {
     "name": "stdout",
     "output_type": "stream",
     "text": [
      "얼마있나용?>> 5000원\n",
      "버스를 탄다\n"
     ]
    }
   ],
   "source": [
    "# 만약 돈이 1만 미만이라면 버스 \n",
    "money= input (\"얼마있나용?>> \")   # 문자형 str\n",
    "# 문자열 쪼개기 --> split\n",
    "# money = int(money.split('원')[1])  # split는 변수를 리스트로 인식해서 ,같은 구분기호가 있으면 기호를 기준으로 인덱스 번호 부여됨   \n",
    "money = int(money.split('원')[0])  \n",
    "# print (money)\n",
    "\n",
    "\n",
    "if money>=10000 :\n",
    "    print ('택시를 탄다')\n",
    "else :\n",
    "    print ('버스를 탄다')"
   ]
  },
  {
   "cell_type": "code",
   "execution_count": null,
   "id": "5690c279",
   "metadata": {},
   "outputs": [],
   "source": [
    "num= int(input (\"정수입력>>\"))\n",
    "\n",
    "if (num%3==0) & (num%5==0) :\n",
    "    print ('3과5의배수')\n",
    "else :\n",
    "    print ('아니다')"
   ]
  },
  {
   "cell_type": "code",
   "execution_count": 40,
   "id": "323451bb",
   "metadata": {},
   "outputs": [
    {
     "name": "stdout",
     "output_type": "stream",
     "text": [
      "마스크개수>>35\n",
      "8개들이 마스크 개수 : 4\n",
      "5개들이 마스크 개수 : 1\n"
     ]
    }
   ],
   "source": [
    "mask = int(input (\"마스크개수>>\"))\n",
    "\n",
    "if mask>0 :\n",
    "    eight= mask//8\n",
    "     \n",
    "if (mask%8)>5 :\n",
    "    five =2\n",
    "else :\n",
    "    five =1\n",
    "        \n",
    "print (f'8개들이 마스크 개수 : {eight}')\n",
    "print (f'5개들이 마스크 개수 : {five}')\n",
    "\n",
    "  \n"
   ]
  },
  {
   "cell_type": "code",
   "execution_count": null,
   "id": "f8d772c7",
   "metadata": {},
   "outputs": [],
   "source": [
    "mask = int(input (\"마스크개수>>\"))\n",
    "ep=mask//8\n",
    "if(mask//8)>0 :\n",
    "    print ('8개들이 마스크 개수',mask//8)\n",
    "else :\n",
    "    print ('8개들이 마스크 개수',0)\n",
    "if (mask-ep*8)>0 :\n",
    "    print ('5개들이 마스크 개수',(mask-ep*8)//5+1)"
   ]
  },
  {
   "cell_type": "code",
   "execution_count": 34,
   "id": "9a0746ce",
   "metadata": {},
   "outputs": [
    {
     "name": "stdout",
     "output_type": "stream",
     "text": [
      "정수입력>>7\n",
      "정수입력>>7\n",
      "같습니다\n"
     ]
    }
   ],
   "source": [
    "num1= int(input (\"정수입력>>\"))\n",
    "num2= int(input (\"정수입력>>\"))\n",
    "if num1>num2 :\n",
    "    print ('첫번째 정수가 큽니다')\n",
    "elif  num1<num2 :\n",
    "    print ('두번째 정수가 큽니다')\n",
    "else :\n",
    "    print ('같습니다')\n"
   ]
  },
  {
   "cell_type": "code",
   "execution_count": 43,
   "id": "3544ef5e",
   "metadata": {},
   "outputs": [
    {
     "name": "stdout",
     "output_type": "stream",
     "text": [
      "정수입력>>101\n",
      "점수 잘못\n"
     ]
    }
   ],
   "source": [
    "score=int(input (\"정수입력>>\"))\n",
    "if score>100 :\n",
    "    print ('점수 잘못')\n",
    "elif score>=90 :\n",
    "    print (f'{score}점은 a학점 입니다')\n",
    "elif (score<90) & (score>=80)  :\n",
    "    print (f'{score}점은 b학점 입니다')\n",
    "elif (score<80) & (score>=70)  :\n",
    "    print (f'{score}점은 c학점 입니다')\n",
    "elif (score<70) & (score>=60)  :\n",
    "    print (f'{score}점은 d학점 입니다')\n",
    "else :\n",
    "    print (f'{score}점은 f학점 입니다')\n"
   ]
  },
  {
   "cell_type": "code",
   "execution_count": 45,
   "id": "ce19e8a0",
   "metadata": {},
   "outputs": [
    {
     "name": "stdout",
     "output_type": "stream",
     "text": [
      "정수입력>>85\n",
      "85점은 b학점 입니다\n"
     ]
    }
   ],
   "source": [
    "score=int(input (\"정수입력>>\"))\n",
    "grade =\" \"\n",
    "if score>100 :\n",
    "    print ('점수 잘못')\n",
    "else :\n",
    "    if score>=90 :\n",
    "        grade = 'a'\n",
    "    elif score>=80 :\n",
    "          grade = 'b'\n",
    "    elif score>=70 :\n",
    "          grade = 'c'\n",
    "    elif score>=60 :\n",
    "          grade = 'd'      \n",
    "    else :\n",
    "          grade = 'f'\n",
    "        \n",
    "    print (f'{score}점은 {grade}학점 입니다')\n",
    "\n",
    "    \n"
   ]
  },
  {
   "cell_type": "code",
   "execution_count": 57,
   "id": "df40b061",
   "metadata": {},
   "outputs": [
    {
     "name": "stdout",
     "output_type": "stream",
     "text": [
      "정수입력>>500\n",
      "요금은 1125원 입니다.\n"
     ]
    }
   ],
   "source": [
    "age=int(input (\"정수입력>>\"))\n",
    "price = 1500\n",
    "num1=int(price*0.5)\n",
    "num2=int(price*0.75)\n",
    "num3=int(price*0.25)\n",
    "if age<5 :\n",
    "    num1\n",
    "    print (f'요금은 {num1}원 입니다.')\n",
    "elif age>=5 & age<20 :\n",
    "    num2\n",
    "    print (f'요금은 {num2}원 입니다.')\n",
    "elif age>=65 :\n",
    "    num3\n",
    "    print (f'요금은 {num3}원 입니다.')\n",
    "else :\n",
    "    price\n",
    "    print (f'요금은 {price}원 입니다.')\n"
   ]
  },
  {
   "cell_type": "code",
   "execution_count": 58,
   "id": "d0e277fc",
   "metadata": {},
   "outputs": [
    {
     "name": "stdout",
     "output_type": "stream",
     "text": [
      "정수입력>>500\n"
     ]
    }
   ],
   "source": [
    "age=int(input (\"정수입력>>\"))\n",
    "price = 1500\n",
    "\n",
    "if age<5 :\n",
    "    mw=price*0.5\n",
    "    \n",
    "elif age>=5 & age<20 :\n",
    "    mw=price*0.75\n",
    "    \n",
    "elif age>=65 :\n",
    "    mw=price*0.25\n",
    "    \n",
    "else :\n",
    "    mw=price\n",
    "    print (f'요금은 {int(mw)}원 입니다.')"
   ]
  },
  {
   "cell_type": "code",
   "execution_count": 69,
   "id": "1248f223",
   "metadata": {},
   "outputs": [
    {
     "name": "stdout",
     "output_type": "stream",
     "text": [
      "==============자판기=================\n",
      "==1.콜라==2.사이다==3.물====insert===\n",
      "== 600==    800==    1000 == 000원\n",
      "가격입력>>100\n",
      "돈더!!\n",
      "메뉴입력>>2\n",
      "잔액부족\n",
      "잔돈 >> 1000원0개, 500원0개, 100원1개\n"
     ]
    }
   ],
   "source": [
    "print('==============자판기=================')\n",
    "print('==1.콜라==2.사이다==3.물====insert===')\n",
    "print('== 600==    800==    1000 == 000원')\n",
    "\n",
    "price=int(input (\"가격입력>>\"))\n",
    "if price<600 :\n",
    "    print('돈더!!')\n",
    "menu = int(input (\"메뉴입력>>\"))\n",
    "result = price\n",
    "\n",
    "if (menu==1) :\n",
    "    if (price>=600) :\n",
    "        result=price-600\n",
    "    else :\n",
    "        print('잔액부족')\n",
    "    print(f'잔돈 >> 1000원{result//1000}개, 500원{result%1000//500}개, 100원{result%1000%500//100}개')\n",
    "if (menu==2) :\n",
    "    if (price>=800) :\n",
    "        result=price-800\n",
    "    else :\n",
    "        print('잔액부족')\n",
    "    print(f'잔돈 >> 1000원{result//1000}개, 500원{result%1000//500}개, 100원{result%1000%500//100}개')\n",
    "if (menu==3) :\n",
    "    if (price>=1000) :\n",
    "        result=price-1000\n",
    "    else :\n",
    "        print('잔액부족')\n",
    "    print(f'잔돈 >> 1000원{result//1000}개, 500원{result%1000//500}개, 100원{result%1000%500//100}개')\n",
    "\n",
    "    \n",
    "    \n",
    "\n"
   ]
  },
  {
   "cell_type": "code",
   "execution_count": 83,
   "id": "3e5c58f2",
   "metadata": {},
   "outputs": [
    {
     "name": "stdout",
     "output_type": "stream",
     "text": [
      "1.콜라 : 600원 ==2.사이다 :800원 ==3.물 : 1000원\n",
      "가격입력>>400\n",
      "메뉴입력>>1\n",
      "잔액부족\n",
      "1000원: 0장 , 500원: 0개 ,100원: 4개\n"
     ]
    }
   ],
   "source": [
    "# 자판기 프로그램\n",
    "change =0\n",
    "print('1.콜라 : 600원 ==2.사이다 :800원 ==3.물 : 1000원')\n",
    "money = int(input (\"가격입력>>\"))\n",
    "menu = int(input (\"메뉴입력>>\"))\n",
    "\n",
    "if menu == 1 :\n",
    "    if money<600 :\n",
    "        print('잔액부족')\n",
    "        change = money\n",
    "    else :\n",
    "        change = money-600\n",
    "        print('콜라')\n",
    "elif menu == 2 :\n",
    "    if money<800 :\n",
    "        print('잔액부족')\n",
    "        change = money\n",
    "    else :\n",
    "        change = money-800\n",
    "        print('사이다')\n",
    "elif menu ==3 :\n",
    "    if money<1000 :\n",
    "        print('잔액부족')\n",
    "        change = money\n",
    "    else :\n",
    "        change = money-1000\n",
    "        print('물')\n",
    "else :\n",
    "    print('잘못 선택함')\n",
    "    change = money\n",
    "    \n",
    "h= change//1000\n",
    "f= change%1000//500\n",
    "t= change%1000%500//100\n",
    "print(f'1000원: {h}장 , 500원: {f}개 ,100원: {t}개')\n"
   ]
  },
  {
   "cell_type": "code",
   "execution_count": 84,
   "id": "f7e03003",
   "metadata": {},
   "outputs": [
    {
     "name": "stdout",
     "output_type": "stream",
     "text": [
      "======================자판기=====================\n",
      " 1.콜라(600원)   2.사이다(800원)    3.물(1000원)\n",
      "금액을 투입하세요 >>100\n",
      "잔액이 부족합니다\n"
     ]
    }
   ],
   "source": [
    "print(\"======================자판기=====================\")\n",
    "print(\" 1.콜라(600원)   2.사이다(800원)    3.물(1000원)\")\n",
    "mo=int(input(f\"금액을 투입하세요 >>\"))\n",
    "\n",
    "if(mo>=600):\n",
    "    co=int(input(f\"메뉴를 선택하세요 >>\"))\n",
    "    if(co==1):\n",
    "        cun = (mo-600)//1000\n",
    "        obeg = (mo-600)%1000//500\n",
    "        beg =(mo-600)%1000%500//100\n",
    "        print(f\"잔돈 >> 1000원 {cun}개, 500원 {obeg}개, 100원{beg}개\")\n",
    "    \n",
    "    elif(co==2):\n",
    "        cun = (mo-800)//1000\n",
    "        obeg = (mo-800)%1000//500\n",
    "        beg =(mo-800)%1000%500//100\n",
    "        print(f\"잔돈 >> 1000원 {cun}개, 500원 {obeg}개, 100원{beg}개\")\n",
    "    \n",
    "    elif(co==3):\n",
    "        cun = (mo-1000)//1000\n",
    "        obeg = (mo-1000)%1000//500\n",
    "        beg =(mo-1000)%1000%500//100  \n",
    "        print(f\"잔돈 >> 1000원 {cun}개, 500원 {obeg}개, 100원{beg}개\")\n",
    "    \n",
    "    else:\n",
    "        print(\"잘못입력 하였습니다.\")\n",
    "else:\n",
    "    print(\"잔액이 부족합니다\")   "
   ]
  },
  {
   "cell_type": "code",
   "execution_count": null,
   "id": "637f3ae0",
   "metadata": {},
   "outputs": [],
   "source": []
  }
 ],
 "metadata": {
  "kernelspec": {
   "display_name": "Python 3 (ipykernel)",
   "language": "python",
   "name": "python3"
  },
  "language_info": {
   "codemirror_mode": {
    "name": "ipython",
    "version": 3
   },
   "file_extension": ".py",
   "mimetype": "text/x-python",
   "name": "python",
   "nbconvert_exporter": "python",
   "pygments_lexer": "ipython3",
   "version": "3.11.5"
  }
 },
 "nbformat": 4,
 "nbformat_minor": 5
}
