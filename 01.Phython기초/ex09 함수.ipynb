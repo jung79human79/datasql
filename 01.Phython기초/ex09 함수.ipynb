{
 "cells": [
  {
   "cell_type": "code",
   "execution_count": 1,
   "id": "0acf56d6",
   "metadata": {},
   "outputs": [],
   "source": [
    "# 함수=로직을 구현\n",
    "def hello(name):\n",
    "    return f'{name}씨 안녕'"
   ]
  },
  {
   "cell_type": "code",
   "execution_count": 2,
   "id": "ee4bdeed",
   "metadata": {},
   "outputs": [
    {
     "data": {
      "text/plain": [
       "'재은씨 안녕'"
      ]
     },
     "execution_count": 2,
     "metadata": {},
     "output_type": "execute_result"
    }
   ],
   "source": [
    "hello('재은')"
   ]
  },
  {
   "cell_type": "code",
   "execution_count": 3,
   "id": "6675cb80",
   "metadata": {},
   "outputs": [
    {
     "data": {
      "text/plain": [
       "'우성씨 안녕'"
      ]
     },
     "execution_count": 3,
     "metadata": {},
     "output_type": "execute_result"
    }
   ],
   "source": [
    "hello('우성')"
   ]
  },
  {
   "cell_type": "code",
   "execution_count": 4,
   "id": "06940649",
   "metadata": {},
   "outputs": [],
   "source": [
    "def sum1(num1,num2):\n",
    "    re=num1+num2\n",
    "    return re"
   ]
  },
  {
   "cell_type": "code",
   "execution_count": 5,
   "id": "4cd107fe",
   "metadata": {},
   "outputs": [
    {
     "data": {
      "text/plain": [
       "13"
      ]
     },
     "execution_count": 5,
     "metadata": {},
     "output_type": "execute_result"
    }
   ],
   "source": [
    "sum1(3,10)"
   ]
  },
  {
   "cell_type": "code",
   "execution_count": 2,
   "id": "5340be08",
   "metadata": {},
   "outputs": [],
   "source": [
    "# 엔터를 쳐서 정의해줘야 함\n",
    "def minus(num1,num2) :\n",
    "    re=num1-num2\n",
    "    return re"
   ]
  },
  {
   "cell_type": "code",
   "execution_count": 3,
   "id": "6e22e53d",
   "metadata": {},
   "outputs": [
    {
     "name": "stdout",
     "output_type": "stream",
     "text": [
      "첫정수입력>>7\n",
      "둘정수입력>>3\n"
     ]
    },
    {
     "data": {
      "text/plain": [
       "4"
      ]
     },
     "execution_count": 3,
     "metadata": {},
     "output_type": "execute_result"
    }
   ],
   "source": [
    "num1=int(input (\"첫정수입력>>\"))\n",
    "num2=int(input (\"둘정수입력>>\"))\n",
    "#minus(num1,num2)\n",
    "rs = minus(num1,num2)\n",
    "rs"
   ]
  },
  {
   "cell_type": "code",
   "execution_count": 13,
   "id": "76a5dbf3",
   "metadata": {},
   "outputs": [],
   "source": [
    "# 내가 만든 함수 메모작성-->독스트링\n",
    "def cal(num3,num4,op) :\n",
    "    \"\"\"덧셈과 뺄셈을 해주는 함수\"\"\"\n",
    "    if op == '+':\n",
    "        \n",
    "        re = num3+num4\n",
    "    elif op == '-':\n",
    "        \n",
    "        re = num3-num4\n",
    "    else :\n",
    "        re ='꽝'\n",
    "    return re   \n"
   ]
  },
  {
   "cell_type": "code",
   "execution_count": 11,
   "id": "a202e559",
   "metadata": {},
   "outputs": [
    {
     "name": "stdout",
     "output_type": "stream",
     "text": [
      "첫정수입력>>5\n",
      "둘정수입력>>3\n",
      "연산자입력(+,-)>>*\n",
      "결과 : 꽝\n"
     ]
    }
   ],
   "source": [
    "num3=int(input (\"첫정수입력>>\"))\n",
    "num4=int(input (\"둘정수입력>>\"))\n",
    "op=input (\"연산자입력(+,-)>>\")\n",
    "rs=cal(num3,num4,op)\n",
    "#print(f'결과 : {rs}')\n",
    "print('결과 : {}'.format(rs))"
   ]
  },
  {
   "cell_type": "code",
   "execution_count": 14,
   "id": "9be02649",
   "metadata": {},
   "outputs": [],
   "source": [
    "# 가변 매개변수\n",
    "# 여러개의 숫자를 받아서 모두 더해주는 함수\n",
    "def add(*args):\n",
    "    return sum(args)"
   ]
  },
  {
   "cell_type": "code",
   "execution_count": 16,
   "id": "db9360e8",
   "metadata": {},
   "outputs": [
    {
     "data": {
      "text/plain": [
       "15"
      ]
     },
     "execution_count": 16,
     "metadata": {},
     "output_type": "execute_result"
    }
   ],
   "source": [
    "add(1,2,3,4,5)"
   ]
  },
  {
   "cell_type": "code",
   "execution_count": 17,
   "id": "cfa1da30",
   "metadata": {},
   "outputs": [],
   "source": [
    "# 리턴값은 무조건 하나\n",
    "def add_sub(num1,num2):\n",
    "    return num1+num2,num1-num2"
   ]
  },
  {
   "cell_type": "code",
   "execution_count": 18,
   "id": "2c5a670a",
   "metadata": {},
   "outputs": [
    {
     "name": "stdout",
     "output_type": "stream",
     "text": [
      "첫정수입력>>5\n",
      "둘정수입력>>3\n",
      "결과 : (8, 2)\n"
     ]
    }
   ],
   "source": [
    "num1=int(input (\"첫정수입력>>\"))\n",
    "num2=int(input (\"둘정수입력>>\"))\n",
    "rs=add_sub(num1,num2)\n",
    "print('결과 : {}'.format(rs))"
   ]
  },
  {
   "cell_type": "code",
   "execution_count": 19,
   "id": "f496cbf0",
   "metadata": {},
   "outputs": [
    {
     "data": {
      "text/plain": [
       "8"
      ]
     },
     "execution_count": 19,
     "metadata": {},
     "output_type": "execute_result"
    }
   ],
   "source": [
    "# 값을 하나씩 가져오는 방법: 인덱싱\n",
    "rs[0]"
   ]
  },
  {
   "cell_type": "code",
   "execution_count": 21,
   "id": "20d1a7ac",
   "metadata": {},
   "outputs": [
    {
     "name": "stdout",
     "output_type": "stream",
     "text": [
      "8\n",
      "2\n"
     ]
    }
   ],
   "source": [
    "# 다중 변수 입력\n",
    "rs_add,rs_minus = add_sub(5,3)\n",
    "print(rs_add)\n",
    "print(rs_minus)"
   ]
  },
  {
   "cell_type": "code",
   "execution_count": 25,
   "id": "5c4a99d1",
   "metadata": {},
   "outputs": [],
   "source": [
    "# 함수 기본값 설정하기  power=2\n",
    "def power_of_n(num,power=2):\n",
    "    return num**power   # **지수연산\n"
   ]
  },
  {
   "cell_type": "code",
   "execution_count": 28,
   "id": "cd31286f",
   "metadata": {},
   "outputs": [
    {
     "data": {
      "text/plain": [
       "64"
      ]
     },
     "execution_count": 28,
     "metadata": {},
     "output_type": "execute_result"
    }
   ],
   "source": [
    "power_of_n(4,3) # 기본값power=2은 매개변수'3'로 인해 변경가능"
   ]
  },
  {
   "cell_type": "code",
   "execution_count": 30,
   "id": "9439236e",
   "metadata": {},
   "outputs": [
    {
     "data": {
      "text/plain": [
       "array([ 4, 10, 18])"
      ]
     },
     "execution_count": 30,
     "metadata": {},
     "output_type": "execute_result"
    }
   ],
   "source": [
    "import numpy as np\n",
    "a=np.array([1,2,3])\n",
    "b=np.array([4,5,6])\n",
    "c=a*b\n",
    "c"
   ]
  },
  {
   "cell_type": "code",
   "execution_count": 16,
   "id": "29e81280",
   "metadata": {},
   "outputs": [
    {
     "data": {
      "text/plain": [
       "(1, 2, 3, 1, 2, 3)"
      ]
     },
     "execution_count": 16,
     "metadata": {},
     "output_type": "execute_result"
    }
   ],
   "source": [
    "a=(1,2,3)\n",
    "a+a"
   ]
  },
  {
   "cell_type": "code",
   "execution_count": 31,
   "id": "e580a68e",
   "metadata": {},
   "outputs": [
    {
     "data": {
      "text/plain": [
       "array([1, 4, 9])"
      ]
     },
     "execution_count": 31,
     "metadata": {},
     "output_type": "execute_result"
    }
   ],
   "source": [
    "import numpy as np\n",
    "a=np.array([1,2,3])\n",
    "a*a"
   ]
  },
  {
   "cell_type": "code",
   "execution_count": 28,
   "id": "2c92e6e3",
   "metadata": {},
   "outputs": [
    {
     "data": {
      "text/plain": [
       "(1, 2, 3, 4, 5, 6)"
      ]
     },
     "execution_count": 28,
     "metadata": {},
     "output_type": "execute_result"
    }
   ],
   "source": [
    "a=(1,2,3)\n",
    "b=(4,5,6)\n",
    "a+b\n"
   ]
  },
  {
   "cell_type": "code",
   "execution_count": null,
   "id": "1b98920b",
   "metadata": {},
   "outputs": [],
   "source": []
  },
  {
   "cell_type": "code",
   "execution_count": null,
   "id": "ecd6dfe9",
   "metadata": {},
   "outputs": [],
   "source": []
  },
  {
   "cell_type": "code",
   "execution_count": null,
   "id": "cbc2a2d6",
   "metadata": {},
   "outputs": [],
   "source": []
  }
 ],
 "metadata": {
  "kernelspec": {
   "display_name": "Python 3 (ipykernel)",
   "language": "python",
   "name": "python3"
  },
  "language_info": {
   "codemirror_mode": {
    "name": "ipython",
    "version": 3
   },
   "file_extension": ".py",
   "mimetype": "text/x-python",
   "name": "python",
   "nbconvert_exporter": "python",
   "pygments_lexer": "ipython3",
   "version": "3.11.5"
  }
 },
 "nbformat": 4,
 "nbformat_minor": 5
}
