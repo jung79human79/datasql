{
 "cells": [
  {
   "cell_type": "code",
   "execution_count": null,
   "id": "974b967a",
   "metadata": {},
   "outputs": [],
   "source": [
    "# 앞의 색이 파란색이면 commmend mode (주피터 노트북 제어)\n",
    "# 앞의 색이 노란색이면 edit mode (코드 작성 및 내용 입력)\n",
    "# 파이썬 주석은 #기호"
   ]
  },
  {
   "cell_type": "code",
   "execution_count": null,
   "id": "976741b3",
   "metadata": {},
   "outputs": [],
   "source": [
    "# commmend mode 조작법\n",
    "# 파란색생일때 b키: 아래에 셀 추가\n",
    "# 파란색생일때 a키: 위에 셀추가\n",
    "# 파란색생일때 dd키:셀삭제\n",
    "# 파란색생일때 엔터키:edit mode로 전환\n",
    "# 파란색생일때 x키: 셀잘라내기\n",
    "# 파란색생일때 v키: 셀붙여넣기"
   ]
  },
  {
   "cell_type": "markdown",
   "id": "2d955bfd",
   "metadata": {},
   "source": [
    "파란색상일때 m :마크다운(연습장)\n",
    "# 제목1\n",
    "## 제목2\n",
    "### 제목3\n",
    "#### 제목4\n",
    "##### 제목5\n",
    "##### 제목6\n",
    "- 안녕하세요 오늘 처음이죠\n",
    "    - 앞으로 파이썬도\n",
    "\n"
   ]
  },
  {
   "cell_type": "code",
   "execution_count": 62,
   "id": "3c5afa39",
   "metadata": {},
   "outputs": [],
   "source": [
    "# 코드가 작성된 줄에서 실행은 ctrl+enter\n",
    "num1 = 1"
   ]
  },
  {
   "cell_type": "code",
   "execution_count": 63,
   "id": "7490729f",
   "metadata": {},
   "outputs": [
    {
     "data": {
      "text/plain": [
       "1"
      ]
     },
     "execution_count": 63,
     "metadata": {},
     "output_type": "execute_result"
    }
   ],
   "source": [
    "num1"
   ]
  },
  {
   "cell_type": "code",
   "execution_count": null,
   "id": "b3545694",
   "metadata": {},
   "outputs": [],
   "source": [
    "# 공통 단축키\n",
    "# ctrl+enter : 현재 셀 실행\n",
    "# shift+enter : 현재 셀 실행 후 아래셀로 이동"
   ]
  },
  {
   "cell_type": "code",
   "execution_count": null,
   "id": "036e91a8",
   "metadata": {},
   "outputs": [],
   "source": [
    "# 만들어 볼까요"
   ]
  },
  {
   "cell_type": "markdown",
   "id": "dcf4bafb",
   "metadata": {},
   "source": [
    "### 01변수"
   ]
  },
  {
   "cell_type": "code",
   "execution_count": null,
   "id": "8f56e370",
   "metadata": {},
   "outputs": [],
   "source": [
    "num=3\n",
    "print(num)"
   ]
  },
  {
   "cell_type": "code",
   "execution_count": null,
   "id": "8c16cf3f",
   "metadata": {},
   "outputs": [],
   "source": [
    "num=3\n",
    "num"
   ]
  },
  {
   "cell_type": "code",
   "execution_count": null,
   "id": "639e975b",
   "metadata": {},
   "outputs": [],
   "source": [
    "num1=13\n",
    "print(num1)"
   ]
  },
  {
   "cell_type": "code",
   "execution_count": null,
   "id": "1276b579",
   "metadata": {},
   "outputs": [],
   "source": [
    "num2=25\n",
    "print(num2)"
   ]
  },
  {
   "cell_type": "code",
   "execution_count": null,
   "id": "2f6a66c5",
   "metadata": {},
   "outputs": [],
   "source": [
    "num2=77\n",
    "print(num2)"
   ]
  },
  {
   "cell_type": "code",
   "execution_count": null,
   "id": "dd1c319f",
   "metadata": {},
   "outputs": [],
   "source": [
    "num3=3.1424\n",
    "num3"
   ]
  },
  {
   "cell_type": "code",
   "execution_count": null,
   "id": "a8937748",
   "metadata": {},
   "outputs": [],
   "source": [
    "num4=1.25\n",
    "num4"
   ]
  },
  {
   "cell_type": "code",
   "execution_count": null,
   "id": "216f060e",
   "metadata": {},
   "outputs": [],
   "source": [
    "num4=3.12\n",
    "num4"
   ]
  },
  {
   "cell_type": "code",
   "execution_count": null,
   "id": "fb1ed85c",
   "metadata": {},
   "outputs": [],
   "source": [
    "num4"
   ]
  },
  {
   "cell_type": "code",
   "execution_count": null,
   "id": "f127d0fe",
   "metadata": {},
   "outputs": [],
   "source": [
    "str1=\"fnnny\"\n",
    "str1"
   ]
  },
  {
   "cell_type": "code",
   "execution_count": null,
   "id": "6a76b782",
   "metadata": {},
   "outputs": [],
   "source": [
    "str2='easy'\n",
    "str2 "
   ]
  },
  {
   "cell_type": "code",
   "execution_count": null,
   "id": "95b1304e",
   "metadata": {},
   "outputs": [],
   "source": [
    "import keyword\n",
    "keyword.kwlist"
   ]
  },
  {
   "cell_type": "code",
   "execution_count": null,
   "id": "59fa3aba",
   "metadata": {},
   "outputs": [],
   "source": [
    "a=10\n",
    "b=15\n",
    "print(a)\n",
    "print(b)"
   ]
  },
  {
   "cell_type": "code",
   "execution_count": 64,
   "id": "965df211",
   "metadata": {},
   "outputs": [
    {
     "name": "stdout",
     "output_type": "stream",
     "text": [
      "10\n",
      "15\n"
     ]
    }
   ],
   "source": [
    "a,b=10,15\n",
    "print(a)\n",
    "print(b)"
   ]
  },
  {
   "cell_type": "code",
   "execution_count": 65,
   "id": "53e2c8ba",
   "metadata": {},
   "outputs": [
    {
     "name": "stdout",
     "output_type": "stream",
     "text": [
      "pyt\n",
      "pyt\n"
     ]
    }
   ],
   "source": [
    "str1='pyt'\n",
    "str2='pyt'\n",
    "print(str1)\n",
    "print(str2)"
   ]
  },
  {
   "cell_type": "code",
   "execution_count": 66,
   "id": "0b85c82f",
   "metadata": {},
   "outputs": [
    {
     "name": "stdout",
     "output_type": "stream",
     "text": [
      "pyt\n",
      "pyt\n"
     ]
    }
   ],
   "source": [
    "str1=str2='pyt'\n",
    "print(str1)\n",
    "print(str2)"
   ]
  },
  {
   "cell_type": "code",
   "execution_count": 67,
   "id": "fae9c791",
   "metadata": {},
   "outputs": [
    {
     "name": "stdout",
     "output_type": "stream",
     "text": [
      "300\n"
     ]
    }
   ],
   "source": [
    "x=100\n",
    "y=200\n",
    "sum1=x+y\n",
    "print(sum1)"
   ]
  },
  {
   "cell_type": "code",
   "execution_count": 44,
   "id": "b43b7313",
   "metadata": {},
   "outputs": [
    {
     "data": {
      "text/plain": [
       "10"
      ]
     },
     "execution_count": 44,
     "metadata": {},
     "output_type": "execute_result"
    }
   ],
   "source": [
    "sum([1,2,3,4])"
   ]
  },
  {
   "cell_type": "code",
   "execution_count": 2,
   "id": "1e3c684b",
   "metadata": {},
   "outputs": [
    {
     "data": {
      "text/plain": [
       "14"
      ]
     },
     "execution_count": 2,
     "metadata": {},
     "output_type": "execute_result"
    }
   ],
   "source": [
    "sum([5,2,3,4])"
   ]
  },
  {
   "cell_type": "code",
   "execution_count": 3,
   "id": "a6dd0ad5",
   "metadata": {},
   "outputs": [
    {
     "data": {
      "text/plain": [
       "\" she's gone \""
      ]
     },
     "execution_count": 3,
     "metadata": {},
     "output_type": "execute_result"
    }
   ],
   "source": [
    "s= ' she\\'s gone '\n",
    "s"
   ]
  },
  {
   "cell_type": "code",
   "execution_count": 6,
   "id": "a35f0230",
   "metadata": {},
   "outputs": [
    {
     "data": {
      "text/plain": [
       "\" she's gone \""
      ]
     },
     "execution_count": 6,
     "metadata": {},
     "output_type": "execute_result"
    }
   ],
   "source": [
    "s= \" she's gone \"\n",
    "s"
   ]
  },
  {
   "cell_type": "code",
   "execution_count": 7,
   "id": "3e5bf1e5",
   "metadata": {},
   "outputs": [
    {
     "name": "stdout",
     "output_type": "stream",
     "text": [
      "여러줄로 구성된 \n",
      "문자열을 하나로\n"
     ]
    }
   ],
   "source": [
    "# 여러줄로 구성된 문자열을 변수에 대입하고 싶을 때\n",
    "# 여러줄로 구성된\n",
    "# 문장열을 변수애\n",
    "# 대입하고 싶을 때\n",
    "# \\n(개행문자)\n",
    "\n",
    "s= \"여러줄로 구성된 \\n문자열을 하나로\"\n",
    "print(s)"
   ]
  },
  {
   "cell_type": "code",
   "execution_count": 8,
   "id": "19731569",
   "metadata": {},
   "outputs": [
    {
     "name": "stdout",
     "output_type": "stream",
     "text": [
      "여러줄로 \n",
      "구성된 \n",
      "문자열을 \n",
      "하나로\n"
     ]
    }
   ],
   "source": [
    "s= \"\"\"여러줄로 \n",
    "구성된 \n",
    "문자열을 \n",
    "하나로\"\"\"\n",
    "print(s)"
   ]
  },
  {
   "cell_type": "code",
   "execution_count": 12,
   "id": "69628aaf",
   "metadata": {},
   "outputs": [
    {
     "name": "stdout",
     "output_type": "stream",
     "text": [
      "\n",
      "1교시 : html/css\n",
      "2교시 : html/css\n",
      "3교시 : html/css\n",
      "4교시 : html/css\n",
      "5교시 : 파이썬라이브\n",
      "6교시 : 파이썬라이브\n",
      "7교시 : 파이썬라이브\n"
     ]
    }
   ],
   "source": [
    "# 문자열 포맷팅\n",
    "# 문자내부에서 자주 바뀌는 부분을 변수 처리해서 원하는 결과를 출력하는 방법\n",
    "\n",
    "am = 'html/css'\n",
    "pm = '파이썬라이브'\n",
    "s= f\"\"\"\n",
    "1교시 : {am}\n",
    "2교시 : {am}\n",
    "3교시 : {am}\n",
    "4교시 : {am}\n",
    "5교시 : {pm}\n",
    "6교시 : {pm}\n",
    "7교시 : {pm}\"\"\"\n",
    "print(s)\n"
   ]
  },
  {
   "cell_type": "markdown",
   "id": "2e00b1cc",
   "metadata": {},
   "source": [
    "### 인덱싱/슬라이싱(1회차)\n",
    "- 인덱싱 :무엇인가를 '가리킨다' 라는 의미\n",
    "- 슬라이싱 : 무엇인가를 '잘라낸다' 라는 의미"
   ]
  },
  {
   "cell_type": "code",
   "execution_count": 13,
   "id": "c6b0bb66",
   "metadata": {},
   "outputs": [
    {
     "data": {
      "text/plain": [
       "'i'"
      ]
     },
     "execution_count": 13,
     "metadata": {},
     "output_type": "execute_result"
    }
   ],
   "source": [
    "s= \"my name is kn\"\n",
    "\n",
    "s[8]"
   ]
  },
  {
   "cell_type": "code",
   "execution_count": 14,
   "id": "d30cb05f",
   "metadata": {},
   "outputs": [
    {
     "data": {
      "text/plain": [
       "'n'"
      ]
     },
     "execution_count": 14,
     "metadata": {},
     "output_type": "execute_result"
    }
   ],
   "source": [
    "s[12]"
   ]
  },
  {
   "cell_type": "code",
   "execution_count": 15,
   "id": "07158feb",
   "metadata": {},
   "outputs": [
    {
     "data": {
      "text/plain": [
       "'k'"
      ]
     },
     "execution_count": 15,
     "metadata": {},
     "output_type": "execute_result"
    }
   ],
   "source": [
    "s[-2]"
   ]
  },
  {
   "cell_type": "code",
   "execution_count": null,
   "id": "754e3613",
   "metadata": {},
   "outputs": [],
   "source": [
    "# 문자열 인덱싱 실습\n",
    "# 나의 이름 이니셜에 해당하는 글자를 가져와라\n"
   ]
  },
  {
   "cell_type": "code",
   "execution_count": 18,
   "id": "16051014",
   "metadata": {},
   "outputs": [
    {
     "name": "stdout",
     "output_type": "stream",
     "text": [
      "d j\n"
     ]
    }
   ],
   "source": [
    "s= \"my name is dj\"\n",
    "print (s[-2], s[-1])\n"
   ]
  },
  {
   "cell_type": "code",
   "execution_count": 77,
   "id": "00b8c9cd",
   "metadata": {},
   "outputs": [
    {
     "name": "stdout",
     "output_type": "stream",
     "text": [
      "name\n"
     ]
    }
   ],
   "source": [
    "# 인덱싱으로 글자 하나하나 가져오눈거 불편\n",
    "# 범위를 정해서 단어를 가져오자\n",
    "# 데이터 슬라이싱 --> 끝번호는 미포함\n",
    "# s[ 인덱스시작번호 : 인덱스 끝번호+1 ]\n",
    "s= \"my name is dj\"\n",
    "print(s[3:7])"
   ]
  },
  {
   "cell_type": "code",
   "execution_count": null,
   "id": "514e1f11",
   "metadata": {},
   "outputs": [],
   "source": [
    "# 인덱스의 시작번호는 항상 0부터 시작한다.\n",
    "# 슬라이싱에서 인덱스의 끝번호는 항상 +1을 해준다."
   ]
  },
  {
   "cell_type": "code",
   "execution_count": 11,
   "id": "95360a6f",
   "metadata": {},
   "outputs": [
    {
     "name": "stdout",
     "output_type": "stream",
     "text": [
      "Hello World\n",
      "Hello World\n"
     ]
    }
   ],
   "source": [
    "print('Hello World')\n",
    "print(\"Hello World\")"
   ]
  },
  {
   "cell_type": "code",
   "execution_count": 4,
   "id": "d22a2837",
   "metadata": {},
   "outputs": [
    {
     "name": "stdout",
     "output_type": "stream",
     "text": [
      "Mary's cosmetics\n"
     ]
    }
   ],
   "source": [
    "print(\"Mary's cosmetics\")"
   ]
  },
  {
   "cell_type": "code",
   "execution_count": 6,
   "id": "1ee4b07c",
   "metadata": {},
   "outputs": [
    {
     "name": "stdout",
     "output_type": "stream",
     "text": [
      "\"도둑이야\"\n"
     ]
    }
   ],
   "source": [
    "print('\"도둑이야\"')"
   ]
  },
  {
   "cell_type": "code",
   "execution_count": 9,
   "id": "1bb2eccb",
   "metadata": {},
   "outputs": [
    {
     "name": "stdout",
     "output_type": "stream",
     "text": [
      "C:\\Windows\n"
     ]
    }
   ],
   "source": [
    "print(\"C:\\Windows\")"
   ]
  },
  {
   "cell_type": "code",
   "execution_count": 13,
   "id": "4a55591d",
   "metadata": {},
   "outputs": [
    {
     "name": "stdout",
     "output_type": "stream",
     "text": [
      "안녕하세요.\n",
      "만나서\t\t반갑습니다.\n"
     ]
    }
   ],
   "source": [
    "print(\"안녕하세요.\\n만나서\\t\\t반갑습니다.\")"
   ]
  },
  {
   "cell_type": "code",
   "execution_count": 31,
   "id": "9f35d423",
   "metadata": {},
   "outputs": [
    {
     "name": "stdout",
     "output_type": "stream",
     "text": [
      "오늘은일요일\n",
      "오늘은 일요일\n",
      "오늘은  일요일\n",
      "오늘은 \t일요일\n"
     ]
    }
   ],
   "source": [
    "print (\"오늘은\"\"일요일\")\n",
    "print (\"오늘은\",\"일요일\")\n",
    "print (\"오늘은\",\" \"\"일요일\")\n",
    "print (\"오늘은\",\"\\t일요일\")"
   ]
  },
  {
   "cell_type": "code",
   "execution_count": 25,
   "id": "26ee260a",
   "metadata": {},
   "outputs": [
    {
     "name": "stdout",
     "output_type": "stream",
     "text": [
      "naver;kakao;sk;samsung\n",
      "naver;kakao;samsung\n"
     ]
    }
   ],
   "source": [
    "print('naver;kakao;sk;samsung')\n",
    "print(\"naver\", \"kakao\", \"samsung\", sep=\";\")"
   ]
  },
  {
   "cell_type": "code",
   "execution_count": 29,
   "id": "01f73470",
   "metadata": {},
   "outputs": [
    {
     "name": "stdout",
     "output_type": "stream",
     "text": [
      "naver/kakao/sk/samsung\n",
      "naver/kakao/samsung\n",
      "naver+kakao+samsung\n"
     ]
    }
   ],
   "source": [
    "print('naver/kakao/sk/samsung')\n",
    "print(\"naver\", \"kakao\", \"samsung\", sep=\"/\")\n",
    "print(\"naver\", \"kakao\", \"samsung\", sep=\"+\")"
   ]
  },
  {
   "cell_type": "code",
   "execution_count": 39,
   "id": "2ff3c13c",
   "metadata": {},
   "outputs": [
    {
     "name": "stdout",
     "output_type": "stream",
     "text": [
      "first\n",
      "second\n",
      "a\n",
      "b\n",
      "first  second\n",
      "firstsecond\n"
     ]
    }
   ],
   "source": [
    "print(\"first\");print(\"second\");print(\"a\");print(\"b\")\n",
    "print(\"first\", end=\"  \"); print(\"second\")\n",
    "print(\"first\", end=\"\"); print(\"second\")"
   ]
  },
  {
   "cell_type": "code",
   "execution_count": 36,
   "id": "d4e3a630",
   "metadata": {},
   "outputs": [
    {
     "name": "stdout",
     "output_type": "stream",
     "text": [
      "first\n",
      "second\n"
     ]
    }
   ],
   "source": [
    "print(\"first\")\n",
    "print(\"second\")"
   ]
  },
  {
   "cell_type": "code",
   "execution_count": 40,
   "id": "272fcc86",
   "metadata": {},
   "outputs": [
    {
     "name": "stdout",
     "output_type": "stream",
     "text": [
      "1.6666666666666667\n"
     ]
    }
   ],
   "source": [
    "print(5/3)"
   ]
  },
  {
   "cell_type": "code",
   "execution_count": 45,
   "id": "40f2624a",
   "metadata": {},
   "outputs": [
    {
     "name": "stdout",
     "output_type": "stream",
     "text": [
      "500000\n",
      "500000\n"
     ]
    }
   ],
   "source": [
    "s=50000\n",
    "a=10\n",
    "print(s*a)\n",
    "b=s*10\n",
    "print(b)"
   ]
  },
  {
   "cell_type": "code",
   "execution_count": 42,
   "id": "df5f3af4",
   "metadata": {},
   "outputs": [
    {
     "name": "stdout",
     "output_type": "stream",
     "text": [
      "500000\n"
     ]
    }
   ],
   "source": [
    "삼성전자 = 50000\n",
    "총평가금액 = 삼성전자 * 10\n",
    "print(총평가금액)"
   ]
  },
  {
   "cell_type": "code",
   "execution_count": 60,
   "id": "b6d2dc4a",
   "metadata": {},
   "outputs": [
    {
     "name": "stdout",
     "output_type": "stream",
     "text": [
      "항목    값\n",
      "항목 \t\t값\n",
      "시가총액\t298조\n",
      "현재가\t\t50000원\n",
      "PER \t\t15.79%\n"
     ]
    }
   ],
   "source": [
    "print(\"항목\", end=\"    \"); print(\"값\")\n",
    "print('항목 \\t\\t값')\n",
    "현재가 = 50000\n",
    "시가총액 = 298\n",
    "PER = 15.79\n",
    " \n",
    "print('시가총액', end=\"\\t\");print(시가총액, end=\"\"); print(\"조\")\n",
    "print('현재가', end=\"\\t\\t\");print(현재가, end=\"\"); print(\"원\")\n",
    "print('PER ', end=\"\\t\\t\");print(PER, end=\"\"); print(\"%\")\n"
   ]
  },
  {
   "cell_type": "code",
   "execution_count": 61,
   "id": "0d4bb32f",
   "metadata": {},
   "outputs": [
    {
     "name": "stdout",
     "output_type": "stream",
     "text": [
      "298000000000000 <class 'int'>\n",
      "50000 <class 'int'>\n",
      "15.79 <class 'float'>\n"
     ]
    }
   ],
   "source": [
    "시가총액 = 298000000000000\n",
    "현재가 = 50000\n",
    "PER = 15.79\n",
    "print(시가총액, type(시가총액))\n",
    "print(현재가, type(현재가))\n",
    "print(PER, type(PER))"
   ]
  },
  {
   "cell_type": "code",
   "execution_count": 80,
   "id": "e9310707",
   "metadata": {},
   "outputs": [
    {
     "data": {
      "text/plain": [
       "'my name is kn'"
      ]
     },
     "execution_count": 80,
     "metadata": {},
     "output_type": "execute_result"
    }
   ],
   "source": [
    "q=\"my name is kn\"\n",
    "q"
   ]
  },
  {
   "cell_type": "code",
   "execution_count": 82,
   "id": "dcb9a9a9",
   "metadata": {},
   "outputs": [
    {
     "data": {
      "text/plain": [
       "'my'"
      ]
     },
     "execution_count": 82,
     "metadata": {},
     "output_type": "execute_result"
    }
   ],
   "source": [
    "#my 슬라이싱\n",
    "q[0:2]"
   ]
  },
  {
   "cell_type": "code",
   "execution_count": 83,
   "id": "b11b228c",
   "metadata": {},
   "outputs": [
    {
     "data": {
      "text/plain": [
       "'is'"
      ]
     },
     "execution_count": 83,
     "metadata": {},
     "output_type": "execute_result"
    }
   ],
   "source": [
    "#is 슬라이싱\n",
    "q[8:10]"
   ]
  },
  {
   "cell_type": "code",
   "execution_count": 88,
   "id": "07ed6b9f",
   "metadata": {},
   "outputs": [
    {
     "data": {
      "text/plain": [
       "'kn'"
      ]
     },
     "execution_count": 88,
     "metadata": {},
     "output_type": "execute_result"
    }
   ],
   "source": [
    "#kn 슬라이싱\n",
    "q[-2:]"
   ]
  },
  {
   "cell_type": "code",
   "execution_count": 90,
   "id": "5b52d188",
   "metadata": {},
   "outputs": [
    {
     "name": "stdout",
     "output_type": "stream",
     "text": [
      "my name\n",
      "my name\n"
     ]
    }
   ],
   "source": [
    "# 슬라이싱에서 값을 생략하는 것에 대한 의미\n",
    "# 변수[ 시작값인덱스: 끝값인덱스+1]\n",
    "# 시작값이 생략되는 경우 -> 데이터의 처음부터(0번부터)\n",
    "print(q[0:7])\n",
    "print(q[:7])"
   ]
  },
  {
   "cell_type": "code",
   "execution_count": 92,
   "id": "717d1e71",
   "metadata": {},
   "outputs": [
    {
     "name": "stdout",
     "output_type": "stream",
     "text": [
      "kn\n",
      "kn\n"
     ]
    }
   ],
   "source": [
    "# 끝값이 생략되는 경우 -> 데이터의 끝부분까지(인덱스번호 마지막까지)\n",
    "print(q[11:13])\n",
    "print(q[11:])"
   ]
  },
  {
   "cell_type": "code",
   "execution_count": 94,
   "id": "35128240",
   "metadata": {},
   "outputs": [
    {
     "name": "stdout",
     "output_type": "stream",
     "text": [
      "my name is kn\n",
      "my name is kn\n"
     ]
    }
   ],
   "source": [
    "# 문자열의 처음부터 끝까지 모든 문자를  가져오고 싶으면?\n",
    "print(q)\n",
    "print(q[:])"
   ]
  },
  {
   "cell_type": "code",
   "execution_count": 98,
   "id": "4c5b7666",
   "metadata": {},
   "outputs": [
    {
     "name": "stdout",
     "output_type": "stream",
     "text": [
      "날짜 : 2024년 1월 30일\n",
      "날씨 : 맑음\n"
     ]
    }
   ],
   "source": [
    "# 다음과 같은 문자열에서 날짜와 날씨를 따로 뽑아서 출력해보자\n",
    "# 문자열 더하기  + 기호사용\n",
    "\n",
    "s= '2024년 1월 30일의 날씨는 맑음입니다.'\n",
    "print('날짜 : ' + s[:12])\n",
    "print('날씨 : ' + s[18:20] )"
   ]
  },
  {
   "cell_type": "code",
   "execution_count": 100,
   "id": "3554b7b7",
   "metadata": {},
   "outputs": [
    {
     "data": {
      "text/plain": [
       "'오늘은 1월 7일 입니다.'"
      ]
     },
     "execution_count": 100,
     "metadata": {},
     "output_type": "execute_result"
    }
   ],
   "source": [
    "# 문자열 포멧팅 실습\n",
    "# 문자열 포멧팅 : 문자 내부의 특정한 값을 바꿔야 할 경우 사용\n",
    "# %d 변수명 사용한 포매팅\n",
    "\n",
    "day =7\n",
    "s= '오늘은 1월 %d일 입니다.'%day\n",
    "s"
   ]
  },
  {
   "cell_type": "code",
   "execution_count": 102,
   "id": "9cc8c707",
   "metadata": {},
   "outputs": [
    {
     "data": {
      "text/plain": [
       "'오늘은 2월 11일 입니다.'"
      ]
     },
     "execution_count": 102,
     "metadata": {},
     "output_type": "execute_result"
    }
   ],
   "source": [
    "# 2개 변수 사용\n",
    "month =2\n",
    "day =11\n",
    "s= '오늘은 %d월 %d일 입니다.'%(month,day)\n",
    "s"
   ]
  },
  {
   "cell_type": "code",
   "execution_count": 103,
   "id": "a354f579",
   "metadata": {},
   "outputs": [
    {
     "data": {
      "text/plain": [
       "'오늘은 3월 15일 입니다.'"
      ]
     },
     "execution_count": 103,
     "metadata": {},
     "output_type": "execute_result"
    }
   ],
   "source": [
    "# 포멧함수를 이용한 포매팅\n",
    "month =3\n",
    "day =15\n",
    "s= '오늘은 {}월 {}일 입니다.'.format(month,day)\n",
    "s"
   ]
  },
  {
   "cell_type": "code",
   "execution_count": 109,
   "id": "90e017a9",
   "metadata": {},
   "outputs": [
    {
     "name": "stdout",
     "output_type": "stream",
     "text": [
      "오늘은 4월 18일 입니다.\n"
     ]
    }
   ],
   "source": [
    "# f 이용한 포매팅\n",
    "month =4\n",
    "day =18\n",
    "s= f'오늘은 {month}월 {day}일 입니다.'\n",
    "print(f'오늘은 {month}월 {day}일 입니다.')\n"
   ]
  },
  {
   "cell_type": "code",
   "execution_count": 116,
   "id": "a7be629a",
   "metadata": {},
   "outputs": [
    {
     "name": "stdout",
     "output_type": "stream",
     "text": [
      "400와 200의 합은 600입니다.\n"
     ]
    }
   ],
   "source": [
    "x=400\n",
    "y=200\n",
    "sum2 =x+y\n",
    "print(f'{x}와 {y}의 합은 {sum2}입니다.')"
   ]
  },
  {
   "cell_type": "code",
   "execution_count": 115,
   "id": "f940c1a5",
   "metadata": {},
   "outputs": [
    {
     "name": "stdout",
     "output_type": "stream",
     "text": [
      "hello! python\n",
      "hello! python\n",
      "hello python\n"
     ]
    }
   ],
   "source": [
    "s = \"hello\"\n",
    "t = \"python\"\n",
    "print(s+\"! \"+t)\n",
    "print(s+\"!\", t)\n",
    "print(s,t)"
   ]
  },
  {
   "cell_type": "code",
   "execution_count": null,
   "id": "7cc2776f",
   "metadata": {},
   "outputs": [],
   "source": [
    "a=2;b=2;c=3\n"
   ]
  },
  {
   "cell_type": "code",
   "execution_count": 171,
   "id": "a525d3bb",
   "metadata": {},
   "outputs": [
    {
     "data": {
      "text/plain": [
       "'안녕하세요'"
      ]
     },
     "execution_count": 171,
     "metadata": {},
     "output_type": "execute_result"
    }
   ],
   "source": [
    "# strip(): 문자의 양쪽 공백을 없애주는 함수\n",
    "s='                    안녕하세요                            '\n",
    "s.strip()"
   ]
  },
  {
   "cell_type": "code",
   "execution_count": 145,
   "id": "cf9d535f",
   "metadata": {},
   "outputs": [
    {
     "data": {
      "text/plain": [
       "'안녕 하세요'"
      ]
     },
     "execution_count": 145,
     "metadata": {},
     "output_type": "execute_result"
    }
   ],
   "source": [
    "# replace() : 기존의 문자,바꿀문자\n",
    "s= '안녕               하세요'\n",
    "s.replace(\"  \",\"\")"
   ]
  },
  {
   "cell_type": "code",
   "execution_count": 122,
   "id": "a7c8b940",
   "metadata": {},
   "outputs": [
    {
     "data": {
      "text/plain": [
       "'안냥하세요. 연재씨, 연재아~~'"
      ]
     },
     "execution_count": 122,
     "metadata": {},
     "output_type": "execute_result"
    }
   ],
   "source": [
    "s= '안냥하세요. 상원씨, 상원아~~'\n",
    "s.replace(\"상원\",\"연재\")"
   ]
  },
  {
   "cell_type": "code",
   "execution_count": 142,
   "id": "2da61a5b",
   "metadata": {},
   "outputs": [
    {
     "data": {
      "text/plain": [
       "'우건'"
      ]
     },
     "execution_count": 142,
     "metadata": {},
     "output_type": "execute_result"
    }
   ],
   "source": [
    "# split() 나누어준다 문자열을~\n",
    "s= '우석,우건,준범'\n",
    "\n",
    "s.split(\",\")[1]"
   ]
  },
  {
   "cell_type": "code",
   "execution_count": 168,
   "id": "3ae3e891",
   "metadata": {},
   "outputs": [
    {
     "data": {
      "text/plain": [
       "['', ',우건,준범']"
      ]
     },
     "execution_count": 168,
     "metadata": {},
     "output_type": "execute_result"
    }
   ],
   "source": [
    "s = '우석,우건,준범'\n",
    "\n",
    "s.split(\"우석\")"
   ]
  },
  {
   "cell_type": "code",
   "execution_count": 169,
   "id": "c6320214",
   "metadata": {},
   "outputs": [
    {
     "data": {
      "text/plain": [
       "['우석', '우건', '준범']"
      ]
     },
     "execution_count": 169,
     "metadata": {},
     "output_type": "execute_result"
    }
   ],
   "source": [
    "# : 기호를 기준으로 분열\n",
    "s= '우석:우건:준범'\n",
    "s.split(\":\")"
   ]
  },
  {
   "cell_type": "code",
   "execution_count": 172,
   "id": "83949a38",
   "metadata": {},
   "outputs": [
    {
     "data": {
      "text/plain": [
       "',우건,준범'"
      ]
     },
     "execution_count": 172,
     "metadata": {},
     "output_type": "execute_result"
    }
   ],
   "source": [
    "# 문자의 양쪽 공백을 없애주는 함수\n",
    "s = '우석,우건,준범'\n",
    "s.strip(\"우석\")"
   ]
  },
  {
   "cell_type": "code",
   "execution_count": 1,
   "id": "a353e18d",
   "metadata": {},
   "outputs": [
    {
     "data": {
      "text/plain": [
       "['우석', '우건', '준범']"
      ]
     },
     "execution_count": 1,
     "metadata": {},
     "output_type": "execute_result"
    }
   ],
   "source": [
    "# : 기호를 기준으로 분열\n",
    "s= '우석,우건,준범'\n",
    "s.split(\",\")"
   ]
  },
  {
   "cell_type": "code",
   "execution_count": 2,
   "id": "e92928c3",
   "metadata": {},
   "outputs": [
    {
     "data": {
      "text/plain": [
       "'준범'"
      ]
     },
     "execution_count": 2,
     "metadata": {},
     "output_type": "execute_result"
    }
   ],
   "source": [
    "# : 기호를 기준으로 분열\n",
    "s= '우석:우건:준범'\n",
    "s.split(\":\")[2]"
   ]
  },
  {
   "cell_type": "code",
   "execution_count": 17,
   "id": "a303c5a6",
   "metadata": {},
   "outputs": [
    {
     "data": {
      "text/plain": [
       "'우석우건준범'"
      ]
     },
     "execution_count": 17,
     "metadata": {},
     "output_type": "execute_result"
    }
   ],
   "source": [
    "# : 기호를 기준으로 분열\n",
    "s= '우석우건준범'\n",
    "s.split(\",\")[0]"
   ]
  },
  {
   "cell_type": "code",
   "execution_count": null,
   "id": "200f6331",
   "metadata": {},
   "outputs": [],
   "source": []
  },
  {
   "cell_type": "code",
   "execution_count": null,
   "id": "4d8fbf92",
   "metadata": {},
   "outputs": [],
   "source": []
  },
  {
   "cell_type": "code",
   "execution_count": null,
   "id": "d6a09403",
   "metadata": {},
   "outputs": [],
   "source": []
  },
  {
   "cell_type": "code",
   "execution_count": null,
   "id": "8f6141d8",
   "metadata": {},
   "outputs": [],
   "source": []
  },
  {
   "cell_type": "code",
   "execution_count": 117,
   "id": "abc81bd2",
   "metadata": {},
   "outputs": [
    {
     "data": {
      "text/plain": [
       "'5000원'"
      ]
     },
     "execution_count": 117,
     "metadata": {},
     "output_type": "execute_result"
    }
   ],
   "source": [
    "s= '5000원'\n",
    "s.split(\",\")[0]    # 0번 인덱스가 5000원  1번은 에러"
   ]
  },
  {
   "cell_type": "code",
   "execution_count": null,
   "id": "347f4fd8",
   "metadata": {},
   "outputs": [],
   "source": []
  },
  {
   "cell_type": "code",
   "execution_count": 124,
   "id": "a40d9e77",
   "metadata": {},
   "outputs": [
    {
     "data": {
      "text/plain": [
       "''"
      ]
     },
     "execution_count": 124,
     "metadata": {},
     "output_type": "execute_result"
    }
   ],
   "source": [
    "s= '원일5000'\n",
    "s.split(\"원\")[0]     # 0번 인덱스가 \"\"    1번이 일5000 "
   ]
  },
  {
   "cell_type": "code",
   "execution_count": 126,
   "id": "42e6c17c",
   "metadata": {},
   "outputs": [
    {
     "data": {
      "text/plain": [
       "'5000'"
      ]
     },
     "execution_count": 126,
     "metadata": {},
     "output_type": "execute_result"
    }
   ],
   "source": [
    "s= '일원5000'\n",
    "s.split(\"원\")[1]     # 0번 인덱스가 일   1번이 5000 "
   ]
  },
  {
   "cell_type": "code",
   "execution_count": 120,
   "id": "164db014",
   "metadata": {},
   "outputs": [
    {
     "data": {
      "text/plain": [
       "'원5000'"
      ]
     },
     "execution_count": 120,
     "metadata": {},
     "output_type": "execute_result"
    }
   ],
   "source": [
    "s= '원5000'\n",
    "s.split(\",\")[0]  # 0번 인덱스가 원5000 1번은 에러"
   ]
  },
  {
   "cell_type": "code",
   "execution_count": 121,
   "id": "27d74a4e",
   "metadata": {},
   "outputs": [
    {
     "data": {
      "text/plain": [
       "''"
      ]
     },
     "execution_count": 121,
     "metadata": {},
     "output_type": "execute_result"
    }
   ],
   "source": [
    "s= '원5000'\n",
    "s.split(\"원\")[0]     # 0번 인덱스가 \"\"    1번이 5000 "
   ]
  },
  {
   "cell_type": "code",
   "execution_count": 92,
   "id": "187eb7ca",
   "metadata": {},
   "outputs": [
    {
     "data": {
      "text/plain": [
       "'일'"
      ]
     },
     "execution_count": 92,
     "metadata": {},
     "output_type": "execute_result"
    }
   ],
   "source": [
    "s= '5000원일'\n",
    "s.split(\"원\")[1]    # 0번 인덱스가 5000   # 1번은 원이 빠지므로 '일'"
   ]
  },
  {
   "cell_type": "code",
   "execution_count": 115,
   "id": "8ff843e9",
   "metadata": {},
   "outputs": [
    {
     "data": {
      "text/plain": [
       "''"
      ]
     },
     "execution_count": 115,
     "metadata": {},
     "output_type": "execute_result"
    }
   ],
   "source": [
    "a = ''\n",
    "a"
   ]
  },
  {
   "cell_type": "code",
   "execution_count": 123,
   "id": "5865645e",
   "metadata": {},
   "outputs": [
    {
     "data": {
      "text/plain": [
       "''"
      ]
     },
     "execution_count": 123,
     "metadata": {},
     "output_type": "execute_result"
    }
   ],
   "source": [
    "s= '5000원'\n",
    "s.split(\"원\")[1]    # 0번 인덱스가 5000   1번 \"\""
   ]
  },
  {
   "cell_type": "code",
   "execution_count": 114,
   "id": "f2f6a17f",
   "metadata": {},
   "outputs": [
    {
     "data": {
      "text/plain": [
       "',5000'"
      ]
     },
     "execution_count": 114,
     "metadata": {},
     "output_type": "execute_result"
    }
   ],
   "source": [
    "s= '원,5000'\n",
    "s.split('원')[1]  # 0번 인덱스가 원5000    "
   ]
  },
  {
   "cell_type": "code",
   "execution_count": 38,
   "id": "cea5ebc8",
   "metadata": {},
   "outputs": [
    {
     "data": {
      "text/plain": [
       "['원', '5000']"
      ]
     },
     "execution_count": 38,
     "metadata": {},
     "output_type": "execute_result"
    }
   ],
   "source": [
    "s= '원,5000'\n",
    "s.split(',')  # 0번 인덱스가 원5000    "
   ]
  },
  {
   "cell_type": "code",
   "execution_count": 39,
   "id": "e3069782",
   "metadata": {},
   "outputs": [
    {
     "data": {
      "text/plain": [
       "['5000원']"
      ]
     },
     "execution_count": 39,
     "metadata": {},
     "output_type": "execute_result"
    }
   ],
   "source": [
    "s= '5000원'\n",
    "s.split(\",\")    # 0번 인덱스가 5000원   # 원을 빼면 5000"
   ]
  },
  {
   "cell_type": "code",
   "execution_count": 40,
   "id": "b6699dc3",
   "metadata": {},
   "outputs": [
    {
     "data": {
      "text/plain": [
       "['원5000']"
      ]
     },
     "execution_count": 40,
     "metadata": {},
     "output_type": "execute_result"
    }
   ],
   "source": [
    "s= '원5000'\n",
    "s.split(\",\")    # 0번 인덱스가 5000원   # 원을 빼면 5000"
   ]
  },
  {
   "cell_type": "code",
   "execution_count": 112,
   "id": "e389203e",
   "metadata": {},
   "outputs": [
    {
     "data": {
      "text/plain": [
       "'원5000'"
      ]
     },
     "execution_count": 112,
     "metadata": {},
     "output_type": "execute_result"
    }
   ],
   "source": [
    "s= '원5000'\n",
    "s.split(\",\")[0]    # 0번 인덱스가 5000원   # 원을 빼면 5000"
   ]
  },
  {
   "cell_type": "code",
   "execution_count": 42,
   "id": "30a95d58",
   "metadata": {},
   "outputs": [
    {
     "ename": "IndexError",
     "evalue": "list index out of range",
     "output_type": "error",
     "traceback": [
      "\u001b[1;31m---------------------------------------------------------------------------\u001b[0m",
      "\u001b[1;31mIndexError\u001b[0m                                Traceback (most recent call last)",
      "Cell \u001b[1;32mIn[42], line 2\u001b[0m\n\u001b[0;32m      1\u001b[0m s\u001b[38;5;241m=\u001b[39m \u001b[38;5;124m'\u001b[39m\u001b[38;5;124m원5000\u001b[39m\u001b[38;5;124m'\u001b[39m\n\u001b[1;32m----> 2\u001b[0m s\u001b[38;5;241m.\u001b[39msplit(\u001b[38;5;124m\"\u001b[39m\u001b[38;5;124m,\u001b[39m\u001b[38;5;124m\"\u001b[39m)[\u001b[38;5;241m1\u001b[39m]\n",
      "\u001b[1;31mIndexError\u001b[0m: list index out of range"
     ]
    }
   ],
   "source": [
    "s= '원5000'\n",
    "s.split(\",\")[1]    # 0번 인덱스가 5000원   # 원을 빼면 5000"
   ]
  },
  {
   "cell_type": "code",
   "execution_count": null,
   "id": "09b4a555",
   "metadata": {},
   "outputs": [],
   "source": []
  },
  {
   "cell_type": "code",
   "execution_count": null,
   "id": "1b565272",
   "metadata": {},
   "outputs": [],
   "source": []
  }
 ],
 "metadata": {
  "kernelspec": {
   "display_name": "Python 3 (ipykernel)",
   "language": "python",
   "name": "python3"
  },
  "language_info": {
   "codemirror_mode": {
    "name": "ipython",
    "version": 3
   },
   "file_extension": ".py",
   "mimetype": "text/x-python",
   "name": "python",
   "nbconvert_exporter": "python",
   "pygments_lexer": "ipython3",
   "version": "3.11.5"
  }
 },
 "nbformat": 4,
 "nbformat_minor": 5
}
