{
 "cells": [
  {
   "cell_type": "code",
   "execution_count": 2,
   "id": "76da43b7",
   "metadata": {},
   "outputs": [
    {
     "name": "stdout",
     "output_type": "stream",
     "text": [
      "*\n",
      "**\n",
      "***\n",
      "****\n",
      "*****\n"
     ]
    }
   ],
   "source": [
    "# 예제1\n",
    "for i in range (1,6) :\n",
    "    \n",
    "     for j in range (i,i-1,-1) :\n",
    "         \n",
    "        print('*'*j)   # print('*'*i) 같음\n",
    "        \n",
    "    \n",
    "    \n",
    "        \n",
    "    "
   ]
  },
  {
   "cell_type": "code",
   "execution_count": 3,
   "id": "1e2e3307",
   "metadata": {},
   "outputs": [
    {
     "name": "stdout",
     "output_type": "stream",
     "text": [
      "*****\n",
      "****\n",
      "***\n",
      "**\n",
      "*\n"
     ]
    }
   ],
   "source": [
    "for i in range (5,0,-1) :\n",
    "    \n",
    "     for j in range (i,i-1,-1) : # (i,i+1,1) 같음\n",
    "         \n",
    "        print('*'*j)   # print('*'*i) 같음"
   ]
  },
  {
   "cell_type": "code",
   "execution_count": 4,
   "id": "7e2e517b",
   "metadata": {},
   "outputs": [
    {
     "name": "stdout",
     "output_type": "stream",
     "text": [
      "*\n"
     ]
    }
   ],
   "source": [
    "for j in range (1,2) :\n",
    "        print('*')"
   ]
  },
  {
   "cell_type": "code",
   "execution_count": 5,
   "id": "0a12cb12",
   "metadata": {},
   "outputs": [
    {
     "name": "stdout",
     "output_type": "stream",
     "text": [
      "*\n",
      "**\n",
      "***\n",
      "****\n",
      "*****\n"
     ]
    }
   ],
   "source": [
    "# 예제1 별짓기\n",
    "#a = 5\n",
    "for i in range(0,5):   # (a) 해도 가능\n",
    "    print('*' * (i+1))\n"
   ]
  },
  {
   "cell_type": "code",
   "execution_count": 6,
   "id": "d026dbb9",
   "metadata": {},
   "outputs": [
    {
     "name": "stdout",
     "output_type": "stream",
     "text": [
      "*****\n",
      "****\n",
      "***\n",
      "**\n",
      "*\n"
     ]
    }
   ],
   "source": [
    "a = 5\n",
    "for i in range(a,0,-1): \n",
    "    print('*' * (i))"
   ]
  },
  {
   "cell_type": "code",
   "execution_count": 7,
   "id": "1087a30b",
   "metadata": {},
   "outputs": [
    {
     "name": "stdout",
     "output_type": "stream",
     "text": [
      "    *\n",
      "   **\n",
      "  ***\n",
      " ****\n",
      "*****\n"
     ]
    }
   ],
   "source": [
    "a = 5\n",
    "for i in range(a):\n",
    "    print(\" \" * (a - (i+1)), end=\"\");print('*' * (i+1))\n",
    "    #print('*' * (i+1))"
   ]
  },
  {
   "cell_type": "code",
   "execution_count": 8,
   "id": "8bd568e1",
   "metadata": {},
   "outputs": [
    {
     "name": "stdout",
     "output_type": "stream",
     "text": [
      "줄수입력>>5\n",
      "*\n",
      "**\n",
      "***\n",
      "****\n",
      "*****\n"
     ]
    }
   ],
   "source": [
    "a=int(input (\"줄수입력>>\"))\n",
    "for i in range(1,a+1):\n",
    "    print('*' * (i))\n"
   ]
  },
  {
   "cell_type": "code",
   "execution_count": 9,
   "id": "bc9eef5d",
   "metadata": {},
   "outputs": [
    {
     "name": "stdout",
     "output_type": "stream",
     "text": [
      "줄수입력>>5\n",
      "*\n",
      "**\n",
      "***\n",
      "****\n",
      "*****\n",
      "****\n",
      "***\n",
      "**\n",
      "*\n"
     ]
    }
   ],
   "source": [
    "# 예제2 별짓기\n",
    "b=int(input (\"줄수입력>>\"))\n",
    "for i in range(1,b+1):\n",
    "    print('*' * (i))\n",
    "for j in range(b-1,0,-1):    \n",
    "    print('*'*(j))\n"
   ]
  },
  {
   "cell_type": "code",
   "execution_count": 30,
   "id": "47581ebc",
   "metadata": {},
   "outputs": [
    {
     "name": "stdout",
     "output_type": "stream",
     "text": [
      "첫정수입력>>10\n",
      "둘정수입력>>30\n",
      "10 11 12 13 14 15 16 17 18 19 20 21 22 23 24 25 26 27 28 29 30 \n",
      "첫정수입력>>30\n",
      "둘정수입력>>10\n",
      "30 29 28 27 26 25 24 23 22 21 20 19 18 17 16 15 14 13 12 11 10 \n",
      "첫정수입력>>0\n",
      "둘정수입력>>0\n",
      "종료\n"
     ]
    }
   ],
   "source": [
    "# 예제3\n",
    "# 첫 번째 정수부터 두 번째 정수까지 출력\n",
    "while True :\n",
    "    c=int(input (\"첫정수입력>>\"))\n",
    "    d=int(input (\"둘정수입력>>\"))\n",
    "    if (c==d) & (d==c) :\n",
    "        print('종료')\n",
    "        break\n",
    "    elif(c<d) :\n",
    "        for i in range(c,d+1) :\n",
    "            print(i,end=' ')\n",
    "        print()\n",
    "    else :\n",
    "        for j in range(c,d-1,-1) :\n",
    "            print(j,end=' ')\n",
    "        print()\n",
    "        \n",
    "    \n"
   ]
  },
  {
   "cell_type": "code",
   "execution_count": 28,
   "id": "12ab4998",
   "metadata": {},
   "outputs": [
    {
     "name": "stdout",
     "output_type": "stream",
     "text": [
      "첫정수입력>>1\n",
      "둘정수입력>>5\n",
      "배수입력>>1\n",
      "1의 배수의 합 : 15\n"
     ]
    }
   ],
   "source": [
    "# 예제4\n",
    "# 첫 번째 정수부터 두 번째 정수까지 범위에서 입력된 배수의 합을 출력\n",
    "e=int(input (\"첫정수입력>>\"))\n",
    "f=int(input (\"둘정수입력>>\"))\n",
    "g=int(input (\"배수입력>>\"))\n",
    "h=0\n",
    "if (e>f) :\n",
    "    print('첫정수를 큰수로하세요')\n",
    "elif g==0 :\n",
    "    print('베수를 1이상으로 하시요')\n",
    "else :\n",
    "    for i in range(e,f+1) :        \n",
    "        if i%g==0 :\n",
    "            h += i\n",
    "print(f'{g}의 배수의 합 : {h}')       "
   ]
  },
  {
   "cell_type": "code",
   "execution_count": 31,
   "id": "75f25c58",
   "metadata": {},
   "outputs": [
    {
     "name": "stdout",
     "output_type": "stream",
     "text": [
      ". n L\n",
      "Life is too short, You need python."
     ]
    },
    {
     "data": {
      "text/plain": [
       "35"
      ]
     },
     "execution_count": 31,
     "metadata": {},
     "output_type": "execute_result"
    }
   ],
   "source": [
    "# 예제5\n",
    "# 다음 암호문을 올바르게 해석하려면 거꾸로 읽어야 합니다.\n",
    "# 암호문을 해석하기위한 반복문을 작성하시오.(len함수 이용)\n",
    "# Life is too short, You need python.\n",
    "\n",
    "list1= \".nohtyp deen uoY ,trohs oot si efiL\"\n",
    "print(list1[0],list1[1],list1[34])\n",
    "#print(list1[1])\n",
    "#print(list1[34])\n",
    "for i in range (len(list1),0,-1) :\n",
    "    print(list1[i-1],end='')\n",
    "len(list1)"
   ]
  },
  {
   "cell_type": "code",
   "execution_count": null,
   "id": "09a96b1c",
   "metadata": {},
   "outputs": [],
   "source": [
    "ab= \"정,대,주\"\n",
    "for i in range (len(ab)) :\n",
    "    print(ab[i],end='')\n",
    "len(ab)"
   ]
  },
  {
   "cell_type": "code",
   "execution_count": 32,
   "id": "1254a45e",
   "metadata": {},
   "outputs": [
    {
     "name": "stdout",
     "output_type": "stream",
     "text": [
      "2*1=2\t2*2=4\t2*3=6\t2*4=8\t2*5=10\t2*6=12\t2*7=14\t2*8=16\t2*9=18\t\n",
      "3*1=3\t3*2=6\t3*3=9\t3*4=12\t3*5=15\t3*6=18\t3*7=21\t3*8=24\t3*9=27\t\n",
      "4*1=4\t4*2=8\t4*3=12\t4*4=16\t4*5=20\t4*6=24\t4*7=28\t4*8=32\t4*9=36\t\n",
      "5*1=5\t5*2=10\t5*3=15\t5*4=20\t5*5=25\t5*6=30\t5*7=35\t5*8=40\t5*9=45\t\n",
      "6*1=6\t6*2=12\t6*3=18\t6*4=24\t6*5=30\t6*6=36\t6*7=42\t6*8=48\t6*9=54\t\n",
      "7*1=7\t7*2=14\t7*3=21\t7*4=28\t7*5=35\t7*6=42\t7*7=49\t7*8=56\t7*9=63\t\n",
      "8*1=8\t8*2=16\t8*3=24\t8*4=32\t8*5=40\t8*6=48\t8*7=56\t8*8=64\t8*9=72\t\n",
      "9*1=9\t9*2=18\t9*3=27\t9*4=36\t9*5=45\t9*6=54\t9*7=63\t9*8=72\t9*9=81\t\n"
     ]
    }
   ],
   "source": [
    "# 예제6\n",
    "a=2\n",
    "for i in range (1,9) :\n",
    "    for j in range (1,10) :\n",
    "        print(f'{a}*{j}={a*j}',end='\\t')   \n",
    "    a+=1\n",
    "    print()\n"
   ]
  },
  {
   "cell_type": "code",
   "execution_count": 33,
   "id": "22271dc5",
   "metadata": {},
   "outputs": [
    {
     "name": "stdout",
     "output_type": "stream",
     "text": [
      "2*1=2\t3*1=3\t4*1=4\t5*1=5\t6*1=6\t7*1=7\t8*1=8\t9*1=9\t\n",
      "2*2=4\t3*2=6\t4*2=8\t5*2=10\t6*2=12\t7*2=14\t8*2=16\t9*2=18\t\n",
      "2*3=6\t3*3=9\t4*3=12\t5*3=15\t6*3=18\t7*3=21\t8*3=24\t9*3=27\t\n",
      "2*4=8\t3*4=12\t4*4=16\t5*4=20\t6*4=24\t7*4=28\t8*4=32\t9*4=36\t\n",
      "2*5=10\t3*5=15\t4*5=20\t5*5=25\t6*5=30\t7*5=35\t8*5=40\t9*5=45\t\n",
      "2*6=12\t3*6=18\t4*6=24\t5*6=30\t6*6=36\t7*6=42\t8*6=48\t9*6=54\t\n",
      "2*7=14\t3*7=21\t4*7=28\t5*7=35\t6*7=42\t7*7=49\t8*7=56\t9*7=63\t\n",
      "2*8=16\t3*8=24\t4*8=32\t5*8=40\t6*8=48\t7*8=56\t8*8=64\t9*8=72\t\n",
      "2*9=18\t3*9=27\t4*9=36\t5*9=45\t6*9=54\t7*9=63\t8*9=72\t9*9=81\t\n"
     ]
    }
   ],
   "source": [
    "# 예제7\n",
    "a=1\n",
    "for i in range (1,10) :\n",
    "    for j in range (2,10) :\n",
    "        print(f'{j}*{a}={j*a}',end='\\t')   \n",
    "    a+=1\n",
    "    print()\n",
    "          "
   ]
  },
  {
   "cell_type": "code",
   "execution_count": 36,
   "id": "6a75aaa4",
   "metadata": {},
   "outputs": [
    {
     "name": "stdout",
     "output_type": "stream",
     "text": [
      "짝수 3개, 홀수 8개\n"
     ]
    }
   ],
   "source": [
    "# 예제8\n",
    "# list1에서 짝수와, 홀수의 개수를 출력하시오.\n",
    "# 단 list1의 값이 추가 되어도 출력되게끔 코드를 작성하시오.\n",
    "list11= [1,30,7,9,17,3,5,23,44,32,35]\n",
    "w=0\n",
    "x=0\n",
    "for i in list11 :\n",
    "    if i%2==0 :\n",
    "        w+=1\n",
    "    else :\n",
    "        x+=1\n",
    "print(f'짝수 {w}개, 홀수 {x}개')"
   ]
  },
  {
   "cell_type": "code",
   "execution_count": 49,
   "id": "28eba689",
   "metadata": {},
   "outputs": [
    {
     "name": "stdout",
     "output_type": "stream",
     "text": [
      "=============================================\n",
      "이름\t파이썬\t자바\t데이터\t평균\t학점\n",
      "=============================================\n"
     ]
    },
    {
     "ename": "TypeError",
     "evalue": "'int' object is not subscriptable",
     "output_type": "error",
     "traceback": [
      "\u001b[1;31m---------------------------------------------------------------------------\u001b[0m",
      "\u001b[1;31mTypeError\u001b[0m                                 Traceback (most recent call last)",
      "Cell \u001b[1;32mIn[49], line 12\u001b[0m\n\u001b[0;32m     10\u001b[0m \u001b[38;5;28;01mfor\u001b[39;00m i \u001b[38;5;129;01min\u001b[39;00m \u001b[38;5;28mrange\u001b[39m(\u001b[38;5;28mlen\u001b[39m(list22)) :\n\u001b[0;32m     11\u001b[0m     \u001b[38;5;28;01mfor\u001b[39;00m j \u001b[38;5;129;01min\u001b[39;00m \u001b[38;5;28mrange\u001b[39m(i\u001b[38;5;241m+\u001b[39m\u001b[38;5;241m1\u001b[39m) :\n\u001b[1;32m---> 12\u001b[0m         \u001b[38;5;28mprint\u001b[39m(\u001b[38;5;124mf\u001b[39m\u001b[38;5;124m'\u001b[39m\u001b[38;5;132;01m{\u001b[39;00mi[j]\u001b[38;5;132;01m}\u001b[39;00m\u001b[38;5;130;01m\\t\u001b[39;00m\u001b[38;5;132;01m{\u001b[39;00mi[j\u001b[38;5;241m+\u001b[39m\u001b[38;5;241m1\u001b[39m]\u001b[38;5;132;01m}\u001b[39;00m\u001b[38;5;130;01m\\t\u001b[39;00m\u001b[38;5;132;01m{\u001b[39;00mi[j\u001b[38;5;241m+\u001b[39m\u001b[38;5;241m2\u001b[39m]\u001b[38;5;132;01m}\u001b[39;00m\u001b[38;5;130;01m\\t\u001b[39;00m\u001b[38;5;132;01m{\u001b[39;00mi[j\u001b[38;5;241m+\u001b[39m\u001b[38;5;241m3\u001b[39m]\u001b[38;5;132;01m}\u001b[39;00m\u001b[38;5;124m'\u001b[39m)\n",
      "\u001b[1;31mTypeError\u001b[0m: 'int' object is not subscriptable"
     ]
    }
   ],
   "source": [
    "# 예제9\n",
    "#list22=[['정대주',89,78,99],\n",
    "#       ['재은',67,88,77],\n",
    "#       ['기순',100,55,96]\n",
    "#       ]\n",
    "\n",
    "print(\"=============================================\")\n",
    "print(\"이름\\t파이썬\\t자바\\t데이터\\t평균\\t학점\")\n",
    "print(\"=============================================\")\n",
    "for i in range(len(list22)) :\n",
    "    for j in range(i+1) :\n",
    "        print(f'{i[j]}\\t{i[j+1]}\\t{i[j+2]}\\t{i[j+3]}')\n",
    "       "
   ]
  },
  {
   "cell_type": "code",
   "execution_count": 48,
   "id": "e7930ccf",
   "metadata": {},
   "outputs": [
    {
     "name": "stdout",
     "output_type": "stream",
     "text": [
      "이름\t파이썬\t자바\t데이터\t평균\t학점\n",
      "89는\n",
      "['정대주', 89, 78, 99]\n",
      "정대주\t89\t78\t99\n",
      "재은\t67\t88\t77\n",
      "기순\t100\t55\t96\n"
     ]
    }
   ],
   "source": [
    "list25=[['정대주',89,78,99],\n",
    "       ['재은',67,88,77],\n",
    "       ['기순',100,55,96]\n",
    "       ]\n",
    "print(\"이름\\t파이썬\\t자바\\t데이터\\t평균\\t학점\")\n",
    "print(f'{list25[0][1]}는')\n",
    "print(list25[0])\n",
    "for a,b,c,d in list25 :  \n",
    "     print(f'{a}\\t{b}\\t{c}\\t{d}')\n",
    "    \n",
    "    \n",
    "    #for j,d,f,g in i :\n",
    "     #   print(j,d,f,g)\n",
    "        #print(j,end=' ')\n",
    "        #print(i[0],i[1],i[2],i[3])"
   ]
  },
  {
   "cell_type": "code",
   "execution_count": 116,
   "id": "9668e80d",
   "metadata": {},
   "outputs": [
    {
     "name": "stdout",
     "output_type": "stream",
     "text": [
      "=============================================\n",
      "이름\t파이썬\t자바\t데이터\t평균\t학점\n",
      "=============================================\n",
      "정대주\t89\t78\t99\t88\tB\n",
      "재은\t67\t88\t77\t77\tC\n",
      "기순\t100\t55\t96\t83\tB\n",
      "우성\t99\t99\t99\t99\tA\n",
      "=============================================\n",
      "평균\t88\t80\t92\n"
     ]
    }
   ],
   "source": [
    "# 예제9\n",
    "list30=[['정대주',89,78,99],\n",
    "       ['재은',67,88,77],\n",
    "       ['기순',100,55,96],\n",
    "       ['우성',99,99,99],\n",
    "       ]\n",
    "\n",
    "print(\"=============================================\")\n",
    "print(\"이름\\t파이썬\\t자바\\t데이터\\t평균\\t학점\")\n",
    "print(\"=============================================\")\n",
    "av=0\n",
    "gr=''\n",
    "for a,b,c,d in list30 : \n",
    "    av = int((b+c+d)/(len(list30[0])-1))\n",
    "    if av >=90 :\n",
    "        gr='A'\n",
    "    elif av >=80 :\n",
    "        gr='B'\n",
    "    elif av >=70 :\n",
    "        gr='C'\n",
    "    elif av >=60 :\n",
    "        gr='D'\n",
    "    else  :\n",
    "        gr='F'\n",
    "    \n",
    "    print(f'{a}\\t{b}\\t{c}\\t{d}\\t{av}\\t{gr}')\n",
    "print(\"=============================================\")\n",
    "bb=0\n",
    "cc=0\n",
    "dd=0\n",
    "for a,b,c,d in list30 : \n",
    "    bb += b\n",
    "    cc += c\n",
    "    dd += d\n",
    "    av2 =int(bb/len(list30))\n",
    "    av3 =int(cc/len(list30))\n",
    "    av4 =int(dd/len(list30))\n",
    "print(f'평균\\t{av2}\\t{av3}\\t{av4}')\n",
    "        "
   ]
  },
  {
   "cell_type": "code",
   "execution_count": 55,
   "id": "aebbd8e9",
   "metadata": {},
   "outputs": [
    {
     "name": "stdout",
     "output_type": "stream",
     "text": [
      "================================\n"
     ]
    }
   ],
   "source": [
    "print(\"================\"\n",
    "      \"================\")"
   ]
  },
  {
   "cell_type": "code",
   "execution_count": 58,
   "id": "4ffe373b",
   "metadata": {},
   "outputs": [
    {
     "name": "stdout",
     "output_type": "stream",
     "text": [
      "89\n"
     ]
    }
   ],
   "source": [
    "zzc='정대주',89,78,99\n",
    "print(zzc[1])"
   ]
  },
  {
   "cell_type": "code",
   "execution_count": 69,
   "id": "d0dbc512",
   "metadata": {},
   "outputs": [
    {
     "name": "stdout",
     "output_type": "stream",
     "text": [
      "89\n",
      "88\n",
      "96\n"
     ]
    }
   ],
   "source": [
    "list50=[['정대주',89,78,99],\n",
    "       ['재은',67,88,77],\n",
    "       ['기순',100,55,96]\n",
    "       ]\n",
    "\n",
    "for i in range(len(list50)) :\n",
    "     print(list50[i][i+1])\n",
    "        \n",
    "        "
   ]
  },
  {
   "cell_type": "code",
   "execution_count": 69,
   "id": "0c1e4411",
   "metadata": {},
   "outputs": [
    {
     "name": "stdout",
     "output_type": "stream",
     "text": [
      "정대주\n",
      "89\n",
      "정대주\n",
      "89\n",
      "78\n",
      "99\n",
      "재은\n",
      "67\n",
      "88\n",
      "77\n",
      "기순\n",
      "100\n",
      "55\n",
      "96\n"
     ]
    }
   ],
   "source": [
    "list500=[['정대주',89,78,99],\n",
    "       ['재은',67,88,77],\n",
    "       ['기순',100,55,96]\n",
    "       ]\n",
    "print(list500[0][0])\n",
    "print(list500[0][1])\n",
    "#len(list500)\n",
    "#len(list500[0])\n",
    "#len(list500[0][0])\n",
    "\n",
    "for i in list500 :\n",
    "    for j in i :\n",
    "        #print(f'{i[j]}\\t{i[j+1]}\\t{i[j+2]}\\t{i[j+3]}')\n",
    "        #print(i[0])\n",
    "        print(j)\n",
    "    "
   ]
  },
  {
   "cell_type": "code",
   "execution_count": 16,
   "id": "e4bc581f",
   "metadata": {},
   "outputs": [
    {
     "data": {
      "text/plain": [
       "4"
      ]
     },
     "execution_count": 16,
     "metadata": {},
     "output_type": "execute_result"
    }
   ],
   "source": [
    "zzcc='qwertqqqyui'\n",
    "zzcc.count('q')"
   ]
  },
  {
   "cell_type": "code",
   "execution_count": 21,
   "id": "e2f151ab",
   "metadata": {},
   "outputs": [
    {
     "data": {
      "text/plain": [
       "5"
      ]
     },
     "execution_count": 21,
     "metadata": {},
     "output_type": "execute_result"
    }
   ],
   "source": [
    "zzc=[1,2,2,2,2,2,3,4,5,6]\n",
    "zzc.count(2)"
   ]
  }
 ],
 "metadata": {
  "kernelspec": {
   "display_name": "Python 3 (ipykernel)",
   "language": "python",
   "name": "python3"
  },
  "language_info": {
   "codemirror_mode": {
    "name": "ipython",
    "version": 3
   },
   "file_extension": ".py",
   "mimetype": "text/x-python",
   "name": "python",
   "nbconvert_exporter": "python",
   "pygments_lexer": "ipython3",
   "version": "3.11.5"
  }
 },
 "nbformat": 4,
 "nbformat_minor": 5
}
