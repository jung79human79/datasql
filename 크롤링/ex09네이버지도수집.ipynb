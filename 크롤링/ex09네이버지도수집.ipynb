{
 "cells": [
  {
   "cell_type": "code",
   "execution_count": 1,
   "id": "b9a7da84",
   "metadata": {},
   "outputs": [],
   "source": [
    "# 1.브라우저 역할을 하는 라이브러리 --> webdriver\n",
    "from selenium import webdriver as wb\n",
    "# 2. 컴용 키보드 라이브러리\n",
    "from selenium.webdriver.common.keys import Keys  #--> 대문자 주의\n",
    "#3.선택자를 구분지어 주는 라이브러리\n",
    "from selenium.webdriver.common.by import By   #--> 대문자 주의\n",
    "import pandas as pd\n",
    "import time"
   ]
  },
  {
   "cell_type": "code",
   "execution_count": null,
   "id": "6594b6e8",
   "metadata": {},
   "outputs": [],
   "source": [
    "#https://map.naver.com/p/\n",
    "# 접근법이 어렵다\n"
   ]
  },
  {
   "cell_type": "code",
   "execution_count": 2,
   "id": "dbb07fdb",
   "metadata": {},
   "outputs": [],
   "source": [
    "driver = wb.Chrome()\n",
    "driver.get('https://map.naver.com/p/')"
   ]
  },
  {
   "cell_type": "code",
   "execution_count": null,
   "id": "a3f7a34d",
   "metadata": {},
   "outputs": [],
   "source": [
    "# 검색창에 동명동 맛집\n",
    "# ID는 자바스크립에서 기능단위 실행시 고유값으로 사용 --> 고로 아이디가 계속 변경된다\n",
    "# 클래스는 여러개 태그에 값을 줄수있다 -> css에서 주로 클래스 사용함\n",
    "# 그래서 아이디가 아닌 클래스로 선택자를 해보자\n",
    "# #input_search1708564305717\n",
    "# #input_search1708564305717\n",
    "# 아이디값으로는 선택자 안됨--> 원인을 알기 어렵다\n",
    "\n",
    "# 검색창 태그의 아이디가 매번 변경된다\n",
    "# 아이디가 변하지 않는 선택자가 필요한다\n",
    "# 그것이 클래스값이다\n",
    "\n",
    "search = driver.find_element(By.CSS_SELECTOR,'.input_search')\n",
    "search.send_keys('동명동맛집')\n",
    "search.send_keys(Keys.ENTER)"
   ]
  },
  {
   "cell_type": "code",
   "execution_count": null,
   "id": "4e4e5cd9",
   "metadata": {},
   "outputs": [],
   "source": [
    "# 원본데이터에서 원하는 아이프레임데이터로 변경\n",
    "# req에서 아이프레임접근과는 다르다\n",
    "\n",
    "# 내가보는 url이 원본데이터\n",
    "# 아이프레임의 url은 다른 데이터->별도의 html태그\n",
    "driver.switch_to.frame('searchIframe')"
   ]
  },
  {
   "cell_type": "code",
   "execution_count": null,
   "id": "8720f1d0",
   "metadata": {},
   "outputs": [],
   "source": [
    "# 가게이름 클릭해서 디테일 정보를 확인하기\n",
    "# 접근이 불가능한 이유는 아이프레임속의 데이터이기때문\n",
    "#_pcmap_list_scroll_container > ul > li:nth-child(4) > div.CHC5F > a.tzwk0 > div > div\n",
    "title = driver.find_elements(By.CSS_SELECTOR,'#_pcmap_list_scroll_container > ul > li > div.CHC5F > a.tzwk0 > div > div')\n",
    "title"
   ]
  },
  {
   "cell_type": "code",
   "execution_count": null,
   "id": "74a79108",
   "metadata": {},
   "outputs": [],
   "source": [
    "# 첫번째 가게이름클릭->상세정보\n",
    "title[0].click()"
   ]
  },
  {
   "cell_type": "code",
   "execution_count": null,
   "id": "55e06352",
   "metadata": {},
   "outputs": [],
   "source": [
    "# 상세정보의 가게 명을 수집\n",
    "# 상세정보페이지도 아이프레임이므로 접근불가\n",
    "\n",
    "#_title > div > span.Fc1rA\n",
    "title_detail=driver.find_element(By.CSS_SELECTOR,'#_title > div > span.Fc1rA')\n",
    "title_detail.text"
   ]
  },
  {
   "cell_type": "code",
   "execution_count": null,
   "id": "f1d4a1d6",
   "metadata": {},
   "outputs": [],
   "source": [
    "# 대기업은 코드를 쪼개어 아이프레임 사용 \n",
    "# 비동기 방식을 하기위해서~\n",
    "# 네이버지도 네이버블로그 네이버페이 등등 너무 많다 --> 대기업싸이트\n",
    "# 너무 많아 과부하를 막기위해 아이프레임 많이 사용함."
   ]
  },
  {
   "cell_type": "code",
   "execution_count": null,
   "id": "ad9abe64",
   "metadata": {},
   "outputs": [],
   "source": [
    "# 상세 정보 프레임으로 변경\n",
    "# 아이프레임에서 다른 아이프레임으로 이동불가--> 서로모르는 사이이므로\n",
    "# 해결책은 -> 원본데이터로 이동후 다시 새로운 아이프레임으로 이동해야함\n",
    "driver.switch_to.default_content()  # 원본은 하나이므로 매개변수 없음\n",
    "driver.switch_to.frame('entryIframe') #아이프레임의 아이디\n",
    "# 프레임 to 프레임은 접근 불가\n",
    "# 부모원본으로 갔다가 다시 현재 프레임으로 간다"
   ]
  },
  {
   "cell_type": "code",
   "execution_count": null,
   "id": "4346867e",
   "metadata": {},
   "outputs": [],
   "source": [
    "# 아이프레임 독립적인 하나의 파일\n",
    "# 각각 주소가 다른 프레임 주소을 갖는다\n",
    "# 부모 자식 -->부모가 원본 1번프레임과 2번프레임은 자식\n",
    "# 근데 자식끼리는 연관 없음"
   ]
  },
  {
   "cell_type": "code",
   "execution_count": null,
   "id": "5c5ba4d2",
   "metadata": {},
   "outputs": [],
   "source": [
    "driver.switch_to.default_content()\n",
    "driver.switch_to.frame('searchIframe') # 아이프레임의 아이디\n",
    "title[1].click()"
   ]
  },
  {
   "cell_type": "code",
   "execution_count": null,
   "id": "07e9e6da",
   "metadata": {},
   "outputs": [],
   "source": []
  },
  {
   "cell_type": "code",
   "execution_count": null,
   "id": "850399a6",
   "metadata": {},
   "outputs": [],
   "source": []
  },
  {
   "cell_type": "code",
   "execution_count": null,
   "id": "4ab42d01",
   "metadata": {},
   "outputs": [],
   "source": []
  },
  {
   "cell_type": "code",
   "execution_count": null,
   "id": "d45c087a",
   "metadata": {},
   "outputs": [],
   "source": []
  },
  {
   "cell_type": "code",
   "execution_count": null,
   "id": "3c8b3beb",
   "metadata": {},
   "outputs": [],
   "source": []
  }
 ],
 "metadata": {
  "kernelspec": {
   "display_name": "Python 3 (ipykernel)",
   "language": "python",
   "name": "python3"
  },
  "language_info": {
   "codemirror_mode": {
    "name": "ipython",
    "version": 3
   },
   "file_extension": ".py",
   "mimetype": "text/x-python",
   "name": "python",
   "nbconvert_exporter": "python",
   "pygments_lexer": "ipython3",
   "version": "3.11.5"
  }
 },
 "nbformat": 4,
 "nbformat_minor": 5
}
