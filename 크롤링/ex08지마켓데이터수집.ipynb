{
 "cells": [
  {
   "cell_type": "code",
   "execution_count": 2,
   "id": "601318ea",
   "metadata": {},
   "outputs": [],
   "source": [
    "# 1.브라우저 역할을 하는 라이브러리 --> webdriver\n",
    "from selenium import webdriver as wb\n",
    "# 2. 컴용 키보드 라이브러리\n",
    "from selenium.webdriver.common.keys import Keys  #--> 대문자 주의\n",
    "#3.선택자를 구분지어 주는 라이브러리\n",
    "from selenium.webdriver.common.by import By   #--> 대문자 주의\n",
    "import pandas as pd\n",
    "import time"
   ]
  },
  {
   "cell_type": "code",
   "execution_count": null,
   "id": "6784220a",
   "metadata": {},
   "outputs": [],
   "source": [
    "# https://www.gmarket.co.kr/n/best"
   ]
  },
  {
   "cell_type": "code",
   "execution_count": 3,
   "id": "547ca495",
   "metadata": {},
   "outputs": [],
   "source": [
    "# 1.크롬실행 -> 지마켓이동\n",
    "driver = wb.Chrome()\n",
    "driver.get('https://www.gmarket.co.kr/n/best')"
   ]
  },
  {
   "cell_type": "code",
   "execution_count": 5,
   "id": "9ac66863",
   "metadata": {},
   "outputs": [],
   "source": [
    "# 2.첫번째 상품 수집하기\n",
    "# 상품을 클릭해서 상세페이지 이동\n",
    "#gBestWrap > div.best-list > ul > li:nth-child(1) > div.thumb > a > img\n",
    "\n",
    "# img는 리스트 이므로 인덱스로 접근해서 클릭\n",
    "# 인덱스 번호만 바뀌면 다른 상품과 가격을 수집한다\n",
    "img = driver.find_elements(By.CSS_SELECTOR,'#gBestWrap > div.best-list > ul > li > div.thumb > a > img')\n",
    "img[0].click()"
   ]
  },
  {
   "cell_type": "code",
   "execution_count": 9,
   "id": "d0ed773d",
   "metadata": {},
   "outputs": [
    {
     "data": {
      "text/plain": [
       "'(15%+5%쿠폰) 시크릿무드 역마진 단하루/ 겨울마감+봄맞이 BEST신상 데일리룩 가디건/니트/자켓/팬츠/스커트'"
      ]
     },
     "execution_count": 9,
     "metadata": {},
     "output_type": "execute_result"
    }
   ],
   "source": [
    "# 상품명 수집\n",
    "#itemcase_basic > div.box__item-title > h1\n",
    "# 단수개\n",
    "title = driver.find_element(By.CSS_SELECTOR,'#itemcase_basic > div.box__item-title > h1')\n",
    "title.text"
   ]
  },
  {
   "cell_type": "code",
   "execution_count": 8,
   "id": "318cec39",
   "metadata": {},
   "outputs": [
    {
     "data": {
      "text/plain": [
       "'8,000원'"
      ]
     },
     "execution_count": 8,
     "metadata": {},
     "output_type": "execute_result"
    }
   ],
   "source": [
    "# 쿠폰 적용가 수집\n",
    "#itemcase_basic > div.box__item-title > div.price > span.price_innerwrap.price_innerwrap-coupon > strong\n",
    "# 단수개\n",
    "price = driver.find_element(By.CSS_SELECTOR,'#itemcase_basic > div.box__item-title > div.price > span.price_innerwrap.price_innerwrap-coupon > strong')\n",
    "price.text"
   ]
  },
  {
   "cell_type": "code",
   "execution_count": 10,
   "id": "4bbcde36",
   "metadata": {},
   "outputs": [],
   "source": [
    "#뒤로가기\n",
    "driver.back()"
   ]
  },
  {
   "cell_type": "code",
   "execution_count": null,
   "id": "79dfd8f6",
   "metadata": {},
   "outputs": [],
   "source": [
    "# 반복문으로 20개 상품 수집하기\n",
    "# 요청과 응답사이 시간여유을 주자\n",
    "# 클라인언트가 서베에게 요청할때 필요 \n",
    "# 여기서는 서버에게 영향을 주는 요청은 이미지 보여주는 요청과 뒤로가기 요청\n",
    "# 텍스트는 나만의 페이지에서 수집하는 것이므로 굳이 필요없다\n",
    "# 즉 서버에게 요청을 하는 것이 아닌 나만의 페이지에서 상품명이나 가격을 수집하는 것이가\n",
    "# 화면의 텍스트를 변경하면 변경되지만 새로고침 하면 다시 원래대로 돌아온다\n",
    "# 화면의 텍스트를 변경- 현재페이지에서 나만의 페이지를 변경하는 것이므로 서버에게 요청이 아니다\n",
    "# 새로고침은 서버에게 요청하는 것이다 비동기나 동기 방식으로 통신을 요청하는 것이다\n",
    "\n",
    "\n",
    "\n",
    "\n",
    "\n",
    "    "
   ]
  },
  {
   "cell_type": "markdown",
   "id": "6df0f118",
   "metadata": {},
   "source": [
    "# 파이썬에서 반복문(for)의 진행상황을 체크하는 라이브러리\n",
    "- from tpdm.notebook import tqdm\n",
    "- while문은 아니다 "
   ]
  },
  {
   "cell_type": "code",
   "execution_count": 12,
   "id": "0bbeeead",
   "metadata": {},
   "outputs": [],
   "source": [
    "from tqdm.notebook import tqdm"
   ]
  },
  {
   "cell_type": "code",
   "execution_count": null,
   "id": "5d82712f",
   "metadata": {},
   "outputs": [],
   "source": [
    "# 리스트에 저장해야 휘발성이 없는 코드이다\n",
    "title_list = []\n",
    "price_list = []\n",
    "\n",
    "for i in tqdm(range(20)):\n",
    "    img = driver.find_elements(By.CSS_SELECTOR,\"#gBestWrap > div.best-list > ul > li > div.thumb > a > img\")\n",
    "    img[i].click()\n",
    "    time.sleep(1)\n",
    "    # 데이터수집\n",
    "    title = driver.find_element(By.CSS_SELECTOR,\"#itemcase_basic > div.box__item-title > h1\")\n",
    "# 쿠폰가 없는 경우가 있으므로 예외대상 코드    \n",
    "    try:\n",
    "        price = driver.find_element(By.CSS_SELECTOR,\"#itemcase_basic > div.box__item-title > div.price > span.price_innerwrap.price_innerwrap-coupon > strong\")  \n",
    "#일반가격을 예외로 처리 ->에러가 났을때 실행할 코드 작성->에러발생시 빈칸을 두면 안되므로 일반가격을 price에 넣는다. 그래야 나중에 표도 만들고 디비도 가능하다 \n",
    "    except:  \n",
    "        price = driver.find_element(By.CSS_SELECTOR,'#itemcase_basic > div.box__item-title > div.price > span:nth-child(2) > strong')  \n",
    "        \n",
    "        \n",
    "    # 데이터 저장\n",
    "    title_list.append(title.text)\n",
    "    price_list.append(price.text)\n",
    "    driver.back()\n",
    "    time.sleep(1)"
   ]
  },
  {
   "cell_type": "code",
   "execution_count": null,
   "id": "5c53ccae",
   "metadata": {},
   "outputs": [],
   "source": []
  },
  {
   "cell_type": "code",
   "execution_count": null,
   "id": "4981d10a",
   "metadata": {},
   "outputs": [],
   "source": []
  },
  {
   "cell_type": "code",
   "execution_count": null,
   "id": "8d8830ec",
   "metadata": {},
   "outputs": [],
   "source": []
  },
  {
   "cell_type": "code",
   "execution_count": null,
   "id": "9ef487d1",
   "metadata": {},
   "outputs": [],
   "source": []
  },
  {
   "cell_type": "code",
   "execution_count": null,
   "id": "94a1ce94",
   "metadata": {},
   "outputs": [],
   "source": []
  },
  {
   "cell_type": "code",
   "execution_count": null,
   "id": "b66903bd",
   "metadata": {},
   "outputs": [],
   "source": [
    "# 데이터 프레임"
   ]
  },
  {
   "cell_type": "code",
   "execution_count": null,
   "id": "9ec62247",
   "metadata": {},
   "outputs": [],
   "source": [
    "# csv파일 만들기"
   ]
  },
  {
   "cell_type": "code",
   "execution_count": null,
   "id": "50d193a7",
   "metadata": {},
   "outputs": [],
   "source": []
  }
 ],
 "metadata": {
  "kernelspec": {
   "display_name": "Python 3 (ipykernel)",
   "language": "python",
   "name": "python3"
  },
  "language_info": {
   "codemirror_mode": {
    "name": "ipython",
    "version": 3
   },
   "file_extension": ".py",
   "mimetype": "text/x-python",
   "name": "python",
   "nbconvert_exporter": "python",
   "pygments_lexer": "ipython3",
   "version": "3.11.5"
  }
 },
 "nbformat": 4,
 "nbformat_minor": 5
}
