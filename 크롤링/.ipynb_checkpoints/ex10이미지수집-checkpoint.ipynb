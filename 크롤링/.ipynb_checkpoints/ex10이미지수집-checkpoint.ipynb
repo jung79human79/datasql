{
 "cells": [
  {
   "cell_type": "code",
   "execution_count": 5,
   "id": "1ed929e4",
   "metadata": {},
   "outputs": [],
   "source": [
    "# 1.브라우저 역할을 하는 라이브러리 --> webdriver\n",
    "from selenium import webdriver as wb\n",
    "# 2. 컴용 키보드 라이브러리\n",
    "from selenium.webdriver.common.keys import Keys  #--> 대문자 주의\n",
    "#3.선택자를 구분지어 주는 라이브러리\n",
    "from selenium.webdriver.common.by import By   #--> 대문자 주의\n",
    "import pandas as pd\n",
    "import time\n"
   ]
  },
  {
   "cell_type": "code",
   "execution_count": null,
   "id": "af878d06",
   "metadata": {},
   "outputs": [],
   "source": [
    "# 딥러닝이나 인공지능분야"
   ]
  },
  {
   "cell_type": "code",
   "execution_count": 1,
   "id": "77bd072f",
   "metadata": {},
   "outputs": [],
   "source": [
    "# 파일시스템을 위한 라이브러리 (파일,폴더를 삭제,생성하는 라이브러리)\n",
    "import os\n",
    "# 이미지의 url을 실제 파일로 변환하는 라이브러리\n",
    "from urllib.request import urlretrieve"
   ]
  },
  {
   "cell_type": "code",
   "execution_count": 3,
   "id": "7ba99aa4",
   "metadata": {},
   "outputs": [],
   "source": [
    "# 파이썬 코드로 폴더 만들기\n",
    "# 컴에게 바탕화면에 이미지라는 폴더가 없다면 바탕화면에 이미지폴더를 만들어라.\n",
    "# dir() --> 디렉토리\n",
    "# C:\\Users\\SMHRD\\Desktop --> 슬래시로 기호변경\n",
    "\n",
    "if not os.path.isdir('C:/Users/SMHRD/Desktop/이미지') :\n",
    "    os.mkdir('C:/Users/SMHRD/Desktop/이미지')"
   ]
  },
  {
   "cell_type": "code",
   "execution_count": 6,
   "id": "31b05939",
   "metadata": {},
   "outputs": [],
   "source": [
    "driver = wb.Chrome()\n",
    "driver.get('https://search.naver.com/search.naver?ssc=tab.image.all&where=image&sm=tab_jum&query=%EA%B3%A0%EC%96%91%EC%9D%B4')"
   ]
  },
  {
   "cell_type": "code",
   "execution_count": null,
   "id": "1f9564c5",
   "metadata": {},
   "outputs": [],
   "source": [
    "# 열린태그=이미지태그 ==>컨텐츠가 없다=요소안에 글자가 없다\n",
    "\n",
    "#main_pack > section.sc_new.sp_nimage._fe_image_viewer_prepend_target > div.api_subject_bx._fe_image_tab_list_root.ani_fadein > div > div > div.image_tile._fe_image_tab_grid > div:nth-child(3) > div > div > div > img\n",
    "img=driver.find_elements(By.CSS_SELECTOR,'#main_pack > section.sc_new.sp_nimage._fe_image_viewer_prepend_target > div.api_subject_bx._fe_image_tab_list_root.ani_fadein > div > div > div.image_tile._fe_image_tab_grid > div > div > div > div > img')\n",
    "img \n",
    "# 리스트 형식"
   ]
  },
  {
   "cell_type": "code",
   "execution_count": null,
   "id": "63bf6659",
   "metadata": {},
   "outputs": [],
   "source": [
    "# 이미지 태그의 속성중 src를 가져와라\n",
    "# get_attribute()--> 내가원하는 속성을  --? 이미지의 태그의 src / a택의 href\n",
    "img[0].get_attribute('src')"
   ]
  },
  {
   "cell_type": "code",
   "execution_count": null,
   "id": "f4c22eae",
   "metadata": {},
   "outputs": [],
   "source": [
    "img_list=[]\n",
    "for i range(len(img))\n",
    "    img_list.append(img[i].get_attribute('src'))\n",
    "img_list"
   ]
  },
  {
   "cell_type": "code",
   "execution_count": null,
   "id": "2a55d45a",
   "metadata": {},
   "outputs": [],
   "source": [
    "# url 을 파이로 변환\n",
    "# 서버와는 별개이므로 타임슬립 필요없음\n",
    "# i가 숫자이므로 문자열로 변환\n",
    "# +str(i)+  --> 파일이름을 지정하는 것\n",
    "\n",
    "for i in range(len(img_list)) :\n",
    "    \n",
    "    urlretrieve(img_list[i],\"C:/Users/SMHRD/Desktop/이미지/\"+str(i)+\".jpg\")"
   ]
  },
  {
   "cell_type": "code",
   "execution_count": null,
   "id": "f82da9b8",
   "metadata": {},
   "outputs": [],
   "source": [
    "# 글자는 1byte\n",
    "# 이미지는 1000byte ? 대용량 --> 첫화면에서 대용량의 이미지 파일을 전부 가져올수는 없다\n",
    "# 약 20개정도 가져온다\n",
    "# 스크롤 다 내린 후 다시 실행하면 더 많은 이미지를 받아올수 있다\n",
    "\n",
    "# 비동기방식인 스크롤 내리기로 페이지에 많은 이미지를 확보한 후 코드를 다시 실행하면 \n",
    "# 더 많은 이미지를 폴더에 가져올수 있다\n",
    "# 스크롤 내리는 행위가 바로 요청한다 --> 자바스크립 --> 비동기 방식\n",
    "# 스크롤 다 내리면 --> 비동기 통신\n",
    "# 서브릿은 동기 통신"
   ]
  },
  {
   "cell_type": "code",
   "execution_count": null,
   "id": "b4cb70ec",
   "metadata": {},
   "outputs": [],
   "source": []
  },
  {
   "cell_type": "code",
   "execution_count": null,
   "id": "03a25395",
   "metadata": {},
   "outputs": [],
   "source": []
  },
  {
   "cell_type": "code",
   "execution_count": null,
   "id": "010d85ca",
   "metadata": {},
   "outputs": [],
   "source": []
  },
  {
   "cell_type": "code",
   "execution_count": null,
   "id": "91ae386a",
   "metadata": {},
   "outputs": [],
   "source": []
  }
 ],
 "metadata": {
  "kernelspec": {
   "display_name": "Python 3 (ipykernel)",
   "language": "python",
   "name": "python3"
  },
  "language_info": {
   "codemirror_mode": {
    "name": "ipython",
    "version": 3
   },
   "file_extension": ".py",
   "mimetype": "text/x-python",
   "name": "python",
   "nbconvert_exporter": "python",
   "pygments_lexer": "ipython3",
   "version": "3.11.5"
  }
 },
 "nbformat": 4,
 "nbformat_minor": 5
}
