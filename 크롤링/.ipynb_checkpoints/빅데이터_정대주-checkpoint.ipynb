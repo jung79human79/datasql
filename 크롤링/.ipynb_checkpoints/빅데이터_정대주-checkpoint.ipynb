{
 "cells": [
  {
   "cell_type": "markdown",
   "id": "f49fe2e4",
   "metadata": {},
   "source": [
    "# 필기답안지"
   ]
  },
  {
   "cell_type": "markdown",
   "id": "74e88e62",
   "metadata": {},
   "source": [
    "## 문제1 \n",
    "다음은 빅데이터 수집방식에 대한 설명이다. 빈 칸에 알맞은 방식을 고르시오."
   ]
  },
  {
   "cell_type": "markdown",
   "id": "29baa41a",
   "metadata": {},
   "source": [
    "- 1 : a\n",
    "- 2 : f\n",
    "- 3 : c\n",
    "- 4 : h"
   ]
  },
  {
   "cell_type": "markdown",
   "id": "098be8fb",
   "metadata": {},
   "source": [
    "## 문제2\n",
    "크롤링의 개념과 필요성에 대해 서술하시오.\n",
    "- 답안 : \n",
    "    - 개념 : 크롤링은 웹상에 존재하는 정보를 수집하는 프로세스를 의미합니다\n",
    "    - 필요성 : 데이터 수집과 분석 ,통계 및 예측 모델 구축 ,연구 및 학문적 용도 ,경쟁 정보 및 시장 분석"
   ]
  },
  {
   "cell_type": "markdown",
   "id": "29e08d76",
   "metadata": {},
   "source": [
    "## 문제3\n",
    "BeautifulSoup모듈에 대해 서술하시오.\n",
    "- 답안 : request라이브러리의 get함수로 받아온 텍스트 데이터를 컴퓨터가 이해 할수 있게 html로 변환 시켜주는 라이브러리"
   ]
  },
  {
   "cell_type": "markdown",
   "id": "04c5d7be",
   "metadata": {},
   "source": [
    "## 문제4\n",
    "다음 두 보기의 차이를 설명하시오.\n",
    "- 1 : find_element(By.CSS_SELECTOR) : 브라우저에서 요소(태그)의 선택자를 찾는데 해당 선택자의 단수개만(복수개인 경우 맨 처음) 찾는 함수\n",
    "- 2 : find_elements(By.CSS_SELECTOR) : 브라우저에서 요소(태그)의 선택자를 찾는데 해당 선택자의 복수개를 찾는 함수(즉 전체수집)"
   ]
  },
  {
   "cell_type": "markdown",
   "id": "f82501f0",
   "metadata": {},
   "source": [
    "## 문제5\n",
    "다음은 HTML코드로 이루어진 웹 페이지이다. 밑줄 그어진 부분 BeautifulSoup 모듈의 함수를 이용하여 텍스트만 수집할 수 있는 코드에 빈칸을 작성하시오.\n",
    "- soup = bs(res.text, ‘lxml’)\n",
    "- crawling = soup.select_one(\"this_span\")\n",
    "- print(crawling.(text))"
   ]
  },
  {
   "cell_type": "markdown",
   "id": "de85ce27",
   "metadata": {},
   "source": [
    "# 실기답안지"
   ]
  },
  {
   "cell_type": "markdown",
   "id": "b2e6a5d6",
   "metadata": {},
   "source": [
    "## 문제2\n",
    "자동제어를 통해 네이버 홈페이지에 접속하고 ‘크롤링’를 입력하여 검색하는      시스템을 구축하시오."
   ]
  },
  {
   "cell_type": "code",
   "execution_count": 1,
   "id": "089585ef",
   "metadata": {},
   "outputs": [],
   "source": [
    "from selenium import webdriver as wb\n",
    "from selenium.webdriver.common.keys import Keys\n",
    "from selenium.webdriver.common.by import By\n",
    "from tqdm.notebook import tqdm\n",
    "import pandas as pd\n",
    "import time"
   ]
  },
  {
   "cell_type": "code",
   "execution_count": null,
   "id": "88f056a8",
   "metadata": {},
   "outputs": [],
   "source": [
    "driver = wb.Chrome()\n",
    "driver.get('https://www.naver.com/')\n",
    "search=driver.find_element(By.ID,'query')\n",
    "search.send_keys('크롤링')\n",
    "search.send_keys(Keys.ENTER)"
   ]
  },
  {
   "cell_type": "markdown",
   "id": "dd7ec12a",
   "metadata": {},
   "source": [
    "# 문제3\n",
    "자동제어를 통해 G마켓 홈페이지에 접속하고, 조건에 맞는 수집프로그램을 만드시오."
   ]
  },
  {
   "cell_type": "code",
   "execution_count": 3,
   "id": "f8cbe3be",
   "metadata": {},
   "outputs": [
    {
     "data": {
      "application/vnd.jupyter.widget-view+json": {
       "model_id": "6c14c145c07b4bdb9ebb3da0cf17fd53",
       "version_major": 2,
       "version_minor": 0
      },
      "text/plain": [
       "  0%|          | 0/20 [00:00<?, ?it/s]"
      ]
     },
     "metadata": {},
     "output_type": "display_data"
    },
    {
     "data": {
      "text/html": [
       "<div>\n",
       "<style scoped>\n",
       "    .dataframe tbody tr th:only-of-type {\n",
       "        vertical-align: middle;\n",
       "    }\n",
       "\n",
       "    .dataframe tbody tr th {\n",
       "        vertical-align: top;\n",
       "    }\n",
       "\n",
       "    .dataframe thead th {\n",
       "        text-align: right;\n",
       "    }\n",
       "</style>\n",
       "<table border=\"1\" class=\"dataframe\">\n",
       "  <thead>\n",
       "    <tr style=\"text-align: right;\">\n",
       "      <th></th>\n",
       "      <th>상품명</th>\n",
       "      <th>상품가격</th>\n",
       "    </tr>\n",
       "    <tr>\n",
       "      <th>인기상품순위</th>\n",
       "      <th></th>\n",
       "      <th></th>\n",
       "    </tr>\n",
       "  </thead>\n",
       "  <tbody>\n",
       "    <tr>\n",
       "      <th>20</th>\n",
       "      <td>수퍼맘스토리카페/총 120종의 대작/보카사이언스/Visual Literacy/Tal...</td>\n",
       "      <td>178,800원</td>\n",
       "    </tr>\n",
       "  </tbody>\n",
       "</table>\n",
       "</div>"
      ],
      "text/plain": [
       "                                                      상품명      상품가격\n",
       "인기상품순위                                                             \n",
       "20      수퍼맘스토리카페/총 120종의 대작/보카사이언스/Visual Literacy/Tal...  178,800원"
      ]
     },
     "execution_count": 3,
     "metadata": {},
     "output_type": "execute_result"
    }
   ],
   "source": [
    "\n",
    "driver = wb.Chrome()\n",
    "driver.get('http://corners.gmarket.co.kr/Bestsellers')\n",
    "img = driver.find_elements(By.CSS_SELECTOR,'#gBestWrap > div.best-list > ul > li > div.thumb > a > img')\n",
    "\n",
    "#데이터 저장하는 리스트 변수 생성\n",
    "\n",
    "\n",
    "# 반복문으로 이미지 태그만 가져온 후 한개씩 클릭하기\n",
    "rank_list = []\n",
    "title_list = []\n",
    "price_list = []\n",
    "\n",
    "for i in tqdm(range(20)):\n",
    "    img = driver.find_elements(By.CSS_SELECTOR,\"#gBestWrap > div.best-list > ul > li > div.thumb > a > img\")\n",
    "    img[i].click()\n",
    "    time.sleep(1)\n",
    "    \n",
    "\n",
    "    \n",
    "    # 데이터수집\n",
    "    title = driver.find_element(By.CSS_SELECTOR,\"#itemcase_basic > div.box__item-title > h1\") \n",
    "    # 일반가격이 혹시 없는 경우가 있으므로 예외대상 코드\n",
    "    try:\n",
    "        price = driver.find_element(By.CSS_SELECTOR,'#itemcase_basic > div.box__item-title > div.price > span:nth-child(2) > strong')\n",
    "    # 에러가 났을때 실행할 코드 작성 --> 쿠폰가격으로 대체\n",
    "    except:\n",
    "        price = driver.find_element(By.CSS_SELECTOR,\"#itemcase_basic > div.box__item-title > div.price > span.price_innerwrap.price_innerwrap-coupon > strong\")\n",
    "    \n",
    "\n",
    "\n",
    "    # 데이터 저장\n",
    "    rank_list.append(i+1)\n",
    "    title_list.append(title.text)\n",
    "    price_list.append(price.text)\n",
    "    \n",
    "    #뒤로가기\n",
    "    driver.back()\n",
    "    time.sleep(1)\n",
    "    \n",
    "#데이터프레임생성   \n",
    "dic = {'상품명':title_list,'상품가격':price_list,'인기상품순위':rank_list}\n",
    "gmarket = pd.DataFrame(dic)\n",
    "gmarket.set_index('인기상품순위',inplace=True)\n",
    "gmarket\n"
   ]
  },
  {
   "cell_type": "markdown",
   "id": "5fb5a240",
   "metadata": {},
   "source": [
    "# 문제4\n",
    "멜론차트에서 1~100위까지 정보를 수집하는 프로그램을 작성하시오."
   ]
  },
  {
   "cell_type": "code",
   "execution_count": null,
   "id": "59a23936",
   "metadata": {},
   "outputs": [],
   "source": [
    "import requests as req\n",
    "from bs4 import BeautifulSoup as bs"
   ]
  },
  {
   "cell_type": "code",
   "execution_count": null,
   "id": "f2be8862",
   "metadata": {},
   "outputs": [],
   "source": [
    "head = {'User-Agent':'Mozilla/5.0 (Windows NT 10.0; Win64; x64) AppleWebKit/537.36 (KHTML, like Gecko) Chrome/121.0.0.0 Safari/537.36'}\n",
    "res=req.get(' https://www.melon.com/chart/',headers=head)\n",
    "res.text\n",
    "bs(res.text,\"lxml\")\n",
    "soup = bs(res.text,\"lxml\")\n",
    "\n",
    "# 데이터 수집\n",
    "title = soup.select(\"div.ellipsis.rank01>span>a\")\n",
    "singer = soup.select(\"div.ellipsis.rank02>span.checkEllipsis\")\n",
    "\n",
    "# 데이터 저장\n",
    "ranklist = []\n",
    "title_list = []\n",
    "singer_list = []\n",
    "for i in range (len(title)):\n",
    "    title_list.append(title[i].text)\n",
    "    singer_list.append(singer[i].text) \n",
    "    ranklist.append(i+1)\n",
    "\n",
    "#데이터프레임생성\n",
    "dic = {'가수명':singer_list,'곡명':title_list,'순위':ranklist}\n",
    "melone = pd.DataFrame(dic)\n",
    "melone.set_index('순위',inplace=True)\n",
    "\n",
    "# csv파일저장\n",
    "melone.to_csv('멜론챠트.csv',encoding='euc-kr')\n",
    "melone"
   ]
  },
  {
   "cell_type": "markdown",
   "id": "9c9091fc",
   "metadata": {},
   "source": [
    "# 문제5\n",
    "자동제어를 통해 한솥 페이지에 접속하고 전체 메뉴의 메뉴명 가격정보를 수집할 수 있는 프로그램을 작성하세요 "
   ]
  },
  {
   "cell_type": "code",
   "execution_count": null,
   "id": "a7ee4451",
   "metadata": {},
   "outputs": [],
   "source": [
    "driver = wb.Chrome()\n",
    "driver.get('https://www.hsd.co.kr/menu/menu_list')\n",
    "\n",
    "# 더 보기 버튼 끝까지\n",
    "try :\n",
    "    for i in tqdm (range(50)):\n",
    "        btn_more = driver.find_element(By.CSS_SELECTOR,'#btn_more > span > a')\n",
    "        btn_more.click()\n",
    "        time.sleep(1)\n",
    "    \n",
    "except:\n",
    "    print('더보기왼료')\n",
    "\n",
    "# 데이터 수집\n",
    "title=driver.find_elements(By.CSS_SELECTOR,'div > div.item-text > h4')\n",
    "price=driver.find_elements(By.CSS_SELECTOR,'div > div.item-text > div > strong')\n",
    "\n",
    "#데이터 저장\n",
    "product_list = []\n",
    "title_list = []\n",
    "price_list = []\n",
    "for i in tqdm (range(len(title))):\n",
    "    title_list.append(title[i].text)\n",
    "    price_list.append(price[i].text) \n",
    "    product_list.append(i+1)    \n",
    "\n",
    "#데이터프레임생성\n",
    "dic = {'메뉴명':title_list,'가격정보':price_list,'상품리스트':product_list}\n",
    "menu = pd.DataFrame(dic)\n",
    "menu.set_index('상품리스트',inplace=True)\n",
    "\n",
    "# csv파일저장\n",
    "menu.to_csv('한솥메뉴.csv',encoding='euc-kr')\n",
    "menu\n"
   ]
  }
 ],
 "metadata": {
  "kernelspec": {
   "display_name": "Python 3 (ipykernel)",
   "language": "python",
   "name": "python3"
  },
  "language_info": {
   "codemirror_mode": {
    "name": "ipython",
    "version": 3
   },
   "file_extension": ".py",
   "mimetype": "text/x-python",
   "name": "python",
   "nbconvert_exporter": "python",
   "pygments_lexer": "ipython3",
   "version": "3.11.5"
  }
 },
 "nbformat": 4,
 "nbformat_minor": 5
}
