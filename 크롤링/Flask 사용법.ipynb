{
 "cells": [
  {
   "cell_type": "markdown",
   "id": "625d82a3",
   "metadata": {},
   "source": [
    "### 1. flask 사용하기"
   ]
  },
  {
   "cell_type": "markdown",
   "id": "a6f62c65",
   "metadata": {},
   "source": [
    "### 1.1필용한 라이브러리 설치"
   ]
  },
  {
   "cell_type": "code",
   "execution_count": null,
   "id": "b607ec01",
   "metadata": {},
   "outputs": [],
   "source": [
    "!pip install flask\n",
    "!pip install flask_cors"
   ]
  },
  {
   "cell_type": "markdown",
   "id": "bf8bc3a4",
   "metadata": {},
   "source": [
    "### 1.2 라이브러리 import"
   ]
  },
  {
   "cell_type": "code",
   "execution_count": 1,
   "id": "f1881e7b",
   "metadata": {},
   "outputs": [],
   "source": [
    "# Flask > 서버를 생성해줄 도구\n",
    "# request> 요청에 대한 정보를 가지고 있는\n",
    "# MAKE_RESPONSE > 응답 객체를 만들어줄때 사용하는 함수\n",
    "# redirect > 이동해야 하는 페이지가 있을때 사용\n",
    "from flask import Flask, request\n",
    "#  CORS > 동일 출처정잭을 잡아주는 객체 \n",
    "from flask_cors import CORS"
   ]
  },
  {
   "cell_type": "markdown",
   "id": "02c84eb3",
   "metadata": {},
   "source": [
    "### 1.3 Flask 서버 열어주기"
   ]
  },
  {
   "cell_type": "code",
   "execution_count": 29,
   "id": "a5b42e39",
   "metadata": {},
   "outputs": [
    {
     "name": "stdout",
     "output_type": "stream",
     "text": [
      " * Serving Flask app '__main__'\n",
      " * Debug mode: off\n"
     ]
    },
    {
     "name": "stderr",
     "output_type": "stream",
     "text": [
      "WARNING: This is a development server. Do not use it in a production deployment. Use a production WSGI server instead.\n",
      " * Running on http://127.0.0.1:9000\n",
      "Press CTRL+C to quit\n",
      "127.0.0.1 - - [13/Mar/2024 16:56:58] \"GET /?name=뉴진스 HTTP/1.1\" 200 -\n",
      "[2024-03-13 17:07:50,005] ERROR in app: Exception on / [GET]\n",
      "Traceback (most recent call last):\n",
      "  File \"C:\\Users\\SMHRD\\anaconda3\\Lib\\site-packages\\flask\\app.py\", line 2525, in wsgi_app\n",
      "    response = self.full_dispatch_request()\n",
      "               ^^^^^^^^^^^^^^^^^^^^^^^^^^^^\n",
      "  File \"C:\\Users\\SMHRD\\anaconda3\\Lib\\site-packages\\flask\\app.py\", line 1822, in full_dispatch_request\n",
      "    rv = self.handle_user_exception(e)\n",
      "         ^^^^^^^^^^^^^^^^^^^^^^^^^^^^^\n",
      "  File \"C:\\Users\\SMHRD\\anaconda3\\Lib\\site-packages\\flask_cors\\extension.py\", line 176, in wrapped_function\n",
      "    return cors_after_request(app.make_response(f(*args, **kwargs)))\n",
      "                                                ^^^^^^^^^^^^^^^^^^\n",
      "  File \"C:\\Users\\SMHRD\\anaconda3\\Lib\\site-packages\\flask\\app.py\", line 1820, in full_dispatch_request\n",
      "    rv = self.dispatch_request()\n",
      "         ^^^^^^^^^^^^^^^^^^^^^^^\n",
      "  File \"C:\\Users\\SMHRD\\anaconda3\\Lib\\site-packages\\flask\\app.py\", line 1796, in dispatch_request\n",
      "    return self.ensure_sync(self.view_functions[rule.endpoint])(**view_args)\n",
      "           ^^^^^^^^^^^^^^^^^^^^^^^^^^^^^^^^^^^^^^^^^^^^^^^^^^^^^^^^^^^^^^^^^\n",
      "  File \"C:\\Users\\SMHRD\\AppData\\Local\\Temp\\ipykernel_5360\\64423141.py\", line 15, in test\n",
      "    result = img_crawling(name)\n",
      "             ^^^^^^^^^^^^^^^^^^\n",
      "  File \"C:\\Users\\SMHRD\\AppData\\Local\\Temp\\ipykernel_5360\\980258843.py\", line 19, in img_crawling\n",
      "    return img[0].get_attribute('src')\n",
      "           ~~~^^^\n",
      "IndexError: list index out of range\n",
      "127.0.0.1 - - [13/Mar/2024 17:07:50] \"GET /?name=수업용지도 HTTP/1.1\" 500 -\n",
      "[2024-03-13 17:07:55,812] ERROR in app: Exception on / [GET]\n",
      "Traceback (most recent call last):\n",
      "  File \"C:\\Users\\SMHRD\\anaconda3\\Lib\\site-packages\\flask\\app.py\", line 2525, in wsgi_app\n",
      "    response = self.full_dispatch_request()\n",
      "               ^^^^^^^^^^^^^^^^^^^^^^^^^^^^\n",
      "  File \"C:\\Users\\SMHRD\\anaconda3\\Lib\\site-packages\\flask\\app.py\", line 1822, in full_dispatch_request\n",
      "    rv = self.handle_user_exception(e)\n",
      "         ^^^^^^^^^^^^^^^^^^^^^^^^^^^^^\n",
      "  File \"C:\\Users\\SMHRD\\anaconda3\\Lib\\site-packages\\flask_cors\\extension.py\", line 176, in wrapped_function\n",
      "    return cors_after_request(app.make_response(f(*args, **kwargs)))\n",
      "                                                ^^^^^^^^^^^^^^^^^^\n",
      "  File \"C:\\Users\\SMHRD\\anaconda3\\Lib\\site-packages\\flask\\app.py\", line 1820, in full_dispatch_request\n",
      "    rv = self.dispatch_request()\n",
      "         ^^^^^^^^^^^^^^^^^^^^^^^\n",
      "  File \"C:\\Users\\SMHRD\\anaconda3\\Lib\\site-packages\\flask\\app.py\", line 1796, in dispatch_request\n",
      "    return self.ensure_sync(self.view_functions[rule.endpoint])(**view_args)\n",
      "           ^^^^^^^^^^^^^^^^^^^^^^^^^^^^^^^^^^^^^^^^^^^^^^^^^^^^^^^^^^^^^^^^^\n",
      "  File \"C:\\Users\\SMHRD\\AppData\\Local\\Temp\\ipykernel_5360\\64423141.py\", line 15, in test\n",
      "    result = img_crawling(name)\n",
      "             ^^^^^^^^^^^^^^^^^^\n",
      "  File \"C:\\Users\\SMHRD\\AppData\\Local\\Temp\\ipykernel_5360\\980258843.py\", line 19, in img_crawling\n",
      "    return img[0].get_attribute('src')\n",
      "           ~~~^^^\n",
      "IndexError: list index out of range\n",
      "127.0.0.1 - - [13/Mar/2024 17:07:55] \"GET /?name=수업용지도 HTTP/1.1\" 500 -\n",
      "127.0.0.1 - - [13/Mar/2024 17:08:13] \"GET /?name=정재은 HTTP/1.1\" 200 -\n",
      "127.0.0.1 - - [13/Mar/2024 17:08:44] \"GET /?name=정재은 HTTP/1.1\" 200 -\n",
      "127.0.0.1 - - [13/Mar/2024 17:09:02] \"GET /?name=아이유 HTTP/1.1\" 200 -\n",
      "127.0.0.1 - - [13/Mar/2024 17:11:46] \"GET /?name=아이유 HTTP/1.1\" 200 -\n",
      "127.0.0.1 - - [13/Mar/2024 17:17:43] \"GET /?name=아이유 HTTP/1.1\" 200 -\n"
     ]
    }
   ],
   "source": [
    "# Flask 객체(=서버를 구동할 객체)를 생성 -> 프로젝트 생성(이클립스에서 프로젝트생성)\n",
    "app = Flask(__name__) #생성자호출\n",
    "# CORS 허용\n",
    "CORS(app)\n",
    "# 라우터 생성\n",
    "@app.route('/',methods=['GET'])\n",
    "def test() :\n",
    "    # print('들어옴')\n",
    "    # 요청데이터 꺼내오기\n",
    "    # get방식일 때 데이터 꺼내오는 방법\n",
    "    name =request.args.get('name')\n",
    "    # post방식일 때 데이터 꺼내오는 방법\n",
    "    # request.form.get('name')\n",
    "    #print(name)\n",
    "    result = img_crawling(name)\n",
    "    \n",
    "    \n",
    "    \n",
    "    # 비동기 통신으로 요청이 들어왔을 때 돌려줄 데이터가 있다면\n",
    "    return result\n",
    "\n",
    "\n",
    "\n",
    "\n",
    "\n",
    "# app 설정 마무리\n",
    "if __name__ == \"__main__\" :\n",
    "    app.run(host='127.0.0.1',port='9000')\n",
    "    "
   ]
  },
  {
   "cell_type": "code",
   "execution_count": null,
   "id": "57cd13af",
   "metadata": {},
   "outputs": [],
   "source": []
  },
  {
   "cell_type": "code",
   "execution_count": null,
   "id": "523becdc",
   "metadata": {},
   "outputs": [],
   "source": []
  },
  {
   "cell_type": "code",
   "execution_count": null,
   "id": "46691e9b",
   "metadata": {},
   "outputs": [],
   "source": []
  },
  {
   "cell_type": "code",
   "execution_count": null,
   "id": "3b465671",
   "metadata": {},
   "outputs": [],
   "source": []
  },
  {
   "cell_type": "markdown",
   "id": "b3a45522",
   "metadata": {},
   "source": [
    "### 2. 크롤링 코드 작성하기"
   ]
  },
  {
   "cell_type": "markdown",
   "id": "2bfe5cfe",
   "metadata": {},
   "source": [
    "### 2.1 필요한 라이브러리 가져오기"
   ]
  },
  {
   "cell_type": "code",
   "execution_count": 13,
   "id": "53235c1d",
   "metadata": {},
   "outputs": [],
   "source": [
    "# 1.브라우저 역할을 하는 라이브러리 --> webdriver\n",
    "from selenium import webdriver as wb\n",
    "# 2. 컴용 키보드 라이브러리\n",
    "from selenium.webdriver.common.keys import Keys  #--> 대문자 주의\n",
    "#3.선택자를 구분지어 주는 라이브러리\n",
    "from selenium.webdriver.common.by import By   #--> 대문자 주의\n",
    "import pandas as pd\n",
    "import time"
   ]
  },
  {
   "cell_type": "code",
   "execution_count": 11,
   "id": "93841bc0",
   "metadata": {},
   "outputs": [],
   "source": [
    "# 파일시스템을 위한 라이브러리 (파일,폴더를 삭제,생성하는 라이브러리)\n",
    "import os\n",
    "# 이미지의 url을 실제 파일로 변환하는 라이브러리\n",
    "from urllib.request import urlretrieve"
   ]
  },
  {
   "cell_type": "markdown",
   "id": "8e33f778",
   "metadata": {},
   "source": [
    "### 2.2 코드 작성하기"
   ]
  },
  {
   "cell_type": "code",
   "execution_count": null,
   "id": "7c63f870",
   "metadata": {},
   "outputs": [],
   "source": [
    "# 네이버 페이지 -> 아이유 검색 -> enter -> 이미지탭 이동->이미지 한개만 가져오기"
   ]
  },
  {
   "cell_type": "code",
   "execution_count": 28,
   "id": "dbb7e480",
   "metadata": {},
   "outputs": [],
   "source": [
    "#  지금까지 작성한 코드를 하나의 함수로 만들기\n",
    "def img_crawling(name):\n",
    "    driver = wb.Chrome()\n",
    "    driver.get('https://www.naver.com/')\n",
    "\n",
    "    search = driver.find_element(By.ID,'query')\n",
    "    search.send_keys(name)\n",
    "    search.send_keys(Keys.ENTER)\n",
    "\n",
    "\n",
    "    tab = driver.find_element(By.CSS_SELECTOR,\"#lnb > div.lnb_group > div > div.lnb_nav_area._nav_area_root > div > div.api_flicking_wrap._conveyer_root > div:nth-child(1) > a\")\n",
    "    tab.click()\n",
    "\n",
    "    time.sleep(0.5)\n",
    "\n",
    "    img=driver.find_elements(By.CSS_SELECTOR,'#main_pack > section.sc_new.sp_nimage._fe_image_viewer_prepend_target > div.api_subject_bx._fe_image_tab_list_root.ani_fadein > div > div > div.image_tile._fe_image_tab_grid > div > div > div > div > img')\n",
    "\n",
    "\n",
    "    return img[0].get_attribute('src')\n",
    "\n",
    "    "
   ]
  },
  {
   "cell_type": "code",
   "execution_count": 27,
   "id": "961d7414",
   "metadata": {},
   "outputs": [
    {
     "data": {
      "text/plain": [
       "'https://search.pstatic.net/common/?src=http%3A%2F%2Fimgnews.naver.net%2Fimage%2F5496%2F2023%2F10%2F06%2F0000007374_001_20231006125202116.jpg&type=a340'"
      ]
     },
     "execution_count": 27,
     "metadata": {},
     "output_type": "execute_result"
    }
   ],
   "source": [
    "driver = wb.Chrome()\n",
    "driver.get('https://www.naver.com/')\n",
    "\n",
    "# 아이유 검색\n",
    "search = driver.find_element(By.ID,'query')\n",
    "search.send_keys('아이유')\n",
    "search.send_keys(Keys.ENTER)\n",
    "\n",
    "# 이미지탭이동\n",
    "# #lnb > div.lnb_group > div > div.lnb_nav_area._nav_area_root > div > div.api_flicking_wrap._conveyer_root > div:nth-child(1) > a\n",
    "\n",
    "tab = driver.find_element(By.CSS_SELECTOR,\"#lnb > div.lnb_group > div > div.lnb_nav_area._nav_area_root > div > div.api_flicking_wrap._conveyer_root > div:nth-child(1) > a\")\n",
    "tab.click()\n",
    "\n",
    "# 0.5 초 쉬기\n",
    "time.sleep(0.5)\n",
    "\n",
    "# 이미지들을 가져오기\n",
    "img=driver.find_elements(By.CSS_SELECTOR,'#main_pack > section.sc_new.sp_nimage._fe_image_viewer_prepend_target > div.api_subject_bx._fe_image_tab_list_root.ani_fadein > div > div > div.image_tile._fe_image_tab_grid > div > div > div > div > img')\n",
    "\n",
    "\n",
    "# 첫번째 이미지의 src만 가져오기\n",
    "img[0].get_attribute('src')\n",
    "\n",
    "\n"
   ]
  },
  {
   "cell_type": "code",
   "execution_count": null,
   "id": "4e733f1e",
   "metadata": {},
   "outputs": [],
   "source": []
  },
  {
   "cell_type": "code",
   "execution_count": null,
   "id": "527c4632",
   "metadata": {},
   "outputs": [],
   "source": []
  },
  {
   "cell_type": "code",
   "execution_count": null,
   "id": "eb2a240c",
   "metadata": {},
   "outputs": [],
   "source": []
  },
  {
   "cell_type": "code",
   "execution_count": null,
   "id": "7f04cfa9",
   "metadata": {},
   "outputs": [],
   "source": []
  },
  {
   "cell_type": "code",
   "execution_count": null,
   "id": "9e08e22f",
   "metadata": {},
   "outputs": [],
   "source": []
  },
  {
   "cell_type": "code",
   "execution_count": null,
   "id": "715a6d63",
   "metadata": {},
   "outputs": [],
   "source": []
  },
  {
   "cell_type": "code",
   "execution_count": null,
   "id": "cfe3608a",
   "metadata": {},
   "outputs": [],
   "source": []
  },
  {
   "cell_type": "code",
   "execution_count": null,
   "id": "cff24507",
   "metadata": {},
   "outputs": [],
   "source": []
  },
  {
   "cell_type": "code",
   "execution_count": null,
   "id": "806250ec",
   "metadata": {},
   "outputs": [],
   "source": []
  },
  {
   "cell_type": "code",
   "execution_count": null,
   "id": "6da69124",
   "metadata": {},
   "outputs": [],
   "source": []
  }
 ],
 "metadata": {
  "kernelspec": {
   "display_name": "Python 3 (ipykernel)",
   "language": "python",
   "name": "python3"
  },
  "language_info": {
   "codemirror_mode": {
    "name": "ipython",
    "version": 3
   },
   "file_extension": ".py",
   "mimetype": "text/x-python",
   "name": "python",
   "nbconvert_exporter": "python",
   "pygments_lexer": "ipython3",
   "version": "3.11.5"
  }
 },
 "nbformat": 4,
 "nbformat_minor": 5
}
