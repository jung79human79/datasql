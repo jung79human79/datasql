{
 "cells": [
  {
   "cell_type": "code",
   "execution_count": 1,
   "id": "092d5c3e",
   "metadata": {
    "collapsed": true
   },
   "outputs": [
    {
     "name": "stdout",
     "output_type": "stream",
     "text": [
      "Requirement already satisfied: selenium in c:\\users\\smhrd\\anaconda3\\lib\\site-packages (4.18.1)\n",
      "Requirement already satisfied: urllib3[socks]<3,>=1.26 in c:\\users\\smhrd\\anaconda3\\lib\\site-packages (from selenium) (1.26.16)\n",
      "Requirement already satisfied: trio~=0.17 in c:\\users\\smhrd\\anaconda3\\lib\\site-packages (from selenium) (0.24.0)\n",
      "Requirement already satisfied: trio-websocket~=0.9 in c:\\users\\smhrd\\anaconda3\\lib\\site-packages (from selenium) (0.11.1)\n",
      "Requirement already satisfied: certifi>=2021.10.8 in c:\\users\\smhrd\\anaconda3\\lib\\site-packages (from selenium) (2023.7.22)\n",
      "Requirement already satisfied: typing_extensions>=4.9.0 in c:\\users\\smhrd\\anaconda3\\lib\\site-packages (from selenium) (4.9.0)\n",
      "Requirement already satisfied: attrs>=20.1.0 in c:\\users\\smhrd\\anaconda3\\lib\\site-packages (from trio~=0.17->selenium) (22.1.0)\n",
      "Requirement already satisfied: sortedcontainers in c:\\users\\smhrd\\anaconda3\\lib\\site-packages (from trio~=0.17->selenium) (2.4.0)\n",
      "Requirement already satisfied: idna in c:\\users\\smhrd\\anaconda3\\lib\\site-packages (from trio~=0.17->selenium) (3.4)\n",
      "Requirement already satisfied: outcome in c:\\users\\smhrd\\anaconda3\\lib\\site-packages (from trio~=0.17->selenium) (1.3.0.post0)\n",
      "Requirement already satisfied: sniffio>=1.3.0 in c:\\users\\smhrd\\anaconda3\\lib\\site-packages (from trio~=0.17->selenium) (1.3.0)\n",
      "Requirement already satisfied: cffi>=1.14 in c:\\users\\smhrd\\anaconda3\\lib\\site-packages (from trio~=0.17->selenium) (1.15.1)\n",
      "Requirement already satisfied: wsproto>=0.14 in c:\\users\\smhrd\\anaconda3\\lib\\site-packages (from trio-websocket~=0.9->selenium) (1.2.0)\n",
      "Requirement already satisfied: PySocks!=1.5.7,<2.0,>=1.5.6 in c:\\users\\smhrd\\anaconda3\\lib\\site-packages (from urllib3[socks]<3,>=1.26->selenium) (1.7.1)\n",
      "Requirement already satisfied: pycparser in c:\\users\\smhrd\\anaconda3\\lib\\site-packages (from cffi>=1.14->trio~=0.17->selenium) (2.21)\n",
      "Requirement already satisfied: h11<1,>=0.9.0 in c:\\users\\smhrd\\anaconda3\\lib\\site-packages (from wsproto>=0.14->trio-websocket~=0.9->selenium) (0.14.0)\n"
     ]
    }
   ],
   "source": [
    "!pip install selenium\n",
    "# 1.브라우저 역할을 하는 라이브러리 --> webdriver\n",
    "from selenium import webdriver as wb\n",
    "# 2. 컴용 키보드 라이브러리\n",
    "from selenium.webdriver.common.keys import Keys  #--> 대문자 주의\n",
    "#3.선택자를 구분지어 주는 라이브러리\n",
    "from selenium.webdriver.common.by import By   #--> 대문자 주의"
   ]
  },
  {
   "cell_type": "code",
   "execution_count": 2,
   "id": "dbf236ac",
   "metadata": {},
   "outputs": [],
   "source": [
    "#1.브라우저 실행해서 네이버 페이지 이동 \n",
    "# 대문자 주의\n",
    "driver = wb.Chrome()\n",
    "driver.get('https://www.naver.com/')"
   ]
  },
  {
   "cell_type": "code",
   "execution_count": 3,
   "id": "241f610a",
   "metadata": {},
   "outputs": [],
   "source": [
    "#2.검색창에 이강인 검색후 엔터 처서 내용보기\n",
    "# 검색창 태그는 한개 --> find_element\n",
    "\n",
    "search = driver.find_element(By.CSS_SELECTOR,'#query')\n",
    "search.send_keys('이강인')\n",
    "# 실행을 하기위해 ENTER\n",
    "search.send_keys(Keys.ENTER)"
   ]
  },
  {
   "cell_type": "code",
   "execution_count": null,
   "id": "aab9356e",
   "metadata": {},
   "outputs": [],
   "source": [
    "# 함수()안의 매개변수 --> , 와 . 의 차이\n",
    "# 함수(,) --> 복수개--> 별개의 요소\n",
    "# 함수(.) --> 객체구조 딕구조 복수개기 아니고 단수개--> 키.을 통해 앞의내용(키)을 포함하는 것\n",
    "# Keys. 탭누르면 다양한 포함요소가 자동완성 보인다"
   ]
  },
  {
   "cell_type": "code",
   "execution_count": 4,
   "id": "f57b1b73",
   "metadata": {},
   "outputs": [],
   "source": [
    "#3.메뉴상단에 뉴스탭을 클릭하기\n",
    "# 뉴스탭 태그는 한개 --> find_element\n",
    "\n",
    "btn = driver.find_element(By.CSS_SELECTOR,'#lnb > div.lnb_group > div > div.lnb_nav_area._nav_area_root > div > div.api_flicking_wrap._conveyer_root > div:nth-child(1) > a')\n",
    "btn.click()"
   ]
  },
  {
   "cell_type": "code",
   "execution_count": 9,
   "id": "87d7a312",
   "metadata": {},
   "outputs": [
    {
     "name": "stdout",
     "output_type": "stream",
     "text": [
      "10\n"
     ]
    },
    {
     "data": {
      "text/plain": [
       "['[속보]이강인, 런던서 손흥민 직접 만나 사죄했다 “절대로 해서는 안될 행동...',\n",
       " '이강인, 손흥민 찾아가 직접 사과 “절대 해선 안 될 행동”',\n",
       " '손흥민 \"강인이가 좋은 선수로 성장하도록 보살필 것\" [전문]',\n",
       " '이강인-손흥민 런던서 화해‥\"진심으로 사과\" \"너그러운 마음으로‥\"',\n",
       " '음바페, 이강인 생일에 SNS 남긴 메시지는…“생축, 마이 브로”',\n",
       " '“한국·PSG에 재앙” 佛보도에도…이강인, 웃으며 훈련',\n",
       " '사과받은 손흥민 \"강인이를 너그러운 마음으로 용서해달라\"',\n",
       " '“포위된 이강인, 한국·PSG 모두에 재앙”...프랑스 언론 분석은',\n",
       " '이강인 \"절대로 해선 안 될 행동... 손흥민 찾아가 직접 사과 했다\"',\n",
       " '\"성지순례 왔어요\"…5개월 전 \\'이강인 사주\\' 어땠길래']"
      ]
     },
     "execution_count": 9,
     "metadata": {},
     "output_type": "execute_result"
    }
   ],
   "source": [
    "#4.뉴스타이틀을 수집하고 순수한 텍스트 정보가 담긴 리스트 제작\n",
    "#sp_nws1 > div.news_wrap.api_ani_send > div > div.news_contents > a.news_tit\n",
    "# 주의 : driver.find_elements -->복수\n",
    "\n",
    "title = driver.find_elements(By.CSS_SELECTOR,'div.news_wrap.api_ani_send > div > div.news_contents > a.news_tit')\n",
    "print(len(title))\n",
    "title\n",
    "\n",
    "# 글자만 추출 --> 정제작업\n",
    "title_list=[]\n",
    "for i in title :\n",
    "    title_list.append(i.text.strip()) # i안의 글자 = .을 찍는다\n",
    "title_list"
   ]
  },
  {
   "cell_type": "code",
   "execution_count": null,
   "id": "0dcdc18d",
   "metadata": {},
   "outputs": [],
   "source": []
  },
  {
   "cell_type": "code",
   "execution_count": null,
   "id": "22a10628",
   "metadata": {},
   "outputs": [],
   "source": []
  },
  {
   "cell_type": "code",
   "execution_count": null,
   "id": "4e67ae55",
   "metadata": {},
   "outputs": [],
   "source": []
  },
  {
   "cell_type": "code",
   "execution_count": null,
   "id": "a2af2476",
   "metadata": {},
   "outputs": [],
   "source": []
  },
  {
   "cell_type": "code",
   "execution_count": null,
   "id": "243452cf",
   "metadata": {},
   "outputs": [],
   "source": []
  },
  {
   "cell_type": "code",
   "execution_count": null,
   "id": "2f82a035",
   "metadata": {},
   "outputs": [],
   "source": []
  },
  {
   "cell_type": "code",
   "execution_count": null,
   "id": "5f2c3ae6",
   "metadata": {},
   "outputs": [],
   "source": []
  },
  {
   "cell_type": "code",
   "execution_count": null,
   "id": "d4c031e0",
   "metadata": {},
   "outputs": [],
   "source": []
  }
 ],
 "metadata": {
  "kernelspec": {
   "display_name": "Python 3 (ipykernel)",
   "language": "python",
   "name": "python3"
  },
  "language_info": {
   "codemirror_mode": {
    "name": "ipython",
    "version": 3
   },
   "file_extension": ".py",
   "mimetype": "text/x-python",
   "name": "python",
   "nbconvert_exporter": "python",
   "pygments_lexer": "ipython3",
   "version": "3.11.5"
  }
 },
 "nbformat": 4,
 "nbformat_minor": 5
}
